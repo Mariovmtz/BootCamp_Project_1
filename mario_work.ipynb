{
 "cells": [
  {
   "cell_type": "code",
   "execution_count": 2,
   "metadata": {},
   "outputs": [],
   "source": [
    "#Libs imports\n",
    "import pandas as pd\n",
    "import datetime"
   ]
  },
  {
   "cell_type": "code",
   "execution_count": 3,
   "metadata": {},
   "outputs": [
    {
     "name": "stdout",
     "output_type": "stream",
     "text": [
      "race_id               6349\n",
      "date                  6349\n",
      "venue                 6349\n",
      "race_no               6349\n",
      "config                6349\n",
      "surface               6349\n",
      "distance              6349\n",
      "going                 6349\n",
      "horse_ratings         6349\n",
      "prize                 5887\n",
      "race_class            6349\n",
      "sec_time1             6349\n",
      "sec_time2             6349\n",
      "sec_time3             6349\n",
      "sec_time4             3634\n",
      "sec_time5              821\n",
      "sec_time6              115\n",
      "sec_time7                0\n",
      "time1                 6349\n",
      "time2                 6349\n",
      "time3                 6349\n",
      "time4                 3634\n",
      "time5                  821\n",
      "time6                  115\n",
      "time7                    0\n",
      "place_combination1    6349\n",
      "place_combination2    6349\n",
      "place_combination3    6324\n",
      "place_combination4      23\n",
      "place_dividend1       6349\n",
      "place_dividend2       6349\n",
      "place_dividend3       6324\n",
      "place_dividend4         23\n",
      "win_combination1      6349\n",
      "win_dividend1         6349\n",
      "win_combination2        12\n",
      "win_dividend2           12\n",
      "dtype: int64\n",
      "race_id            79447\n",
      "horse_no           79447\n",
      "horse_id           79447\n",
      "result             79447\n",
      "won                79447\n",
      "lengths_behind     79447\n",
      "horse_age          79447\n",
      "horse_country      79445\n",
      "horse_type         79445\n",
      "horse_rating       79447\n",
      "horse_gear         79447\n",
      "declared_weight    79447\n",
      "actual_weight      79447\n",
      "draw               79447\n",
      "position_sec1      79447\n",
      "position_sec2      79447\n",
      "position_sec3      79447\n",
      "position_sec4      46226\n",
      "position_sec5      10079\n",
      "position_sec6       1296\n",
      "behind_sec1        79447\n",
      "behind_sec2        79447\n",
      "behind_sec3        79447\n",
      "behind_sec4        46226\n",
      "behind_sec5        10079\n",
      "behind_sec6         1296\n",
      "time1              79447\n",
      "time2              79447\n",
      "time3              79447\n",
      "time4              46226\n",
      "time5              10079\n",
      "time6               1296\n",
      "finish_time        79447\n",
      "win_odds           79447\n",
      "place_odds         75712\n",
      "trainer_id         79447\n",
      "jockey_id          79447\n",
      "dtype: int64\n",
      "src                2367\n",
      "race_date          2367\n",
      "race_course        2367\n",
      "race_number        2367\n",
      "race_id            2367\n",
      "race_class         2367\n",
      "race_distance      2367\n",
      "track_condition    2367\n",
      "race_name          2367\n",
      "track              2367\n",
      "sectional_time     2367\n",
      "incident_report    2367\n",
      "dtype: int64\n",
      "finishing_position       30187\n",
      "horse_number             29851\n",
      "horse_name               30189\n",
      "horse_id                 30189\n",
      "jockey                   30189\n",
      "trainer                  30189\n",
      "actual_weight            30189\n",
      "declared_horse_weight    30189\n",
      "draw                     30189\n",
      "length_behind_winner     30189\n",
      "running_position_1       29574\n",
      "running_position_2       29560\n",
      "running_position_3       29542\n",
      "running_position_4       16618\n",
      "finish_time              30189\n",
      "win_odds                 30189\n",
      "running_position_5        3764\n",
      "running_position_6         549\n",
      "race_id                  30189\n",
      "dtype: int64\n"
     ]
    }
   ],
   "source": [
    "race_hk1_org = pd.read_csv(\"datasets/races.csv\")\n",
    "race_horse_hk1_org = pd.read_csv(\"datasets/runs.csv\")\n",
    "race_hk2_org = pd.read_csv(\"datasets/race-result-race.csv\")\n",
    "race_horse_hk2_org = pd.read_csv(\"datasets/race-result-horse.csv\")\n",
    "#race_ca = pd.read_csv(\"datasets/races_ca_woodbinew.csv\")\n",
    "\n",
    "print(race_hk1_org.count())\n",
    "print(race_horse_hk1_org.count())\n",
    "print(race_hk2_org.count())\n",
    "print(race_horse_hk2_org.count())"
   ]
  },
  {
   "cell_type": "code",
   "execution_count": 4,
   "metadata": {},
   "outputs": [],
   "source": [
    "race_hk1 = race_hk1_org[[\n",
    "            \"race_id\", \"date\", \"venue\", \"race_no\", \"config\", \"surface\", \"distance\", \"going\", \"horse_ratings\",\n",
    "            \"prize\", \"race_class\", \n",
    "            \"sec_time1\", \"sec_time2\", \"sec_time3\", \"sec_time4\", \"sec_time5\", \"sec_time6\", \"sec_time7\",\n",
    "            \"time1\", \"time2\", \"time3\", \"time4\", \"time5\", \"time6\", \"time7\",\n",
    "            \"place_combination1\",\"place_combination2\",\"place_combination3\",\"place_combination4\",\n",
    "            \"place_dividend1\", \"place_dividend2\", \"place_dividend3\", \"place_dividend4\",\n",
    "            \"win_combination1\", \"win_dividend1\", \"win_combination2\", \"win_dividend2\"\n",
    "            ]]\n",
    "\n",
    "race_hk2 = race_hk2_org[[\"src\", \"race_date\", \"race_course\", \"race_number\", \"race_id\", \"race_class\", \n",
    "                    \"race_distance\", \"track_condition\", \"race_name\", \"track\", \"sectional_time\", \"incident_report\"\n",
    "                        ]]\n",
    "    \n",
    "\n",
    "race_horse_hk1 = race_horse_hk1_org[[\n",
    "             \"race_id\", \"horse_no\", \"horse_id\", \"result\", \"won\", \"lengths_behind\", \"horse_age\", \n",
    "             \"horse_country\", \"horse_type\", \"horse_rating\", \"horse_gear\", \"declared_weight\", \"actual_weight\",\n",
    "             \"draw\", \"position_sec1\", \"position_sec2\", \"position_sec3\", \"position_sec4\", \"position_sec5\",\n",
    "             \"position_sec6\", \"behind_sec1\", \"behind_sec2\", \"behind_sec3\", \"behind_sec4\", \"behind_sec5\", \"behind_sec6\",\n",
    "             \"time1\",\"time2\",\"time3\",\"time4\",\"time5\",\"time6\", \"finish_time\", \"win_odds\", \"place_odds\",\n",
    "             \"trainer_id\", \"jockey_id\"\n",
    "             ]]\n",
    "\n",
    "race_horse_hk2 = race_horse_hk2_org[[\"finishing_position\", \"horse_number\", \"horse_name\", \"horse_id\", \"jockey\", \"trainer\", \n",
    "                     \"actual_weight\", \"declared_horse_weight\", \"draw\", \"length_behind_winner\",\n",
    "                     \"running_position_1\", \"running_position_2\", \"running_position_3\", \"running_position_4\",  \n",
    "                     \"finish_time\", \"win_odds\", \"running_position_5\", \"running_position_6\", \"race_id\"\n",
    "                      ]]\n"
   ]
  },
  {
   "cell_type": "code",
   "execution_count": 6,
   "metadata": {},
   "outputs": [
    {
     "name": "stdout",
     "output_type": "stream",
     "text": [
      "race_id        79447\n",
      "date           79447\n",
      "venue          79447\n",
      "race_no        79447\n",
      "config         79447\n",
      "               ...  \n",
      "finish_time    79447\n",
      "win_odds       79447\n",
      "place_odds     75712\n",
      "trainer_id     79447\n",
      "jockey_id      79447\n",
      "Length: 73, dtype: int64\n",
      "src                      30189\n",
      "race_date                30189\n",
      "race_course              30189\n",
      "race_number              30189\n",
      "race_id                  30189\n",
      "race_class               30189\n",
      "race_distance            30189\n",
      "track_condition          30189\n",
      "race_name                30189\n",
      "track                    30189\n",
      "sectional_time           30189\n",
      "incident_report          30189\n",
      "finishing_position       30187\n",
      "horse_number             29851\n",
      "horse_name               30189\n",
      "horse_id                 30189\n",
      "jockey                   30189\n",
      "trainer                  30189\n",
      "actual_weight            30189\n",
      "declared_horse_weight    30189\n",
      "draw                     30189\n",
      "length_behind_winner     30189\n",
      "running_position_1       29574\n",
      "running_position_2       29560\n",
      "running_position_3       29542\n",
      "running_position_4       16618\n",
      "finish_time              30189\n",
      "win_odds                 30189\n",
      "running_position_5        3764\n",
      "running_position_6         549\n",
      "dtype: int64\n"
     ]
    }
   ],
   "source": [
    "races_merged_hk1 = pd.merge(race_hk1, race_horse_hk1, on=\"race_id\")\n",
    "races_merged_hk2 = pd.merge(race_hk2, race_horse_hk2, on=\"race_id\")\n",
    "\n",
    "print(races_merged_hk1.count())\n",
    "print(races_merged_hk2.count())\n",
    "\n",
    "# Using this because not all the horses finish the race\n",
    "#races_merged_hk2_nodups = races_merged_hk2.dropna()"
   ]
  },
  {
   "cell_type": "code",
   "execution_count": 7,
   "metadata": {},
   "outputs": [],
   "source": [
    "#print(races_merged_hk2_nodup[races_merged_hk2_nodup['horse_number'].isnull()])\n",
    "races_merged_hk2 = races_merged_hk2.dropna(subset=['horse_number'])"
   ]
  },
  {
   "cell_type": "code",
   "execution_count": 8,
   "metadata": {},
   "outputs": [
    {
     "name": "stdout",
     "output_type": "stream",
     "text": [
      "79447\n",
      "29851\n",
      "src                      29519\n",
      "race_date                29519\n",
      "race_course              29519\n",
      "race_number              29519\n",
      "race_id                  29519\n",
      "race_class               29519\n",
      "race_distance            29519\n",
      "track_condition          29519\n",
      "race_name                29519\n",
      "track                    29519\n",
      "sectional_time           29519\n",
      "incident_report          29519\n",
      "finishing_position       29519\n",
      "horse_number             29519\n",
      "horse_name               29519\n",
      "horse_id                 29519\n",
      "jockey                   29519\n",
      "trainer                  29519\n",
      "actual_weight            29519\n",
      "declared_horse_weight    29519\n",
      "draw                     29519\n",
      "length_behind_winner     29519\n",
      "running_position_1       29519\n",
      "running_position_2       29519\n",
      "running_position_3       29519\n",
      "running_position_4       16612\n",
      "finish_time              29519\n",
      "win_odds                 29519\n",
      "running_position_5        3763\n",
      "running_position_6         549\n",
      "dtype: int64\n",
      "29519\n"
     ]
    },
    {
     "name": "stderr",
     "output_type": "stream",
     "text": [
      "/home/mario/anaconda3/lib/python3.7/site-packages/ipykernel_launcher.py:15: SettingWithCopyWarning: \n",
      "A value is trying to be set on a copy of a slice from a DataFrame.\n",
      "Try using .loc[row_indexer,col_indexer] = value instead\n",
      "\n",
      "See the caveats in the documentation: https://pandas.pydata.org/pandas-docs/stable/user_guide/indexing.html#returning-a-view-versus-a-copy\n",
      "  from ipykernel import kernelapp as app\n",
      "/home/mario/anaconda3/lib/python3.7/site-packages/ipykernel_launcher.py:17: SettingWithCopyWarning: \n",
      "A value is trying to be set on a copy of a slice from a DataFrame.\n",
      "Try using .loc[row_indexer,col_indexer] = value instead\n",
      "\n",
      "See the caveats in the documentation: https://pandas.pydata.org/pandas-docs/stable/user_guide/indexing.html#returning-a-view-versus-a-copy\n",
      "/home/mario/anaconda3/lib/python3.7/site-packages/ipykernel_launcher.py:18: SettingWithCopyWarning: \n",
      "A value is trying to be set on a copy of a slice from a DataFrame.\n",
      "Try using .loc[row_indexer,col_indexer] = value instead\n",
      "\n",
      "See the caveats in the documentation: https://pandas.pydata.org/pandas-docs/stable/user_guide/indexing.html#returning-a-view-versus-a-copy\n"
     ]
    }
   ],
   "source": [
    "print(len(races_merged_hk1[[\"race_id\", \"race_no\", \"horse_no\"]].drop_duplicates()))\n",
    "print(len(races_merged_hk2[[\"race_id\", \"race_number\", \"horse_number\"]].drop_duplicates()))\n",
    "\n",
    "\n",
    "races_merged_hk2_nodup = races_merged_hk2.loc[~(races_merged_hk2[\"finishing_position\"].isin([\"WX\", \"PU\",\n",
    "                                                                                          \"WV-A\",\"WV\",\n",
    "                                                                                          \"UR\",\"FE\",\n",
    "                                                                                          \"TNP\", \"DISQ\",\n",
    "                                                                                          \"WX-A\", \"DNF\"                                                                                          \n",
    "                                                                                          ]))]\n",
    "\n",
    "print(races_merged_hk2_nodup.count())\n",
    "print(len(races_merged_hk2_nodup[[\"race_id\", \"race_number\", \"horse_number\"]].drop_duplicates()))\n",
    "\n",
    "races_merged_hk2_nodup[\"finishing_position\"] = races_merged_hk2_nodup[\"finishing_position\"].str.replace(\"DH\",\"\").astype(float)\n",
    "races_merged_hk1[\"date\"] = pd.to_datetime(races_merged_hk1[\"date\"]) + pd.to_timedelta('4123 days')\n",
    "races_merged_hk2_nodup[\"horse_number\"] = races_merged_hk2_nodup[\"horse_number\"].astype(int)\n",
    "races_merged_hk2_nodup[\"race_date\"] = pd.to_datetime(races_merged_hk2_nodup[\"race_date\"]) "
   ]
  },
  {
   "cell_type": "code",
   "execution_count": 9,
   "metadata": {},
   "outputs": [
    {
     "name": "stdout",
     "output_type": "stream",
     "text": [
      "race_id        79447\n",
      "date           79447\n",
      "venue          79447\n",
      "race_no        79447\n",
      "config         79447\n",
      "               ...  \n",
      "finish_time    79447\n",
      "win_odds       79447\n",
      "place_odds     75712\n",
      "trainer_id     79447\n",
      "jockey_id      79447\n",
      "Length: 73, dtype: int64\n",
      "src                      29519\n",
      "race_date                29519\n",
      "race_course              29519\n",
      "race_number              29519\n",
      "race_id                  29519\n",
      "race_class               29519\n",
      "race_distance            29519\n",
      "track_condition          29519\n",
      "race_name                29519\n",
      "track                    29519\n",
      "sectional_time           29519\n",
      "incident_report          29519\n",
      "finishing_position       29519\n",
      "horse_number             29519\n",
      "horse_name               29519\n",
      "horse_id                 29519\n",
      "jockey                   29519\n",
      "trainer                  29519\n",
      "actual_weight            29519\n",
      "declared_horse_weight    29519\n",
      "draw                     29519\n",
      "length_behind_winner     29519\n",
      "running_position_1       29519\n",
      "running_position_2       29519\n",
      "running_position_3       29519\n",
      "running_position_4       16612\n",
      "finish_time              29519\n",
      "win_odds                 29519\n",
      "running_position_5        3763\n",
      "running_position_6         549\n",
      "dtype: int64\n",
      "race_no                   int64\n",
      "horse_no                  int64\n",
      "distance                  int64\n",
      "actual_weight             int64\n",
      "date             datetime64[ns]\n",
      "dtype: object\n",
      "race_number               int64\n",
      "horse_number              int64\n",
      "race_distance             int64\n",
      "race_date        datetime64[ns]\n",
      "dtype: object\n"
     ]
    }
   ],
   "source": [
    "print(races_merged_hk1.count())\n",
    "print(races_merged_hk2_nodup.count())\n",
    "print(races_merged_hk1[[\"race_no\", \"horse_no\", \"distance\", \"actual_weight\", \"date\"]].dtypes)\n",
    "print(races_merged_hk2_nodup[[\"race_number\", \"horse_number\", \"race_distance\", \"race_date\"]].dtypes)"
   ]
  },
  {
   "cell_type": "code",
   "execution_count": 10,
   "metadata": {},
   "outputs": [],
   "source": [
    "final_df = pd.merge(races_merged_hk1, races_merged_hk2_nodup, how=\"inner\", left_on = [\"race_no\", \"horse_no\", \"date\"],\n",
    "                   right_on = [\"race_number\", \"horse_number\", \"race_date\"])\n",
    "\n",
    "final_df.count()\n",
    "\n",
    "final_df.to_csv(\"final.csv\")"
   ]
  },
  {
   "cell_type": "code",
   "execution_count": 11,
   "metadata": {},
   "outputs": [
    {
     "name": "stdout",
     "output_type": "stream",
     "text": [
      "race_id_x             22544\n",
      "date                  22544\n",
      "venue                 22544\n",
      "race_no               22544\n",
      "config                22544\n",
      "                      ...  \n",
      "running_position_4    12758\n",
      "finish_time_y         22544\n",
      "win_odds_y            22544\n",
      "running_position_5     2878\n",
      "running_position_6      378\n",
      "Length: 103, dtype: int64\n",
      "22544\n"
     ]
    }
   ],
   "source": [
    "print(final_df.count())\n",
    "print(len(final_df[[\"race_id_x\", \"race_no\", \"horse_no\"]].drop_duplicates()))\n"
   ]
  },
  {
   "cell_type": "code",
   "execution_count": 62,
   "metadata": {},
   "outputs": [
    {
     "data": {
      "text/plain": [
       "1801"
      ]
     },
     "execution_count": 62,
     "metadata": {},
     "output_type": "execute_result"
    }
   ],
   "source": [
    "dist_df = final_df[[\"race_id_x\", \"date\", \"venue\", \"race_course\", \"race_no\", \"config\", \n",
    "                    \"surface\", \"distance\", \"going\",\"prize\",\"race_class_x\",\n",
    "                    \"track\", \"race_name\", \"track_condition\", \"race_distance\", \"race_class_y\"\n",
    "                   ]].drop_duplicates()\n",
    "# number of races to analyze\n",
    "dist_df.count()\n",
    "len(dist_df[\"race_id_x\"].drop_duplicates())\n"
   ]
  },
  {
   "cell_type": "code",
   "execution_count": 50,
   "metadata": {},
   "outputs": [
    {
     "data": {
      "image/png": "[encoded data removed]",
      "text/plain": [
       "<Figure size 360x360 with 1 Axes>"
      ]
     },
     "metadata": {
      "needs_background": "light"
     },
     "output_type": "display_data"
    }
   ],
   "source": [
    "def plotHistogramSize(df, ylabel, xlabel, title, xSize, ySize, color):\n",
    "    graph = df.plot(kind=\"bar\", figsize=(xSize,ySize), color=color)\n",
    "    graph.set_ylabel = ylabel\n",
    "    graph.set_xlabel = xlabel\n",
    "    graph.set_title(title)\n",
    "\n",
    "       \n",
    "group_track = dist_df.groupby(\"race_course\").size()\n",
    "plotHistogramSize (group_track, \"Number of races\", \"Race Course\", \"Race Course distribution\", 5,5,\"g\")"
   ]
  },
  {
   "cell_type": "code",
   "execution_count": 51,
   "metadata": {},
   "outputs": [
    {
     "data": {
      "image/png": "[encoded data removed]",
      "text/plain": [
       "<Figure size 360x360 with 1 Axes>"
      ]
     },
     "metadata": {
      "needs_background": "light"
     },
     "output_type": "display_data"
    }
   ],
   "source": [
    "group_race = dist_df.groupby(\"race_no\").size()\n",
    "plotHistogramSize (group_race, \"Number of races\", \"race_no\", \"Number of races\", 5,5,\"g\")\n",
    "\n"
   ]
  },
  {
   "cell_type": "code",
   "execution_count": 52,
   "metadata": {},
   "outputs": [
    {
     "data": {
      "image/png": "[encoded data removed]",
      "text/plain": [
       "<Figure size 360x360 with 1 Axes>"
      ]
     },
     "metadata": {
      "needs_background": "light"
     },
     "output_type": "display_data"
    }
   ],
   "source": [
    "group_config = dist_df.groupby(\"config\").size()\n",
    "plotHistogramSize (group_config, \"Number of races\", \"Config\", \"Config distribution\", 5,5,\"g\")"
   ]
  },
  {
   "cell_type": "code",
   "execution_count": 53,
   "metadata": {},
   "outputs": [
    {
     "data": {
      "image/png": "[encoded data removed]",
      "text/plain": [
       "<Figure size 360x360 with 1 Axes>"
      ]
     },
     "metadata": {
      "needs_background": "light"
     },
     "output_type": "display_data"
    }
   ],
   "source": [
    "group_surface= dist_df.groupby(\"surface\").size()\n",
    "plotHistogramSize (group_surface, \"Number of races\", \"surface\", \"Surface distribution\", 5,5,\"g\")"
   ]
  },
  {
   "cell_type": "code",
   "execution_count": 54,
   "metadata": {},
   "outputs": [
    {
     "data": {
      "image/png": "[encoded data removed]",
      "text/plain": [
       "<Figure size 360x360 with 1 Axes>"
      ]
     },
     "metadata": {
      "needs_background": "light"
     },
     "output_type": "display_data"
    }
   ],
   "source": [
    "group_distance = dist_df.groupby(\"distance\").size()\n",
    "plotHistogramSize (group_distance, \"Number of races\", \"distance\", \"Distance distribution\", 5,5,\"g\")"
   ]
  },
  {
   "cell_type": "code",
   "execution_count": 55,
   "metadata": {},
   "outputs": [
    {
     "data": {
      "image/png": "[encoded data removed]",
      "text/plain": [
       "<Figure size 360x360 with 1 Axes>"
      ]
     },
     "metadata": {
      "needs_background": "light"
     },
     "output_type": "display_data"
    }
   ],
   "source": [
    "group_going = dist_df.groupby(\"going\").size()\n",
    "plotHistogramSize (group_going, \"Number of races\", \"going\", \"Going distribution\", 5,5,\"g\")"
   ]
  },
  {
   "cell_type": "code",
   "execution_count": 56,
   "metadata": {},
   "outputs": [
    {
     "data": {
      "image/png": "[encoded data removed]",
      "text/plain": [
       "<Figure size 864x360 with 1 Axes>"
      ]
     },
     "metadata": {
      "needs_background": "light"
     },
     "output_type": "display_data"
    }
   ],
   "source": [
    "group_prize = dist_df.groupby(\"prize\").size()\n",
    "plotHistogramSize (group_prize, \"Number of races\", \"prize\", \"Prize distribution\", 12,5,\"g\")"
   ]
  },
  {
   "cell_type": "code",
   "execution_count": 58,
   "metadata": {},
   "outputs": [
    {
     "data": {
      "image/png": "[encoded data removed]",
      "text/plain": [
       "<Figure size 864x360 with 1 Axes>"
      ]
     },
     "metadata": {
      "needs_background": "light"
     },
     "output_type": "display_data"
    }
   ],
   "source": [
    "group_class = dist_df.groupby(\"race_class_x\").size()\n",
    "plotHistogramSize (group_class, \"Number of races\", \"class\", \"class distribution\", 12,5,\"g\")"
   ]
  },
  {
   "cell_type": "code",
   "execution_count": 59,
   "metadata": {},
   "outputs": [
    {
     "data": {
      "image/png": "[encoded data removed]",
      "text/plain": [
       "<Figure size 864x360 with 1 Axes>"
      ]
     },
     "metadata": {
      "needs_background": "light"
     },
     "output_type": "display_data"
    }
   ],
   "source": [
    "group_track = dist_df.groupby(\"track\").size()\n",
    "plotHistogramSize (group_track, \"Number of races\", \"track\", \"class distribution\", 12,5,\"g\")"
   ]
  },
  {
   "cell_type": "code",
   "execution_count": 64,
   "metadata": {},
   "outputs": [
    {
     "data": {
      "image/png": "[encoded data removed]",
      "text/plain": [
       "<Figure size 864x360 with 1 Axes>"
      ]
     },
     "metadata": {
      "needs_background": "light"
     },
     "output_type": "display_data"
    }
   ],
   "source": [
    "group_class = dist_df.groupby(\"race_class_y\").size()\n",
    "plotHistogramSize (group_class, \"Number of races\", \"race class\", \"race class distribution\", 12,5,\"g\")"
   ]
  },
  {
   "cell_type": "code",
   "execution_count": 65,
   "metadata": {},
   "outputs": [],
   "source": [
    "final_df[\"speed_mseg\"] = final_df[\"distance\"]  / final_df[\"finish_time_x\"]  "
   ]
  },
  {
   "cell_type": "code",
   "execution_count": 106,
   "metadata": {},
   "outputs": [
    {
     "data": {
      "text/html": [
       "<div>\n",
       "<style scoped>\n",
       "    .dataframe tbody tr th:only-of-type {\n",
       "        vertical-align: middle;\n",
       "    }\n",
       "\n",
       "    .dataframe tbody tr th {\n",
       "        vertical-align: top;\n",
       "    }\n",
       "\n",
       "    .dataframe thead th {\n",
       "        text-align: right;\n",
       "    }\n",
       "</style>\n",
       "<table border=\"1\" class=\"dataframe\">\n",
       "  <thead>\n",
       "    <tr style=\"text-align: right;\">\n",
       "      <th></th>\n",
       "      <th>actual_weight_x</th>\n",
       "      <th>speed_mseg</th>\n",
       "    </tr>\n",
       "  </thead>\n",
       "  <tbody>\n",
       "    <tr>\n",
       "      <th>0</th>\n",
       "      <td>103</td>\n",
       "      <td>16.653366</td>\n",
       "    </tr>\n",
       "    <tr>\n",
       "      <th>1</th>\n",
       "      <td>104</td>\n",
       "      <td>16.262585</td>\n",
       "    </tr>\n",
       "    <tr>\n",
       "      <th>2</th>\n",
       "      <td>105</td>\n",
       "      <td>16.871956</td>\n",
       "    </tr>\n",
       "    <tr>\n",
       "      <th>3</th>\n",
       "      <td>106</td>\n",
       "      <td>16.320667</td>\n",
       "    </tr>\n",
       "    <tr>\n",
       "      <th>4</th>\n",
       "      <td>107</td>\n",
       "      <td>16.631189</td>\n",
       "    </tr>\n",
       "    <tr>\n",
       "      <th>5</th>\n",
       "      <td>108</td>\n",
       "      <td>16.509848</td>\n",
       "    </tr>\n",
       "    <tr>\n",
       "      <th>6</th>\n",
       "      <td>109</td>\n",
       "      <td>16.682102</td>\n",
       "    </tr>\n",
       "    <tr>\n",
       "      <th>7</th>\n",
       "      <td>110</td>\n",
       "      <td>16.760581</td>\n",
       "    </tr>\n",
       "    <tr>\n",
       "      <th>8</th>\n",
       "      <td>111</td>\n",
       "      <td>16.522833</td>\n",
       "    </tr>\n",
       "    <tr>\n",
       "      <th>9</th>\n",
       "      <td>112</td>\n",
       "      <td>16.547771</td>\n",
       "    </tr>\n",
       "    <tr>\n",
       "      <th>10</th>\n",
       "      <td>113</td>\n",
       "      <td>16.482754</td>\n",
       "    </tr>\n",
       "    <tr>\n",
       "      <th>11</th>\n",
       "      <td>114</td>\n",
       "      <td>16.558139</td>\n",
       "    </tr>\n",
       "    <tr>\n",
       "      <th>12</th>\n",
       "      <td>115</td>\n",
       "      <td>16.577874</td>\n",
       "    </tr>\n",
       "    <tr>\n",
       "      <th>13</th>\n",
       "      <td>116</td>\n",
       "      <td>16.524991</td>\n",
       "    </tr>\n",
       "    <tr>\n",
       "      <th>14</th>\n",
       "      <td>117</td>\n",
       "      <td>16.551999</td>\n",
       "    </tr>\n",
       "    <tr>\n",
       "      <th>15</th>\n",
       "      <td>118</td>\n",
       "      <td>16.506497</td>\n",
       "    </tr>\n",
       "    <tr>\n",
       "      <th>16</th>\n",
       "      <td>119</td>\n",
       "      <td>16.516540</td>\n",
       "    </tr>\n",
       "    <tr>\n",
       "      <th>17</th>\n",
       "      <td>120</td>\n",
       "      <td>16.495576</td>\n",
       "    </tr>\n",
       "    <tr>\n",
       "      <th>18</th>\n",
       "      <td>121</td>\n",
       "      <td>16.535063</td>\n",
       "    </tr>\n",
       "    <tr>\n",
       "      <th>19</th>\n",
       "      <td>122</td>\n",
       "      <td>16.511761</td>\n",
       "    </tr>\n",
       "    <tr>\n",
       "      <th>20</th>\n",
       "      <td>123</td>\n",
       "      <td>16.559852</td>\n",
       "    </tr>\n",
       "    <tr>\n",
       "      <th>21</th>\n",
       "      <td>124</td>\n",
       "      <td>16.541656</td>\n",
       "    </tr>\n",
       "    <tr>\n",
       "      <th>22</th>\n",
       "      <td>125</td>\n",
       "      <td>16.519084</td>\n",
       "    </tr>\n",
       "    <tr>\n",
       "      <th>23</th>\n",
       "      <td>126</td>\n",
       "      <td>16.550881</td>\n",
       "    </tr>\n",
       "    <tr>\n",
       "      <th>24</th>\n",
       "      <td>127</td>\n",
       "      <td>16.558113</td>\n",
       "    </tr>\n",
       "    <tr>\n",
       "      <th>25</th>\n",
       "      <td>128</td>\n",
       "      <td>16.580778</td>\n",
       "    </tr>\n",
       "    <tr>\n",
       "      <th>26</th>\n",
       "      <td>129</td>\n",
       "      <td>16.541720</td>\n",
       "    </tr>\n",
       "    <tr>\n",
       "      <th>27</th>\n",
       "      <td>130</td>\n",
       "      <td>16.602677</td>\n",
       "    </tr>\n",
       "    <tr>\n",
       "      <th>28</th>\n",
       "      <td>131</td>\n",
       "      <td>16.532357</td>\n",
       "    </tr>\n",
       "    <tr>\n",
       "      <th>29</th>\n",
       "      <td>132</td>\n",
       "      <td>16.609030</td>\n",
       "    </tr>\n",
       "    <tr>\n",
       "      <th>30</th>\n",
       "      <td>133</td>\n",
       "      <td>16.578446</td>\n",
       "    </tr>\n",
       "  </tbody>\n",
       "</table>\n",
       "</div>"
      ],
      "text/plain": [
       "    actual_weight_x  speed_mseg\n",
       "0               103   16.653366\n",
       "1               104   16.262585\n",
       "2               105   16.871956\n",
       "3               106   16.320667\n",
       "4               107   16.631189\n",
       "5               108   16.509848\n",
       "6               109   16.682102\n",
       "7               110   16.760581\n",
       "8               111   16.522833\n",
       "9               112   16.547771\n",
       "10              113   16.482754\n",
       "11              114   16.558139\n",
       "12              115   16.577874\n",
       "13              116   16.524991\n",
       "14              117   16.551999\n",
       "15              118   16.506497\n",
       "16              119   16.516540\n",
       "17              120   16.495576\n",
       "18              121   16.535063\n",
       "19              122   16.511761\n",
       "20              123   16.559852\n",
       "21              124   16.541656\n",
       "22              125   16.519084\n",
       "23              126   16.550881\n",
       "24              127   16.558113\n",
       "25              128   16.580778\n",
       "26              129   16.541720\n",
       "27              130   16.602677\n",
       "28              131   16.532357\n",
       "29              132   16.609030\n",
       "30              133   16.578446"
      ]
     },
     "execution_count": 106,
     "metadata": {},
     "output_type": "execute_result"
    },
    {
     "data": {
      "image/png": "[encoded data removed]",
      "text/plain": [
       "<Figure size 432x288 with 1 Axes>"
      ]
     },
     "metadata": {
      "needs_background": "light"
     },
     "output_type": "display_data"
    }
   ],
   "source": [
    "# Generate a scatter \n",
    "filtered_df = final_df.loc[final_df[\"race_class_x\"] == 5]\n",
    "\n",
    "df = filtered_df.groupby([\"actual_weight_x\"])[\"speed_mseg\"].mean()\n",
    "df = df.reset_index()\n",
    "df.plot(kind=\"scatter\", x=\"actual_weight_x\", y=\"speed_mseg\")\n",
    "\n",
    "df"
   ]
  },
  {
   "cell_type": "code",
   "execution_count": 87,
   "metadata": {},
   "outputs": [
    {
     "data": {
      "text/html": [
       "<div>\n",
       "<style scoped>\n",
       "    .dataframe tbody tr th:only-of-type {\n",
       "        vertical-align: middle;\n",
       "    }\n",
       "\n",
       "    .dataframe tbody tr th {\n",
       "        vertical-align: top;\n",
       "    }\n",
       "\n",
       "    .dataframe thead th {\n",
       "        text-align: right;\n",
       "    }\n",
       "</style>\n",
       "<table border=\"1\" class=\"dataframe\">\n",
       "  <thead>\n",
       "    <tr style=\"text-align: right;\">\n",
       "      <th></th>\n",
       "      <th>declared_weight</th>\n",
       "      <th>speed_mseg</th>\n",
       "    </tr>\n",
       "  </thead>\n",
       "  <tbody>\n",
       "    <tr>\n",
       "      <th>0</th>\n",
       "      <td>902.0</td>\n",
       "      <td>16.556291</td>\n",
       "    </tr>\n",
       "    <tr>\n",
       "      <th>1</th>\n",
       "      <td>905.0</td>\n",
       "      <td>16.248154</td>\n",
       "    </tr>\n",
       "    <tr>\n",
       "      <th>2</th>\n",
       "      <td>914.0</td>\n",
       "      <td>16.453382</td>\n",
       "    </tr>\n",
       "    <tr>\n",
       "      <th>3</th>\n",
       "      <td>915.0</td>\n",
       "      <td>16.168149</td>\n",
       "    </tr>\n",
       "    <tr>\n",
       "      <th>4</th>\n",
       "      <td>916.0</td>\n",
       "      <td>16.375234</td>\n",
       "    </tr>\n",
       "    <tr>\n",
       "      <th>...</th>\n",
       "      <td>...</td>\n",
       "      <td>...</td>\n",
       "    </tr>\n",
       "    <tr>\n",
       "      <th>385</th>\n",
       "      <td>1313.0</td>\n",
       "      <td>17.035775</td>\n",
       "    </tr>\n",
       "    <tr>\n",
       "      <th>386</th>\n",
       "      <td>1315.0</td>\n",
       "      <td>17.424132</td>\n",
       "    </tr>\n",
       "    <tr>\n",
       "      <th>387</th>\n",
       "      <td>1318.0</td>\n",
       "      <td>16.692500</td>\n",
       "    </tr>\n",
       "    <tr>\n",
       "      <th>388</th>\n",
       "      <td>1326.0</td>\n",
       "      <td>15.989340</td>\n",
       "    </tr>\n",
       "    <tr>\n",
       "      <th>389</th>\n",
       "      <td>1365.0</td>\n",
       "      <td>17.371164</td>\n",
       "    </tr>\n",
       "  </tbody>\n",
       "</table>\n",
       "<p>390 rows × 2 columns</p>\n",
       "</div>"
      ],
      "text/plain": [
       "     declared_weight  speed_mseg\n",
       "0              902.0   16.556291\n",
       "1              905.0   16.248154\n",
       "2              914.0   16.453382\n",
       "3              915.0   16.168149\n",
       "4              916.0   16.375234\n",
       "..               ...         ...\n",
       "385           1313.0   17.035775\n",
       "386           1315.0   17.424132\n",
       "387           1318.0   16.692500\n",
       "388           1326.0   15.989340\n",
       "389           1365.0   17.371164\n",
       "\n",
       "[390 rows x 2 columns]"
      ]
     },
     "execution_count": 87,
     "metadata": {},
     "output_type": "execute_result"
    },
    {
     "data": {
      "image/png": "[encoded data removed]",
      "text/plain": [
       "<Figure size 432x288 with 1 Axes>"
      ]
     },
     "metadata": {
      "needs_background": "light"
     },
     "output_type": "display_data"
    }
   ],
   "source": [
    "# Generate a scatter \n",
    "df = final_df.groupby([\"declared_weight\"])[\"speed_mseg\"].mean()\n",
    "df = df.reset_index()\n",
    "df.plot(kind=\"scatter\", x=\"declared_weight\", y=\"speed_mseg\")\n",
    "\n",
    "df"
   ]
  },
  {
   "cell_type": "code",
   "execution_count": 98,
   "metadata": {},
   "outputs": [
    {
     "data": {
      "text/plain": [
       "<matplotlib.axes._subplots.AxesSubplot at 0x7fa378810690>"
      ]
     },
     "execution_count": 98,
     "metadata": {},
     "output_type": "execute_result"
    },
    {
     "data": {
      "image/png": "[encoded data removed]",
      "text/plain": [
       "<Figure size 432x288 with 1 Axes>"
      ]
     },
     "metadata": {
      "needs_background": "light"
     },
     "output_type": "display_data"
    }
   ],
   "source": [
    "df = final_df.groupby([\"distance\"])[\"speed_mseg\"].mean()\n",
    "df = df.reset_index()\n",
    "\n",
    "df.plot(kind=\"scatter\", x=\"distance\", y=\"speed_mseg\")"
   ]
  },
  {
   "cell_type": "code",
   "execution_count": 111,
   "metadata": {},
   "outputs": [
    {
     "data": {
      "text/plain": [
       "<matplotlib.axes._subplots.AxesSubplot at 0x7fa37ae54d10>"
      ]
     },
     "execution_count": 111,
     "metadata": {},
     "output_type": "execute_result"
    },
    {
     "data": {
      "image/png": "[encoded data removed]",
      "text/plain": [
       "<Figure size 432x288 with 1 Axes>"
      ]
     },
     "metadata": {
      "needs_background": "light"
     },
     "output_type": "display_data"
    }
   ],
   "source": [
    "filtered_df = final_df.loc[final_df[\"distance\"] == 2000]\n",
    "df = filtered_df.groupby([\"race_class_x\"])[\"speed_mseg\"].mean()\n",
    "df = df.reset_index()\n",
    "\n",
    "df.plot(kind=\"scatter\", x=\"race_class_x\", y=\"speed_mseg\")"
   ]
  },
  {
   "cell_type": "code",
   "execution_count": 112,
   "metadata": {},
   "outputs": [
    {
     "data": {
      "text/plain": [
       "<matplotlib.axes._subplots.AxesSubplot at 0x7fa37a5e7890>"
      ]
     },
     "execution_count": 112,
     "metadata": {},
     "output_type": "execute_result"
    },
    {
     "data": {
      "image/png": "[encoded data removed]",
      "text/plain": [
       "<Figure size 432x288 with 1 Axes>"
      ]
     },
     "metadata": {
      "needs_background": "light"
     },
     "output_type": "display_data"
    }
   ],
   "source": [
    "df = final_df.groupby([\"race_class_x\"])[\"declared_weight\"].mean()\n",
    "df = df.reset_index()\n",
    "\n",
    "df.plot(kind=\"scatter\", x=\"race_class_x\", y=\"declared_weight\")"
   ]
  },
  {
   "cell_type": "code",
   "execution_count": 115,
   "metadata": {},
   "outputs": [
    {
     "data": {
      "image/png": "[encoded data removed]",
      "text/plain": [
       "<Figure size 864x360 with 1 Axes>"
      ]
     },
     "metadata": {
      "needs_background": "light"
     },
     "output_type": "display_data"
    }
   ],
   "source": [
    "group_class = final_df.groupby(\"horse_ratings\")[\"horse_id_y\"].count()\n",
    "plotHistogramSize (group_class, \"Number of races\", \"race class\", \"race class distribution\", 12,5,\"g\")"
   ]
  },
  {
   "cell_type": "code",
   "execution_count": 116,
   "metadata": {},
   "outputs": [
    {
     "data": {
      "text/plain": [
       "<matplotlib.axes._subplots.AxesSubplot at 0x7fa37458c190>"
      ]
     },
     "execution_count": 116,
     "metadata": {},
     "output_type": "execute_result"
    },
    {
     "data": {
      "image/png": "[encoded data removed]",
      "text/plain": [
       "<Figure size 432x288 with 1 Axes>"
      ]
     },
     "metadata": {
      "needs_background": "light"
     },
     "output_type": "display_data"
    }
   ],
   "source": [
    "df = final_df.groupby([\"race_class_x\"])[\"actual_weight_x\"].mean()\n",
    "df = df.reset_index()\n",
    "\n",
    "df.plot(kind=\"scatter\", x=\"race_class_x\", y=\"actual_weight_x\")"
   ]
  },
  {
   "cell_type": "code",
   "execution_count": null,
   "metadata": {},
   "outputs": [],
   "source": []
  }
 ],
 "metadata": {
  "kernelspec": {
   "display_name": "Python 3",
   "language": "python",
   "name": "python3"
  },
  "language_info": {
   "codemirror_mode": {
    "name": "ipython",
    "version": 3
   },
   "file_extension": ".py",
   "mimetype": "text/x-python",
   "name": "python",
   "nbconvert_exporter": "python",
   "pygments_lexer": "ipython3",
   "version": "3.7.6"
  }
 },
 "nbformat": 4,
 "nbformat_minor": 4
}
