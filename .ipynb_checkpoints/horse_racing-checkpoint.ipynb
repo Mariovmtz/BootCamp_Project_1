{
 "cells": [
  {
   "cell_type": "markdown",
   "metadata": {},
   "source": [
    "# DATA GATHERING AND CLEANING \n",
    "\n",
    "The data for our analysis comes from 5 different datasets, our first activity was to clean all of them and structure them in a single useful dataset with all the needed fields for further analysis.\n",
    "\n",
    "1. All of our data was extracted from kaggle, data can be found in the following links:\n",
    "2. Horse Racing in Hong Kong - https://www.kaggle.com/gdaley/hkracing  \n",
    "3. Hong Kong Horse Racing Results 2014-2017 -https://www.kaggle.com/lantanacamara/hong-kong-horse-racing  \n",
    "\n",
    "Our raw data consist of the following files:\n",
    "\n",
    "### 1st set of data:\n",
    "- race_hk_1.csv - each row represents a race, data can be merged without problem with race_id.\n",
    "- race_horse_hk_1.csv - each row represents a horse in a race, data can be merged using race_id.\n",
    "\n",
    "### 2nd set of data:\n",
    "- race_hk_2.csv - each row represents a race, data can be merged without problem with race_id\n",
    "- race_horse_hk_2.csv - each row represents a horse in a race, data can be merged using race_id.\n",
    "\n"
   ]
  },
  {
   "cell_type": "code",
   "execution_count": 39,
   "metadata": {},
   "outputs": [],
   "source": [
    "#import \n",
    "import pandas as pd\n",
    "import datetime\n",
    "import scipy.stats as sts\n",
    "from scipy.stats import linregress\n",
    "import matplotlib.pyplot as plt\n",
    "import numpy as np"
   ]
  },
  {
   "cell_type": "code",
   "execution_count": 2,
   "metadata": {},
   "outputs": [],
   "source": [
    "race_hk1_org = pd.read_csv(\"datasets/races.csv\")\n",
    "race_horse_hk1_org = pd.read_csv(\"datasets/runs.csv\")\n",
    "race_hk2_org = pd.read_csv(\"datasets/race-result-race.csv\")\n",
    "race_horse_hk2_org = pd.read_csv(\"datasets/race-result-horse.csv\")"
   ]
  },
  {
   "cell_type": "code",
   "execution_count": 3,
   "metadata": {},
   "outputs": [],
   "source": [
    "race_hk1 = race_hk1_org[[\n",
    "            \"race_id\", \"date\", \"race_no\", \"config\", \"surface\", \"distance\", \"going\", \"horse_ratings\",\n",
    "            \"prize\", \"race_class\", \n",
    "\n",
    "            ]]\n",
    "\n",
    "race_hk2 = race_hk2_org[[\"race_date\", \"race_course\", \"race_number\", \"race_id\", \"race_class\", \n",
    "                         \"track_condition\", \"race_name\", \"track\"\n",
    "                        ]]\n",
    "    \n",
    "\n",
    "race_horse_hk1 = race_horse_hk1_org[[\n",
    "             \"race_id\", \"horse_no\", \"horse_id\", \"result\", \"won\", \"lengths_behind\", \"horse_age\", \n",
    "             \"horse_country\", \"horse_type\", \"horse_rating\", \"horse_gear\", \"declared_weight\", \"actual_weight\",\n",
    "             \"draw\", \"finish_time\", \"win_odds\", \"place_odds\"\n",
    "             ]]\n",
    "\n",
    "race_horse_hk2 = race_horse_hk2_org[[\"horse_number\", \"horse_name\", \"horse_id\", \"jockey\", \"trainer\", \n",
    "                                     \"race_id\"\n",
    "                      ]]\n"
   ]
  },
  {
   "cell_type": "code",
   "execution_count": 4,
   "metadata": {},
   "outputs": [
    {
     "name": "stdout",
     "output_type": "stream",
     "text": [
      "race_id            79447\n",
      "date               79447\n",
      "race_no            79447\n",
      "config             79447\n",
      "surface            79447\n",
      "distance           79447\n",
      "going              79447\n",
      "horse_ratings      79447\n",
      "prize              73598\n",
      "race_class         79447\n",
      "horse_no           79447\n",
      "horse_id           79447\n",
      "result             79447\n",
      "won                79447\n",
      "lengths_behind     79447\n",
      "horse_age          79447\n",
      "horse_country      79445\n",
      "horse_type         79445\n",
      "horse_rating       79447\n",
      "horse_gear         79447\n",
      "declared_weight    79447\n",
      "actual_weight      79447\n",
      "draw               79447\n",
      "finish_time        79447\n",
      "win_odds           79447\n",
      "place_odds         75712\n",
      "dtype: int64\n",
      "race_date          30189\n",
      "race_course        30189\n",
      "race_number        30189\n",
      "race_id            30189\n",
      "race_class         30189\n",
      "track_condition    30189\n",
      "race_name          30189\n",
      "track              30189\n",
      "horse_number       29851\n",
      "horse_name         30189\n",
      "horse_id           30189\n",
      "jockey             30189\n",
      "trainer            30189\n",
      "dtype: int64\n"
     ]
    }
   ],
   "source": [
    "races_merged_hk1 = pd.merge(race_hk1, race_horse_hk1, on=\"race_id\")\n",
    "races_merged_hk2 = pd.merge(race_hk2, race_horse_hk2, on=\"race_id\")\n",
    "\n",
    "print(races_merged_hk1.count())\n",
    "print(races_merged_hk2.count())"
   ]
  },
  {
   "cell_type": "code",
   "execution_count": 5,
   "metadata": {},
   "outputs": [],
   "source": [
    "races_merged_hk2 = races_merged_hk2.dropna(subset=['horse_number'])"
   ]
  },
  {
   "cell_type": "code",
   "execution_count": 10,
   "metadata": {},
   "outputs": [
    {
     "name": "stdout",
     "output_type": "stream",
     "text": [
      "79447\n",
      "29851\n",
      "race_date          29851\n",
      "race_course        29851\n",
      "race_number        29851\n",
      "race_id            29851\n",
      "race_class         29851\n",
      "track_condition    29851\n",
      "race_name          29851\n",
      "track              29851\n",
      "horse_number       29851\n",
      "horse_name         29851\n",
      "horse_id           29851\n",
      "jockey             29851\n",
      "trainer            29851\n",
      "dtype: int64\n",
      "29851\n"
     ]
    }
   ],
   "source": [
    "print(len(races_merged_hk1[[\"race_id\", \"race_no\", \"horse_no\"]].drop_duplicates()))\n",
    "print(len(races_merged_hk2[[\"race_id\", \"race_number\", \"horse_number\"]].drop_duplicates()))\n",
    "\n",
    "\n",
    "print(races_merged_hk2.count())\n",
    "print(len(races_merged_hk2[[\"race_id\", \"race_number\", \"horse_number\"]].drop_duplicates()))\n",
    "\n",
    "races_merged_hk1[\"date\"] = pd.to_datetime(races_merged_hk1[\"date\"]) + pd.to_timedelta('4123 days')\n",
    "races_merged_hk2[\"horse_number\"] = races_merged_hk2[\"horse_number\"].astype(int)\n",
    "races_merged_hk2[\"race_date\"] = pd.to_datetime(races_merged_hk2[\"race_date\"])"
   ]
  },
  {
   "cell_type": "code",
   "execution_count": 13,
   "metadata": {},
   "outputs": [
    {
     "name": "stdout",
     "output_type": "stream",
     "text": [
      "race_id            79447\n",
      "date               79447\n",
      "race_no            79447\n",
      "config             79447\n",
      "surface            79447\n",
      "distance           79447\n",
      "going              79447\n",
      "horse_ratings      79447\n",
      "prize              73598\n",
      "race_class         79447\n",
      "horse_no           79447\n",
      "horse_id           79447\n",
      "result             79447\n",
      "won                79447\n",
      "lengths_behind     79447\n",
      "horse_age          79447\n",
      "horse_country      79445\n",
      "horse_type         79445\n",
      "horse_rating       79447\n",
      "horse_gear         79447\n",
      "declared_weight    79447\n",
      "actual_weight      79447\n",
      "draw               79447\n",
      "finish_time        79447\n",
      "win_odds           79447\n",
      "place_odds         75712\n",
      "dtype: int64\n",
      "race_date          29851\n",
      "race_course        29851\n",
      "race_number        29851\n",
      "race_id            29851\n",
      "race_class         29851\n",
      "track_condition    29851\n",
      "race_name          29851\n",
      "track              29851\n",
      "horse_number       29851\n",
      "horse_name         29851\n",
      "horse_id           29851\n",
      "jockey             29851\n",
      "trainer            29851\n",
      "dtype: int64\n",
      "race_no                   int64\n",
      "horse_no                  int64\n",
      "distance                  int64\n",
      "actual_weight             int64\n",
      "date             datetime64[ns]\n",
      "dtype: object\n",
      "race_number              int64\n",
      "horse_number             int64\n",
      "race_date       datetime64[ns]\n",
      "dtype: object\n"
     ]
    }
   ],
   "source": [
    "print(races_merged_hk1.count())\n",
    "print(races_merged_hk2.count())\n",
    "print(races_merged_hk1[[\"race_no\", \"horse_no\", \"distance\", \"actual_weight\", \"date\"]].dtypes)\n",
    "print(races_merged_hk2[[\"race_number\", \"horse_number\", \"race_date\"]].dtypes)\n"
   ]
  },
  {
   "cell_type": "code",
   "execution_count": 15,
   "metadata": {},
   "outputs": [],
   "source": [
    "final_df = pd.merge(races_merged_hk1, races_merged_hk2, how=\"inner\", left_on = [\"race_no\", \"horse_no\", \"date\"],\n",
    "                   right_on = [\"race_number\", \"horse_number\", \"race_date\"])\n",
    "\n",
    "final_df.count()\n",
    "\n",
    "final_df.to_csv(\"final.csv\")"
   ]
  },
  {
   "cell_type": "code",
   "execution_count": null,
   "metadata": {},
   "outputs": [],
   "source": [
    "print(final_df.count())\n",
    "print(len(final_df[[\"race_id_x\", \"race_no\", \"horse_no\"]].drop_duplicates()))"
   ]
  },
  {
   "cell_type": "code",
   "execution_count": 28,
   "metadata": {},
   "outputs": [],
   "source": [
    "final_df=final_df.rename(columns={\"race_id_x\":\"Race_id\",\n",
    "                                 \"date\":\"Date\",\n",
    "                                 \"race_no\":\"Race_no\",\n",
    "                                 \"distance\":\"Distance\",\n",
    "                                 \"going\":\"Surface_condition\",\n",
    "                                 \"prize\":\"Prize\",\n",
    "                                 \"horse_no\":\"Horse_no\",\n",
    "                                 \"horse_id_y\":\"Horse_id\",\n",
    "                                 \"result\":\"Final_position\",\n",
    "                                 \"won\":\"Won\",\n",
    "                                 \"horse_age\":\"Horse_age\",\n",
    "                                 \"horse_country\":\"Horse_country\",\n",
    "                                 \"horse_type\":\"Horse_type\",\n",
    "                                 \"actual_weight\":\"Actual_weight\",\n",
    "                                 \"finish_time\":\"Finish_time\",\n",
    "                                 \"race_course\":\"Course\",\n",
    "                                 \"race_class\":\"Class\",                                \n",
    "                                 \"race_name\":\"Race_name\",\n",
    "                                 \"track\":\"Track\",\n",
    "                                 \"horse_name\":\"Horse_name\",\n",
    "                                 \"jockey\":\"Jockey\",\n",
    "                                 \"trainer\":\"Trainer\",\n",
    "                                 \"declared_horse_weight\":\"Declared_weight\",\n",
    "                                 })"
   ]
  },
  {
   "cell_type": "markdown",
   "metadata": {},
   "source": [
    "TERMINA LIMPIEZA DE INFORMACION\n",
    "--------------------------------------------------------"
   ]
  },
  {
   "cell_type": "markdown",
   "metadata": {},
   "source": [
    "# EXPLORACION DE DATOS\n"
   ]
  },
  {
   "cell_type": "markdown",
   "metadata": {},
   "source": [
    "### MARTIN WORK"
   ]
  },
  {
   "cell_type": "code",
   "execution_count": 34,
   "metadata": {},
   "outputs": [
    {
     "data": {
      "text/html": [
       "<div>\n",
       "<style scoped>\n",
       "    .dataframe tbody tr th:only-of-type {\n",
       "        vertical-align: middle;\n",
       "    }\n",
       "\n",
       "    .dataframe tbody tr th {\n",
       "        vertical-align: top;\n",
       "    }\n",
       "\n",
       "    .dataframe thead th {\n",
       "        text-align: right;\n",
       "    }\n",
       "</style>\n",
       "<table border=\"1\" class=\"dataframe\">\n",
       "  <thead>\n",
       "    <tr style=\"text-align: right;\">\n",
       "      <th></th>\n",
       "      <th>Win Rate</th>\n",
       "      <th># of Horses</th>\n",
       "    </tr>\n",
       "    <tr>\n",
       "      <th>Horse_country</th>\n",
       "      <th></th>\n",
       "      <th></th>\n",
       "    </tr>\n",
       "  </thead>\n",
       "  <tbody>\n",
       "    <tr>\n",
       "      <th>SAF</th>\n",
       "      <td>9.01</td>\n",
       "      <td>222</td>\n",
       "    </tr>\n",
       "    <tr>\n",
       "      <th>AUS</th>\n",
       "      <td>8.58</td>\n",
       "      <td>8657</td>\n",
       "    </tr>\n",
       "    <tr>\n",
       "      <th>JPN</th>\n",
       "      <td>8.47</td>\n",
       "      <td>59</td>\n",
       "    </tr>\n",
       "    <tr>\n",
       "      <th>NZ</th>\n",
       "      <td>8.32</td>\n",
       "      <td>6872</td>\n",
       "    </tr>\n",
       "    <tr>\n",
       "      <th>USA</th>\n",
       "      <td>7.73</td>\n",
       "      <td>686</td>\n",
       "    </tr>\n",
       "    <tr>\n",
       "      <th>GB</th>\n",
       "      <td>7.59</td>\n",
       "      <td>2054</td>\n",
       "    </tr>\n",
       "    <tr>\n",
       "      <th>IRE</th>\n",
       "      <td>6.87</td>\n",
       "      <td>3190</td>\n",
       "    </tr>\n",
       "    <tr>\n",
       "      <th>ARG</th>\n",
       "      <td>5.88</td>\n",
       "      <td>17</td>\n",
       "    </tr>\n",
       "    <tr>\n",
       "      <th>ITY</th>\n",
       "      <td>5.26</td>\n",
       "      <td>57</td>\n",
       "    </tr>\n",
       "    <tr>\n",
       "      <th>FR</th>\n",
       "      <td>4.62</td>\n",
       "      <td>606</td>\n",
       "    </tr>\n",
       "    <tr>\n",
       "      <th>GER</th>\n",
       "      <td>4.13</td>\n",
       "      <td>121</td>\n",
       "    </tr>\n",
       "    <tr>\n",
       "      <th>CAN</th>\n",
       "      <td>0.00</td>\n",
       "      <td>1</td>\n",
       "    </tr>\n",
       "    <tr>\n",
       "      <th>SPA</th>\n",
       "      <td>0.00</td>\n",
       "      <td>2</td>\n",
       "    </tr>\n",
       "  </tbody>\n",
       "</table>\n",
       "</div>"
      ],
      "text/plain": [
       "               Win Rate  # of Horses\n",
       "Horse_country                       \n",
       "SAF                9.01          222\n",
       "AUS                8.58         8657\n",
       "JPN                8.47           59\n",
       "NZ                 8.32         6872\n",
       "USA                7.73          686\n",
       "GB                 7.59         2054\n",
       "IRE                6.87         3190\n",
       "ARG                5.88           17\n",
       "ITY                5.26           57\n",
       "FR                 4.62          606\n",
       "GER                4.13          121\n",
       "CAN                0.00            1\n",
       "SPA                0.00            2"
      ]
     },
     "execution_count": 34,
     "metadata": {},
     "output_type": "execute_result"
    }
   ],
   "source": [
    "ctry=round(pd.DataFrame(final_df.groupby(\"Horse_country\")[\"Won\"].mean())*100,2)\n",
    "ctry=ctry.rename(columns={\"Won\":\"Win Rate\",\"Horse_country\":\"Country\"})\n",
    "ctry[\"# of Horses\"]=final_df.groupby(\"Horse_country\")[\"Horse_id\"].count()\n",
    "ctry=ctry.sort_values(by=\"Win Rate\",ascending=False)\n",
    "saf=final_df.query(\"Horse_country=='SAF'\")\n",
    "safmode=saf[\"Actual_weight\"].mode()\n",
    "ctry\n",
    "\n"
   ]
  },
  {
   "cell_type": "code",
   "execution_count": 35,
   "metadata": {},
   "outputs": [],
   "source": [
    "rr=final_df.drop_duplicates(\"Horse_id\")\n",
    "r40=rr.query(\"horse_rating<40\")\n",
    "r60=rr.query(\"horse_rating>40 and horse_rating<=60\")\n",
    "r80=rr.query(\"horse_rating>60 and horse_rating<=80\")\n",
    "r100=rr.query(\"horse_rating>80 and horse_rating<=100\")"
   ]
  },
  {
   "cell_type": "code",
   "execution_count": 40,
   "metadata": {},
   "outputs": [
    {
     "name": "stdout",
     "output_type": "stream",
     "text": [
      "The r-squared is: 0.9724864657291215\n"
     ]
    },
    {
     "data": {
      "image/png": "[encoded data removed]",
      "text/plain": [
       "<Figure size 432x288 with 1 Axes>"
      ]
     },
     "metadata": {
      "needs_background": "light"
     },
     "output_type": "display_data"
    }
   ],
   "source": [
    "#HACER FUNCION\n",
    "\n",
    "x_values = r40[\"horse_rating\"]\n",
    "y_values = r40[\"Actual_weight\"]\n",
    "(slope, intercept, rvalue, pvalue, stderr) = linregress(x_values, y_values)\n",
    "regress_values = x_values * slope + intercept\n",
    "line_eq = \"y = \" + str(round(slope,2)) + \"x + \" + str(round(intercept,2))\n",
    "plt.scatter(x_values,y_values)\n",
    "plt.plot(x_values,regress_values,\"r-\")\n",
    "plt.annotate(line_eq,(25,105),fontsize=15,color=\"red\")\n",
    "plt.xlabel('Horse Rating')\n",
    "plt.ylabel('Actual weight')\n",
    "print(f\"The r-squared is: {rvalue}\")\n",
    "plt.show()\n",
    "\n"
   ]
  },
  {
   "cell_type": "code",
   "execution_count": 41,
   "metadata": {},
   "outputs": [
    {
     "name": "stdout",
     "output_type": "stream",
     "text": [
      "The r-squared is: 0.14646500938136114\n"
     ]
    },
    {
     "data": {
      "image/png": "[encoded data removed]",
      "text/plain": [
       "<Figure size 432x288 with 1 Axes>"
      ]
     },
     "metadata": {
      "needs_background": "light"
     },
     "output_type": "display_data"
    }
   ],
   "source": [
    "x_values = r60[\"horse_rating\"]\n",
    "y_values = r60[\"Actual_weight\"]\n",
    "(slope, intercept, rvalue, pvalue, stderr) = linregress(x_values, y_values)\n",
    "regress_values = x_values * slope + intercept\n",
    "line_eq = \"y = \" + str(round(slope,2)) + \"x + \" + str(round(intercept,2))\n",
    "plt.scatter(x_values,y_values)\n",
    "plt.plot(x_values,regress_values,\"r-\")\n",
    "plt.annotate(line_eq,(47.5,105),fontsize=15,color=\"red\")\n",
    "plt.xlabel('Horse Rating')\n",
    "plt.ylabel('Actual weight')\n",
    "print(f\"The r-squared is: {rvalue}\")\n",
    "plt.show()"
   ]
  },
  {
   "cell_type": "code",
   "execution_count": 42,
   "metadata": {},
   "outputs": [
    {
     "name": "stdout",
     "output_type": "stream",
     "text": [
      "The r-squared is: 0.8622084992506608\n"
     ]
    },
    {
     "data": {
      "image/png": "[encoded data removed]",
      "text/plain": [
       "<Figure size 432x288 with 1 Axes>"
      ]
     },
     "metadata": {
      "needs_background": "light"
     },
     "output_type": "display_data"
    }
   ],
   "source": [
    "x_values = r80[\"horse_rating\"]\n",
    "y_values = r80[\"Actual_weight\"]\n",
    "(slope, intercept, rvalue, pvalue, stderr) = linregress(x_values, y_values)\n",
    "regress_values = x_values * slope + intercept\n",
    "line_eq = \"y = \" + str(round(slope,2)) + \"x + \" + str(round(intercept,2))\n",
    "plt.scatter(x_values,y_values)\n",
    "plt.plot(x_values,regress_values,\"r-\")\n",
    "plt.annotate(line_eq,(67,105),fontsize=15,color=\"red\")\n",
    "plt.xlabel('Horse Rating')\n",
    "plt.ylabel('Actual weight')\n",
    "print(f\"The r-squared is: {rvalue}\")\n",
    "plt.show()\n",
    "\n"
   ]
  },
  {
   "cell_type": "code",
   "execution_count": 43,
   "metadata": {},
   "outputs": [
    {
     "name": "stdout",
     "output_type": "stream",
     "text": [
      "The r-squared is: 0.253455815654013\n"
     ]
    },
    {
     "data": {
      "image/png": "[encoded data removed]",
      "text/plain": [
       "<Figure size 432x288 with 1 Axes>"
      ]
     },
     "metadata": {
      "needs_background": "light"
     },
     "output_type": "display_data"
    }
   ],
   "source": [
    "x_values = r100[\"horse_rating\"]\n",
    "y_values = r100[\"Actual_weight\"]\n",
    "(slope, intercept, rvalue, pvalue, stderr) = linregress(x_values, y_values)\n",
    "regress_values = x_values * slope + intercept\n",
    "line_eq = \"y = \" + str(round(slope,2)) + \"x + \" + str(round(intercept,2))\n",
    "plt.scatter(x_values,y_values)\n",
    "plt.plot(x_values,regress_values,\"r-\")\n",
    "plt.annotate(line_eq,(92.5,103),fontsize=15,color=\"red\")\n",
    "plt.xlabel('Horse Rating')\n",
    "plt.ylabel('Actual weight')\n",
    "print(f\"The r-squared is: {rvalue}\")\n",
    "plt.show()\n",
    "\n"
   ]
  },
  {
   "cell_type": "code",
   "execution_count": 51,
   "metadata": {},
   "outputs": [
    {
     "data": {
      "text/html": [
       "<div>\n",
       "<style scoped>\n",
       "    .dataframe tbody tr th:only-of-type {\n",
       "        vertical-align: middle;\n",
       "    }\n",
       "\n",
       "    .dataframe tbody tr th {\n",
       "        vertical-align: top;\n",
       "    }\n",
       "\n",
       "    .dataframe thead th {\n",
       "        text-align: right;\n",
       "    }\n",
       "</style>\n",
       "<table border=\"1\" class=\"dataframe\">\n",
       "  <thead>\n",
       "    <tr style=\"text-align: right;\">\n",
       "      <th></th>\n",
       "      <th>horse_rating</th>\n",
       "    </tr>\n",
       "  </thead>\n",
       "  <tbody>\n",
       "    <tr>\n",
       "      <th>41-60</th>\n",
       "      <td>10116</td>\n",
       "    </tr>\n",
       "    <tr>\n",
       "      <th>61-80</th>\n",
       "      <td>6477</td>\n",
       "    </tr>\n",
       "    <tr>\n",
       "      <th>81-130</th>\n",
       "      <td>3311</td>\n",
       "    </tr>\n",
       "    <tr>\n",
       "      <th>0-40</th>\n",
       "      <td>2640</td>\n",
       "    </tr>\n",
       "  </tbody>\n",
       "</table>\n",
       "</div>"
      ],
      "text/plain": [
       "        horse_rating\n",
       "41-60          10116\n",
       "61-80           6477\n",
       "81-130          3311\n",
       "0-40            2640"
      ]
     },
     "execution_count": 51,
     "metadata": {},
     "output_type": "execute_result"
    }
   ],
   "source": [
    "ratings.head()"
   ]
  },
  {
   "cell_type": "code",
   "execution_count": 54,
   "metadata": {},
   "outputs": [
    {
     "ename": "SpecificationError",
     "evalue": "nested renamer is not supported",
     "output_type": "error",
     "traceback": [
      "\u001b[0;31m---------------------------------------------------------------------------\u001b[0m",
      "\u001b[0;31mSpecificationError\u001b[0m                        Traceback (most recent call last)",
      "\u001b[0;32m<ipython-input-54-b3e3328aeedb>\u001b[0m in \u001b[0;36m<module>\u001b[0;34m\u001b[0m\n\u001b[1;32m      3\u001b[0m \u001b[0mlabels\u001b[0m\u001b[0;34m=\u001b[0m\u001b[0;34m[\u001b[0m\u001b[0;34m\"0-40\"\u001b[0m\u001b[0;34m,\u001b[0m\u001b[0;34m\"41-60\"\u001b[0m\u001b[0;34m,\u001b[0m\u001b[0;34m\"61-80\"\u001b[0m\u001b[0;34m,\u001b[0m\u001b[0;34m\"81-130\"\u001b[0m\u001b[0;34m]\u001b[0m\u001b[0;34m\u001b[0m\u001b[0;34m\u001b[0m\u001b[0m\n\u001b[1;32m      4\u001b[0m \u001b[0mratings\u001b[0m\u001b[0;34m=\u001b[0m\u001b[0mpd\u001b[0m\u001b[0;34m.\u001b[0m\u001b[0mDataFrame\u001b[0m\u001b[0;34m(\u001b[0m\u001b[0mpd\u001b[0m\u001b[0;34m.\u001b[0m\u001b[0mcut\u001b[0m\u001b[0;34m(\u001b[0m\u001b[0mrating\u001b[0m\u001b[0;34m[\u001b[0m\u001b[0;34m\"horse_rating\"\u001b[0m\u001b[0;34m]\u001b[0m\u001b[0;34m,\u001b[0m\u001b[0mbins\u001b[0m\u001b[0;34m=\u001b[0m\u001b[0mbins\u001b[0m\u001b[0;34m,\u001b[0m\u001b[0mlabels\u001b[0m\u001b[0;34m=\u001b[0m\u001b[0mlabels\u001b[0m\u001b[0;34m)\u001b[0m\u001b[0;34m.\u001b[0m\u001b[0mvalue_counts\u001b[0m\u001b[0;34m(\u001b[0m\u001b[0;34m)\u001b[0m\u001b[0;34m)\u001b[0m\u001b[0;34m\u001b[0m\u001b[0;34m\u001b[0m\u001b[0m\n\u001b[0;32m----> 5\u001b[0;31m \u001b[0mrating\u001b[0m\u001b[0;34m.\u001b[0m\u001b[0mgroupby\u001b[0m\u001b[0;34m(\u001b[0m\u001b[0mpd\u001b[0m\u001b[0;34m.\u001b[0m\u001b[0mcut\u001b[0m\u001b[0;34m(\u001b[0m\u001b[0mrating\u001b[0m\u001b[0;34m[\u001b[0m\u001b[0;34m\"horse_rating\"\u001b[0m\u001b[0;34m]\u001b[0m\u001b[0;34m,\u001b[0m\u001b[0mbins\u001b[0m\u001b[0;34m=\u001b[0m\u001b[0mbins\u001b[0m\u001b[0;34m,\u001b[0m\u001b[0mlabels\u001b[0m\u001b[0;34m=\u001b[0m\u001b[0mlabels\u001b[0m\u001b[0;34m)\u001b[0m\u001b[0;34m)\u001b[0m\u001b[0;34m.\u001b[0m\u001b[0magg\u001b[0m\u001b[0;34m(\u001b[0m\u001b[0;34m{\u001b[0m\u001b[0;34m'Declared_weight'\u001b[0m\u001b[0;34m:\u001b[0m\u001b[0;34m'mean'\u001b[0m\u001b[0;34m}\u001b[0m\u001b[0;34m)\u001b[0m\u001b[0;34m\u001b[0m\u001b[0;34m\u001b[0m\u001b[0m\n\u001b[0m\u001b[1;32m      6\u001b[0m \u001b[0;34m\u001b[0m\u001b[0m\n\u001b[1;32m      7\u001b[0m \u001b[0;31m#ratings['Declared weight mean (lb)']=round(rating.groupby(pd.cut(rating[\"horse_rating\"],bins=bins,labels=labels)).agg({'Declared_weight':'mean'}),2)\u001b[0m\u001b[0;34m\u001b[0m\u001b[0;34m\u001b[0m\u001b[0;34m\u001b[0m\u001b[0m\n",
      "\u001b[0;32m~/anaconda3/lib/python3.7/site-packages/pandas/core/groupby/generic.py\u001b[0m in \u001b[0;36maggregate\u001b[0;34m(self, func, *args, **kwargs)\u001b[0m\n\u001b[1;32m    938\u001b[0m         \u001b[0mfunc\u001b[0m \u001b[0;34m=\u001b[0m \u001b[0m_maybe_mangle_lambdas\u001b[0m\u001b[0;34m(\u001b[0m\u001b[0mfunc\u001b[0m\u001b[0;34m)\u001b[0m\u001b[0;34m\u001b[0m\u001b[0;34m\u001b[0m\u001b[0m\n\u001b[1;32m    939\u001b[0m \u001b[0;34m\u001b[0m\u001b[0m\n\u001b[0;32m--> 940\u001b[0;31m         \u001b[0mresult\u001b[0m\u001b[0;34m,\u001b[0m \u001b[0mhow\u001b[0m \u001b[0;34m=\u001b[0m \u001b[0mself\u001b[0m\u001b[0;34m.\u001b[0m\u001b[0m_aggregate\u001b[0m\u001b[0;34m(\u001b[0m\u001b[0mfunc\u001b[0m\u001b[0;34m,\u001b[0m \u001b[0;34m*\u001b[0m\u001b[0margs\u001b[0m\u001b[0;34m,\u001b[0m \u001b[0;34m**\u001b[0m\u001b[0mkwargs\u001b[0m\u001b[0;34m)\u001b[0m\u001b[0;34m\u001b[0m\u001b[0;34m\u001b[0m\u001b[0m\n\u001b[0m\u001b[1;32m    941\u001b[0m         \u001b[0;32mif\u001b[0m \u001b[0mhow\u001b[0m \u001b[0;32mis\u001b[0m \u001b[0;32mNone\u001b[0m\u001b[0;34m:\u001b[0m\u001b[0;34m\u001b[0m\u001b[0;34m\u001b[0m\u001b[0m\n\u001b[1;32m    942\u001b[0m             \u001b[0;32mreturn\u001b[0m \u001b[0mresult\u001b[0m\u001b[0;34m\u001b[0m\u001b[0;34m\u001b[0m\u001b[0m\n",
      "\u001b[0;32m~/anaconda3/lib/python3.7/site-packages/pandas/core/base.py\u001b[0m in \u001b[0;36m_aggregate\u001b[0;34m(self, arg, *args, **kwargs)\u001b[0m\n\u001b[1;32m    364\u001b[0m                     \u001b[0mobj\u001b[0m\u001b[0;34m.\u001b[0m\u001b[0mcolumns\u001b[0m\u001b[0;34m.\u001b[0m\u001b[0mintersection\u001b[0m\u001b[0;34m(\u001b[0m\u001b[0mkeys\u001b[0m\u001b[0;34m)\u001b[0m\u001b[0;34m\u001b[0m\u001b[0;34m\u001b[0m\u001b[0m\n\u001b[1;32m    365\u001b[0m                 ) != len(keys):\n\u001b[0;32m--> 366\u001b[0;31m                     \u001b[0;32mraise\u001b[0m \u001b[0mSpecificationError\u001b[0m\u001b[0;34m(\u001b[0m\u001b[0;34m\"nested renamer is not supported\"\u001b[0m\u001b[0;34m)\u001b[0m\u001b[0;34m\u001b[0m\u001b[0;34m\u001b[0m\u001b[0m\n\u001b[0m\u001b[1;32m    367\u001b[0m \u001b[0;34m\u001b[0m\u001b[0m\n\u001b[1;32m    368\u001b[0m             \u001b[0;32mfrom\u001b[0m \u001b[0mpandas\u001b[0m\u001b[0;34m.\u001b[0m\u001b[0mcore\u001b[0m\u001b[0;34m.\u001b[0m\u001b[0mreshape\u001b[0m\u001b[0;34m.\u001b[0m\u001b[0mconcat\u001b[0m \u001b[0;32mimport\u001b[0m \u001b[0mconcat\u001b[0m\u001b[0;34m\u001b[0m\u001b[0;34m\u001b[0m\u001b[0m\n",
      "\u001b[0;31mSpecificationError\u001b[0m: nested renamer is not supported"
     ]
    }
   ],
   "source": [
    "rating=final_df\n",
    "bins=[0,40,60,80,150]\n",
    "labels=[\"0-40\",\"41-60\",\"61-80\",\"81-130\"]\n",
    "ratings=pd.DataFrame(pd.cut(rating[\"horse_rating\"],bins=bins,labels=labels).value_counts())\n",
    "rating.groupby(pd.cut(rating[\"horse_rating\"],bins=bins,labels=labels)).agg({'Declared_weight':'mean'})\n",
    "\n",
    "#ratings['Declared weight mean (lb)']=round(rating.groupby(pd.cut(rating[\"horse_rating\"],bins=bins,labels=labels)).agg({'Declared_weight':'mean'}),2)\n",
    "#ratings['Actual weight mode (lb)']=[129,125,120,126]\n",
    "#ratings['Prize $']=rating.groupby(pd.cut(rating[\"horse_rating\"],bins=bins,labels=labels)).agg({'Prize':'mean'})\n",
    "#ratings['Prize $']=ratings['Prize $'].apply(lambda x: '%.0f' % x)\n",
    "#ratings=ratings.sort_index()\n",
    "#ratings=ratings.rename(columns={\"horse_rating\":\"Number of Horses\"})\n",
    "#ratings"
   ]
  },
  {
   "cell_type": "markdown",
   "metadata": {},
   "source": []
  }
 ],
 "metadata": {
  "kernelspec": {
   "display_name": "Python 3",
   "language": "python",
   "name": "python3"
  },
  "language_info": {
   "codemirror_mode": {
    "name": "ipython",
    "version": 3
   },
   "file_extension": ".py",
   "mimetype": "text/x-python",
   "name": "python",
   "nbconvert_exporter": "python",
   "pygments_lexer": "ipython3",
   "version": "3.7.6"
  }
 },
 "nbformat": 4,
 "nbformat_minor": 4
}
