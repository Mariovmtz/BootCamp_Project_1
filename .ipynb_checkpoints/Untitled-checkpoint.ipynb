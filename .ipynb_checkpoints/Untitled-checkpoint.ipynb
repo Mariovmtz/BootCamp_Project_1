{
 "cells": [
  {
   "cell_type": "code",
   "execution_count": null,
   "metadata": {},
   "outputs": [],
   "source": [
    "#Martin Work"
   ]
  },
  {
   "cell_type": "code",
   "execution_count": 2,
   "metadata": {},
   "outputs": [],
   "source": [
    "import pandas as pd\n",
    "import matplotlib.pyplot as plt\n",
    "import numpy as np\n",
    "import requests"
   ]
  },
  {
   "cell_type": "code",
   "execution_count": 3,
   "metadata": {
    "scrolled": true
   },
   "outputs": [],
   "source": [
    "runs=pd.read_csv(\"runs.csv\")\n",
    "race=pd.read_csv(\"races.csv\")\n",
    "canada=pd.read_csv(\"woodbine_horses.csv\")"
   ]
  },
  {
   "cell_type": "code",
   "execution_count": null,
   "metadata": {},
   "outputs": [],
   "source": [
    "del runs([\"\"])"
   ]
  },
  {
   "cell_type": "code",
   "execution_count": 4,
   "metadata": {},
   "outputs": [
    {
     "data": {
      "image/png": "[encoded data removed]",
      "text/plain": [
       "<Figure size 432x288 with 1 Axes>"
      ]
     },
     "metadata": {
      "needs_background": "light"
     },
     "output_type": "display_data"
    }
   ],
   "source": [
    "racecount=pd.DataFrame(runs.groupby(\"horse_id\")[\"race_id\"].count())\n",
    "hor=runs.drop_duplicates(\"horse_id\")\n",
    "country=pd.DataFrame(hor.groupby(\"horse_country\")[\"horse_id\"].count())\n",
    "country=country.sort_values(by=\"horse_id\",ascending=False)\n",
    "BarPandas=country.plot.bar()"
   ]
  },
  {
   "cell_type": "code",
   "execution_count": 5,
   "metadata": {
    "scrolled": false
   },
   "outputs": [
    {
     "data": {
      "text/plain": [
       "<matplotlib.axes._subplots.AxesSubplot at 0x138c8457808>"
      ]
     },
     "execution_count": 5,
     "metadata": {},
     "output_type": "execute_result"
    },
    {
     "data": {
      "image/png": "[encoded data removed]",
      "text/plain": [
       "<Figure size 432x288 with 1 Axes>"
      ]
     },
     "metadata": {
      "needs_background": "light"
     },
     "output_type": "display_data"
    }
   ],
   "source": [
    "P=pd.DataFrame(runs.groupby('actual_weight')['won'].mean()).sort_values(by=\"won\",ascending=False)\n",
    "P.plot.bar()"
   ]
  },
  {
   "cell_type": "code",
   "execution_count": 6,
   "metadata": {},
   "outputs": [
    {
     "data": {
      "text/html": [
       "<div>\n",
       "<style scoped>\n",
       "    .dataframe tbody tr th:only-of-type {\n",
       "        vertical-align: middle;\n",
       "    }\n",
       "\n",
       "    .dataframe tbody tr th {\n",
       "        vertical-align: top;\n",
       "    }\n",
       "\n",
       "    .dataframe thead th {\n",
       "        text-align: right;\n",
       "    }\n",
       "</style>\n",
       "<table border=\"1\" class=\"dataframe\">\n",
       "  <thead>\n",
       "    <tr style=\"text-align: right;\">\n",
       "      <th></th>\n",
       "      <th>race_id</th>\n",
       "      <th>date</th>\n",
       "      <th>venue</th>\n",
       "      <th>race_no</th>\n",
       "      <th>config</th>\n",
       "      <th>surface</th>\n",
       "      <th>distance</th>\n",
       "      <th>going</th>\n",
       "      <th>horse_ratings</th>\n",
       "      <th>prize</th>\n",
       "      <th>...</th>\n",
       "      <th>place_combination3</th>\n",
       "      <th>place_combination4</th>\n",
       "      <th>place_dividend1</th>\n",
       "      <th>place_dividend2</th>\n",
       "      <th>place_dividend3</th>\n",
       "      <th>place_dividend4</th>\n",
       "      <th>win_combination1</th>\n",
       "      <th>win_dividend1</th>\n",
       "      <th>win_combination2</th>\n",
       "      <th>win_dividend2</th>\n",
       "    </tr>\n",
       "  </thead>\n",
       "  <tbody>\n",
       "    <tr>\n",
       "      <th>1</th>\n",
       "      <td>1</td>\n",
       "      <td>1997-06-02</td>\n",
       "      <td>ST</td>\n",
       "      <td>2</td>\n",
       "      <td>A</td>\n",
       "      <td>0</td>\n",
       "      <td>1200</td>\n",
       "      <td>GOOD TO FIRM</td>\n",
       "      <td>40-15</td>\n",
       "      <td>485000.0</td>\n",
       "      <td>...</td>\n",
       "      <td>4.0</td>\n",
       "      <td>NaN</td>\n",
       "      <td>12.5</td>\n",
       "      <td>47.0</td>\n",
       "      <td>33.5</td>\n",
       "      <td>NaN</td>\n",
       "      <td>5</td>\n",
       "      <td>23.5</td>\n",
       "      <td>NaN</td>\n",
       "      <td>NaN</td>\n",
       "    </tr>\n",
       "    <tr>\n",
       "      <th>3</th>\n",
       "      <td>3</td>\n",
       "      <td>1997-06-02</td>\n",
       "      <td>ST</td>\n",
       "      <td>4</td>\n",
       "      <td>A</td>\n",
       "      <td>0</td>\n",
       "      <td>1200</td>\n",
       "      <td>GOOD TO FIRM</td>\n",
       "      <td>120-95</td>\n",
       "      <td>1750000.0</td>\n",
       "      <td>...</td>\n",
       "      <td>10.0</td>\n",
       "      <td>NaN</td>\n",
       "      <td>14.0</td>\n",
       "      <td>24.5</td>\n",
       "      <td>16.0</td>\n",
       "      <td>NaN</td>\n",
       "      <td>5</td>\n",
       "      <td>52.0</td>\n",
       "      <td>NaN</td>\n",
       "      <td>NaN</td>\n",
       "    </tr>\n",
       "    <tr>\n",
       "      <th>5</th>\n",
       "      <td>5</td>\n",
       "      <td>1997-06-02</td>\n",
       "      <td>ST</td>\n",
       "      <td>6</td>\n",
       "      <td>A</td>\n",
       "      <td>0</td>\n",
       "      <td>1200</td>\n",
       "      <td>GOOD TO FIRM</td>\n",
       "      <td>60-40</td>\n",
       "      <td>625000.0</td>\n",
       "      <td>...</td>\n",
       "      <td>8.0</td>\n",
       "      <td>NaN</td>\n",
       "      <td>16.5</td>\n",
       "      <td>408.0</td>\n",
       "      <td>70.0</td>\n",
       "      <td>NaN</td>\n",
       "      <td>9</td>\n",
       "      <td>61.0</td>\n",
       "      <td>NaN</td>\n",
       "      <td>NaN</td>\n",
       "    </tr>\n",
       "    <tr>\n",
       "      <th>9</th>\n",
       "      <td>9</td>\n",
       "      <td>1997-06-02</td>\n",
       "      <td>ST</td>\n",
       "      <td>10</td>\n",
       "      <td>A</td>\n",
       "      <td>0</td>\n",
       "      <td>1200</td>\n",
       "      <td>GOOD TO FIRM</td>\n",
       "      <td>80-60</td>\n",
       "      <td>850000.0</td>\n",
       "      <td>...</td>\n",
       "      <td>6.0</td>\n",
       "      <td>NaN</td>\n",
       "      <td>49.5</td>\n",
       "      <td>45.5</td>\n",
       "      <td>14.0</td>\n",
       "      <td>NaN</td>\n",
       "      <td>1</td>\n",
       "      <td>203.0</td>\n",
       "      <td>NaN</td>\n",
       "      <td>NaN</td>\n",
       "    </tr>\n",
       "    <tr>\n",
       "      <th>12</th>\n",
       "      <td>12</td>\n",
       "      <td>1997-06-04</td>\n",
       "      <td>HV</td>\n",
       "      <td>3</td>\n",
       "      <td>A</td>\n",
       "      <td>0</td>\n",
       "      <td>1200</td>\n",
       "      <td>GOOD TO FIRM</td>\n",
       "      <td>60-40</td>\n",
       "      <td>625000.0</td>\n",
       "      <td>...</td>\n",
       "      <td>7.0</td>\n",
       "      <td>NaN</td>\n",
       "      <td>14.0</td>\n",
       "      <td>23.0</td>\n",
       "      <td>15.5</td>\n",
       "      <td>NaN</td>\n",
       "      <td>1</td>\n",
       "      <td>35.0</td>\n",
       "      <td>NaN</td>\n",
       "      <td>NaN</td>\n",
       "    </tr>\n",
       "    <tr>\n",
       "      <th>...</th>\n",
       "      <td>...</td>\n",
       "      <td>...</td>\n",
       "      <td>...</td>\n",
       "      <td>...</td>\n",
       "      <td>...</td>\n",
       "      <td>...</td>\n",
       "      <td>...</td>\n",
       "      <td>...</td>\n",
       "      <td>...</td>\n",
       "      <td>...</td>\n",
       "      <td>...</td>\n",
       "      <td>...</td>\n",
       "      <td>...</td>\n",
       "      <td>...</td>\n",
       "      <td>...</td>\n",
       "      <td>...</td>\n",
       "      <td>...</td>\n",
       "      <td>...</td>\n",
       "      <td>...</td>\n",
       "      <td>...</td>\n",
       "      <td>...</td>\n",
       "    </tr>\n",
       "    <tr>\n",
       "      <th>6332</th>\n",
       "      <td>6332</td>\n",
       "      <td>2005-08-24</td>\n",
       "      <td>HV</td>\n",
       "      <td>3</td>\n",
       "      <td>B</td>\n",
       "      <td>0</td>\n",
       "      <td>1200</td>\n",
       "      <td>GOOD TO FIRM</td>\n",
       "      <td>80-60</td>\n",
       "      <td>1235000.0</td>\n",
       "      <td>...</td>\n",
       "      <td>2.0</td>\n",
       "      <td>NaN</td>\n",
       "      <td>13.0</td>\n",
       "      <td>45.5</td>\n",
       "      <td>27.5</td>\n",
       "      <td>NaN</td>\n",
       "      <td>3</td>\n",
       "      <td>24.5</td>\n",
       "      <td>NaN</td>\n",
       "      <td>NaN</td>\n",
       "    </tr>\n",
       "    <tr>\n",
       "      <th>6335</th>\n",
       "      <td>6335</td>\n",
       "      <td>2005-08-24</td>\n",
       "      <td>HV</td>\n",
       "      <td>6</td>\n",
       "      <td>B</td>\n",
       "      <td>0</td>\n",
       "      <td>1200</td>\n",
       "      <td>GOOD TO FIRM</td>\n",
       "      <td>60-40</td>\n",
       "      <td>840000.0</td>\n",
       "      <td>...</td>\n",
       "      <td>11.0</td>\n",
       "      <td>NaN</td>\n",
       "      <td>13.0</td>\n",
       "      <td>93.0</td>\n",
       "      <td>22.0</td>\n",
       "      <td>NaN</td>\n",
       "      <td>1</td>\n",
       "      <td>19.5</td>\n",
       "      <td>NaN</td>\n",
       "      <td>NaN</td>\n",
       "    </tr>\n",
       "    <tr>\n",
       "      <th>6339</th>\n",
       "      <td>6339</td>\n",
       "      <td>2005-08-28</td>\n",
       "      <td>ST</td>\n",
       "      <td>1</td>\n",
       "      <td>A</td>\n",
       "      <td>0</td>\n",
       "      <td>1200</td>\n",
       "      <td>GOOD</td>\n",
       "      <td>80-60</td>\n",
       "      <td>1235000.0</td>\n",
       "      <td>...</td>\n",
       "      <td>4.0</td>\n",
       "      <td>NaN</td>\n",
       "      <td>31.5</td>\n",
       "      <td>29.5</td>\n",
       "      <td>10.1</td>\n",
       "      <td>NaN</td>\n",
       "      <td>2</td>\n",
       "      <td>216.0</td>\n",
       "      <td>NaN</td>\n",
       "      <td>NaN</td>\n",
       "    </tr>\n",
       "    <tr>\n",
       "      <th>6343</th>\n",
       "      <td>6343</td>\n",
       "      <td>2005-08-28</td>\n",
       "      <td>ST</td>\n",
       "      <td>5</td>\n",
       "      <td>A</td>\n",
       "      <td>0</td>\n",
       "      <td>1200</td>\n",
       "      <td>GOOD</td>\n",
       "      <td>G</td>\n",
       "      <td>18500000.0</td>\n",
       "      <td>...</td>\n",
       "      <td>3.0</td>\n",
       "      <td>NaN</td>\n",
       "      <td>19.0</td>\n",
       "      <td>12.0</td>\n",
       "      <td>33.0</td>\n",
       "      <td>NaN</td>\n",
       "      <td>1</td>\n",
       "      <td>75.5</td>\n",
       "      <td>NaN</td>\n",
       "      <td>NaN</td>\n",
       "    </tr>\n",
       "    <tr>\n",
       "      <th>6347</th>\n",
       "      <td>6347</td>\n",
       "      <td>2005-08-28</td>\n",
       "      <td>ST</td>\n",
       "      <td>9</td>\n",
       "      <td>A</td>\n",
       "      <td>0</td>\n",
       "      <td>1200</td>\n",
       "      <td>GOOD</td>\n",
       "      <td>100-80</td>\n",
       "      <td>1750000.0</td>\n",
       "      <td>...</td>\n",
       "      <td>4.0</td>\n",
       "      <td>NaN</td>\n",
       "      <td>11.0</td>\n",
       "      <td>37.0</td>\n",
       "      <td>21.5</td>\n",
       "      <td>NaN</td>\n",
       "      <td>9</td>\n",
       "      <td>16.0</td>\n",
       "      <td>NaN</td>\n",
       "      <td>NaN</td>\n",
       "    </tr>\n",
       "  </tbody>\n",
       "</table>\n",
       "<p>2017 rows × 37 columns</p>\n",
       "</div>"
      ],
      "text/plain": [
       "      race_id        date venue  race_no config  surface  distance  \\\n",
       "1           1  1997-06-02    ST        2      A        0      1200   \n",
       "3           3  1997-06-02    ST        4      A        0      1200   \n",
       "5           5  1997-06-02    ST        6      A        0      1200   \n",
       "9           9  1997-06-02    ST       10      A        0      1200   \n",
       "12         12  1997-06-04    HV        3      A        0      1200   \n",
       "...       ...         ...   ...      ...    ...      ...       ...   \n",
       "6332     6332  2005-08-24    HV        3      B        0      1200   \n",
       "6335     6335  2005-08-24    HV        6      B        0      1200   \n",
       "6339     6339  2005-08-28    ST        1      A        0      1200   \n",
       "6343     6343  2005-08-28    ST        5      A        0      1200   \n",
       "6347     6347  2005-08-28    ST        9      A        0      1200   \n",
       "\n",
       "             going horse_ratings       prize  ...  place_combination3  \\\n",
       "1     GOOD TO FIRM         40-15    485000.0  ...                 4.0   \n",
       "3     GOOD TO FIRM        120-95   1750000.0  ...                10.0   \n",
       "5     GOOD TO FIRM         60-40    625000.0  ...                 8.0   \n",
       "9     GOOD TO FIRM         80-60    850000.0  ...                 6.0   \n",
       "12    GOOD TO FIRM         60-40    625000.0  ...                 7.0   \n",
       "...            ...           ...         ...  ...                 ...   \n",
       "6332  GOOD TO FIRM         80-60   1235000.0  ...                 2.0   \n",
       "6335  GOOD TO FIRM         60-40    840000.0  ...                11.0   \n",
       "6339          GOOD         80-60   1235000.0  ...                 4.0   \n",
       "6343          GOOD             G  18500000.0  ...                 3.0   \n",
       "6347          GOOD        100-80   1750000.0  ...                 4.0   \n",
       "\n",
       "      place_combination4  place_dividend1  place_dividend2  place_dividend3  \\\n",
       "1                    NaN             12.5             47.0             33.5   \n",
       "3                    NaN             14.0             24.5             16.0   \n",
       "5                    NaN             16.5            408.0             70.0   \n",
       "9                    NaN             49.5             45.5             14.0   \n",
       "12                   NaN             14.0             23.0             15.5   \n",
       "...                  ...              ...              ...              ...   \n",
       "6332                 NaN             13.0             45.5             27.5   \n",
       "6335                 NaN             13.0             93.0             22.0   \n",
       "6339                 NaN             31.5             29.5             10.1   \n",
       "6343                 NaN             19.0             12.0             33.0   \n",
       "6347                 NaN             11.0             37.0             21.5   \n",
       "\n",
       "      place_dividend4  win_combination1  win_dividend1  win_combination2  \\\n",
       "1                 NaN                 5           23.5               NaN   \n",
       "3                 NaN                 5           52.0               NaN   \n",
       "5                 NaN                 9           61.0               NaN   \n",
       "9                 NaN                 1          203.0               NaN   \n",
       "12                NaN                 1           35.0               NaN   \n",
       "...               ...               ...            ...               ...   \n",
       "6332              NaN                 3           24.5               NaN   \n",
       "6335              NaN                 1           19.5               NaN   \n",
       "6339              NaN                 2          216.0               NaN   \n",
       "6343              NaN                 1           75.5               NaN   \n",
       "6347              NaN                 9           16.0               NaN   \n",
       "\n",
       "      win_dividend2  \n",
       "1               NaN  \n",
       "3               NaN  \n",
       "5               NaN  \n",
       "9               NaN  \n",
       "12              NaN  \n",
       "...             ...  \n",
       "6332            NaN  \n",
       "6335            NaN  \n",
       "6339            NaN  \n",
       "6343            NaN  \n",
       "6347            NaN  \n",
       "\n",
       "[2017 rows x 37 columns]"
      ]
     },
     "execution_count": 6,
     "metadata": {},
     "output_type": "execute_result"
    }
   ],
   "source": [
    "distance=pd.DataFrame(race.groupby([\"distance\"])[\"distance\"].count())\n",
    "distance=distance.rename(columns={\"distance\":\"Count\"})\n",
    "distance=distance.sort_values(by=\"Count\",ascending=False)\n",
    "race.query(\"distance==1200\")"
   ]
  },
  {
   "cell_type": "code",
   "execution_count": null,
   "metadata": {
    "scrolled": true
   },
   "outputs": [],
   "source": [
    "pd.DataFrame(race.groupby([\"config\",\"distance\"])[\"distance\"].count())"
   ]
  },
  {
   "cell_type": "code",
   "execution_count": null,
   "metadata": {},
   "outputs": [],
   "source": []
  },
  {
   "cell_type": "code",
   "execution_count": null,
   "metadata": {},
   "outputs": [],
   "source": []
  },
  {
   "cell_type": "code",
   "execution_count": null,
   "metadata": {},
   "outputs": [],
   "source": []
  },
  {
   "cell_type": "code",
   "execution_count": null,
   "metadata": {},
   "outputs": [],
   "source": []
  },
  {
   "cell_type": "code",
   "execution_count": null,
   "metadata": {},
   "outputs": [],
   "source": []
  },
  {
   "cell_type": "code",
   "execution_count": null,
   "metadata": {},
   "outputs": [],
   "source": []
  },
  {
   "cell_type": "code",
   "execution_count": null,
   "metadata": {
    "scrolled": true
   },
   "outputs": [],
   "source": [
    "runs[\"actual_weight\"].min()"
   ]
  },
  {
   "cell_type": "code",
   "execution_count": null,
   "metadata": {},
   "outputs": [],
   "source": [
    "runs[\"declared_weight\"].max()"
   ]
  },
  {
   "cell_type": "code",
   "execution_count": null,
   "metadata": {},
   "outputs": [],
   "source": [
    "runs=runs.query(\"horse_type!=''\")\n",
    "runs[\"horse_type\"].unique()"
   ]
  },
  {
   "cell_type": "code",
   "execution_count": null,
   "metadata": {},
   "outputs": [],
   "source": [
    "gelding=runs.query(\"horse_type=='Gelding'\")\n",
    "mare=runs.query(\"horse_type=='Mare'\")\n",
    "horse=runs.query(\"horse_type=='Horse'\")\n",
    "brown=runs.query(\"horse_type=='Brown'\")\n",
    "rig=runs.query(\"horse_type=='rig'\")\n",
    "colt=runs.query(\"horse_type=='Colt'\")\n",
    "roan=runs.query(\"horse_type=='Roan'\")"
   ]
  },
  {
   "cell_type": "code",
   "execution_count": null,
   "metadata": {},
   "outputs": [],
   "source": [
    "pd.DataFrame(runs.groupby{}"
   ]
  },
  {
   "cell_type": "code",
   "execution_count": null,
   "metadata": {},
   "outputs": [],
   "source": [
    "import scipy.stats as sts\n",
    "plt.hist(runs[\"declared_weight\"])\n",
    "plt.xlabel('Declared Weight (lbs)')\n",
    "plt.ylabel('Counts')\n",
    "plt.show()\n",
    "print(sts.normaltest(runs[\"declared_weight\"]))\n",
    "var=np.var(runs[\"declared_weight\"])\n",
    "std=np.std(runs[\"declared_weight\"])\n",
    "mean=np.mean(runs[\"declared_weight\"])\n",
    "median=np.median(runs[\"declared_weight\"])\n",
    "mode=sts.mode(runs[\"declared_weight\"])\n",
    "print(f\"The variance is: {var}\")"
   ]
  },
  {
   "cell_type": "code",
   "execution_count": null,
   "metadata": {},
   "outputs": [],
   "source": []
  },
  {
   "cell_type": "code",
   "execution_count": null,
   "metadata": {},
   "outputs": [],
   "source": [
    "bins=[1]\n",
    "result=pd.DataFrame(runs.groupby(\"actual_weight\")[\"result\"].)"
   ]
  },
  {
   "cell_type": "code",
   "execution_count": null,
   "metadata": {},
   "outputs": [],
   "source": [
    "PAA=pd.DataFrame(pd.cut(purchase_data[\"Age\"],bins=[0,9,14,19,24,29,34,39,100],labels=[\"<10\",\"10-14\",\"15-19\",\"20-24\",\"25-29\",\"30-34\",\"35-39\",\"40+\"]).value_counts())\n",
    "PAA=PAA.rename(columns={\n",
    "    \"Age\":\"Purchase Count\"\n",
    "})\n",
    "purchase=purchase_data.drop_duplicates(\"SN\")\n",
    "PAB=pd.DataFrame(pd.cut(purchase[\"Age\"],bins=[0,9,14,19,24,29,34,39,100],labels=[\"<10\",\"10-14\",\"15-19\",\"20-24\",\"25-29\",\"30-34\",\"35-39\",\"40+\"]).value_counts())\n",
    "PAA=PAA.sort_index()\n",
    "PAA['Average Purchase Price']=purchase_data.groupby(pd.cut(purchase_data[\"Age\"],bins=[0,9,14,19,24,29,34,39,100],labels=[\"<10\",\"10-14\",\"15-19\",\"20-24\",\"25-29\",\"30-34\",\"35-39\",\"40+\"])).agg({'Price':'mean'})\n",
    "PAA['Total Purchase Value']=purchase_data.groupby(pd.cut(purchase_data[\"Age\"],bins=[0,9,14,19,24,29,34,39,100],labels=[\"<10\",\"10-14\",\"15-19\",\"20-24\",\"25-29\",\"30-34\",\"35-39\",\"40+\"])).agg({'Price':'sum'})\n",
    "PAA['Avg Total Purchase per Person']=PAA[\"Total Purchase Value\"].divide(PAB[\"Age\"])"
   ]
  },
  {
   "cell_type": "code",
   "execution_count": null,
   "metadata": {},
   "outputs": [],
   "source": [
    "runs[\"declared_weight\"].max()"
   ]
  },
  {
   "cell_type": "code",
   "execution_count": null,
   "metadata": {},
   "outputs": [],
   "source": [
    "pd.DataFrame(runs.groupby('actual_weight')['actual_weight'].count())"
   ]
  },
  {
   "cell_type": "code",
   "execution_count": null,
   "metadata": {},
   "outputs": [],
   "source": [
    "#Jorge work"
   ]
  },
  {
   "cell_type": "code",
   "execution_count": null,
   "metadata": {},
   "outputs": [],
   "source": [
    "#Mario work"
   ]
  },
  {
   "cell_type": "code",
   "execution_count": null,
   "metadata": {},
   "outputs": [],
   "source": [
    "#Sergio work"
   ]
  }
 ],
 "metadata": {
  "kernelspec": {
   "display_name": "Python 3",
   "language": "python",
   "name": "python3"
  },
  "language_info": {
   "codemirror_mode": {
    "name": "ipython",
    "version": 3
   },
   "file_extension": ".py",
   "mimetype": "text/x-python",
   "name": "python",
   "nbconvert_exporter": "python",
   "pygments_lexer": "ipython3",
   "version": "3.7.6"
  }
 },
 "nbformat": 4,
 "nbformat_minor": 4
}
