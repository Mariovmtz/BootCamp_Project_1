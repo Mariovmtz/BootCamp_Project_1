{
 "cells": [
  {
   "cell_type": "markdown",
   "metadata": {},
   "source": [
    "# DATA GATHERING AND CLEANING \n",
    "\n",
    "The data for our analysis comes from 5 different datasets, our first activity was to clean all of them and structure them in a single useful dataset with all the needed fields for further analysis.\n",
    "\n",
    "1. All of our data was extracted from kaggle, data can be found in the following links:\n",
    "2. Horse Racing in Hong Kong - https://www.kaggle.com/gdaley/hkracing  \n",
    "3. Hong Kong Horse Racing Results 2014-2017 -https://www.kaggle.com/lantanacamara/hong-kong-horse-racing  \n",
    "4. Woodbine Horse Racing Results Toronto CA - https://www.kaggle.com/noqcks/woodbine-races  \n",
    "5. Horse Racing Data in Australia - https://www.kaggle.com/donw385/horses  \n",
    "\n",
    "Our raw data consist of the following files:\n",
    "\n",
    "### 1st set of data:\n",
    "- race_hk_1.csv - each row represents a race, data can be merged without problem with race_id.\n",
    "- race_horse_hk_1.csv - each row represents a horse in a race, data can be merged using race_id.\n",
    "\n",
    "### 2nd set of data:\n",
    "- race_hk_2.csv - each row represents a race, data can be merged without problem with race_id\n",
    "- race_horse_hk_2.csv - each row represents a horse in a race, data can be merged using race_id.\n",
    "\n",
    "### 3th set of data:\n",
    "- races_ca_woodbinew.csv - each row represents a horse in a race\n",
    "\n",
    "\n",
    "### 4th set of data:\n",
    "- races_ca_woodbinew.csv - each row represents a horse in a race\n"
   ]
  },
  {
   "cell_type": "code",
   "execution_count": null,
   "metadata": {},
   "outputs": [],
   "source": []
  }
 ],
 "metadata": {
  "kernelspec": {
   "display_name": "Python 3",
   "language": "python",
   "name": "python3"
  },
  "language_info": {
   "codemirror_mode": {
    "name": "ipython",
    "version": 3
   },
   "file_extension": ".py",
   "mimetype": "text/x-python",
   "name": "python",
   "nbconvert_exporter": "python",
   "pygments_lexer": "ipython3",
   "version": "3.7.6"
  }
 },
 "nbformat": 4,
 "nbformat_minor": 4
}
