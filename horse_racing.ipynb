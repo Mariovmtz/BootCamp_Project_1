{
 "cells": [
  {
   "cell_type": "markdown",
   "metadata": {},
   "source": [
    "###### DATA GATHERING AND CLEANING \n",
    "\n",
    "The data for our analysis comes from 5 different datasets, our first activity was to clean all of them and structure them in a single useful dataset with all the needed fields for further analysis.\n",
    "\n",
    "1. All of our data was extracted from kaggle, data can be found in the following links:\n",
    "2. Horse Racing in Hong Kong - https://www.kaggle.com/gdaley/hkracing  \n",
    "3. Hong Kong Horse Racing Results 2014-2017 -https://www.kaggle.com/lantanacamara/hong-kong-horse-racing  \n",
    "\n",
    "Our raw data consist of the following files:\n",
    "\n",
    "### 1st set of data:\n",
    "- race_hk_1.csv - each row represents a race, data can be merged without problem with race_id.\n",
    "- race_horse_hk_1.csv - each row represents a horse in a race, data can be merged using race_id.\n",
    "\n",
    "### 2nd set of data:\n",
    "- race_hk_2.csv - each row represents a race, data can be merged without problem with race_id\n",
    "- race_horse_hk_2.csv - each row represents a horse in a race, data can be merged using race_id.\n",
    "\n"
   ]
  },
  {
   "cell_type": "code",
   "execution_count": 1,
   "metadata": {},
   "outputs": [],
   "source": [
    "#import \n",
    "import pandas as pd\n",
    "import datetime\n",
    "import scipy.stats as sts\n",
    "from scipy.stats import linregress\n",
    "import matplotlib.pyplot as plt\n",
    "import numpy as np"
   ]
  },
  {
   "cell_type": "code",
   "execution_count": 2,
   "metadata": {},
   "outputs": [],
   "source": [
    "race_hk1_org = pd.read_csv(\"datasets/races.csv\")\n",
    "race_horse_hk1_org = pd.read_csv(\"datasets/runs.csv\")\n",
    "race_hk2_org = pd.read_csv(\"datasets/race-result-race.csv\")\n",
    "race_horse_hk2_org = pd.read_csv(\"datasets/race-result-horse.csv\")"
   ]
  },
  {
   "cell_type": "code",
   "execution_count": 3,
   "metadata": {},
   "outputs": [],
   "source": [
    "race_hk1 = race_hk1_org[[\n",
    "            \"race_id\", \"date\", \"race_no\", \"config\", \"surface\", \"distance\", \"going\", \"horse_ratings\",\n",
    "            \"prize\", \"race_class\", \n",
    "\n",
    "            ]]\n",
    "\n",
    "race_hk2 = race_hk2_org[[\"race_date\", \"race_course\", \"race_number\", \"race_id\", \"race_class\", \n",
    "                         \"track_condition\", \"race_name\", \"track\"\n",
    "                        ]]\n",
    "    \n",
    "\n",
    "race_horse_hk1 = race_horse_hk1_org[[\n",
    "             \"race_id\", \"horse_no\", \"horse_id\", \"result\", \"won\", \"lengths_behind\", \"horse_age\", \n",
    "             \"horse_country\", \"horse_type\", \"horse_rating\", \"horse_gear\", \"declared_weight\", \"actual_weight\",\n",
    "             \"draw\", \"finish_time\", \"win_odds\", \"place_odds\"\n",
    "             ]]\n",
    "\n",
    "race_horse_hk2 = race_horse_hk2_org[[\"horse_number\", \"horse_name\", \"horse_id\", \"jockey\", \"trainer\", \n",
    "                                     \"race_id\"\n",
    "                      ]]\n"
   ]
  },
  {
   "cell_type": "code",
   "execution_count": 4,
   "metadata": {},
   "outputs": [
    {
     "name": "stdout",
     "output_type": "stream",
     "text": [
      "race_id            79447\n",
      "date               79447\n",
      "race_no            79447\n",
      "config             79447\n",
      "surface            79447\n",
      "distance           79447\n",
      "going              79447\n",
      "horse_ratings      79447\n",
      "prize              73598\n",
      "race_class         79447\n",
      "horse_no           79447\n",
      "horse_id           79447\n",
      "result             79447\n",
      "won                79447\n",
      "lengths_behind     79447\n",
      "horse_age          79447\n",
      "horse_country      79445\n",
      "horse_type         79445\n",
      "horse_rating       79447\n",
      "horse_gear         79447\n",
      "declared_weight    79447\n",
      "actual_weight      79447\n",
      "draw               79447\n",
      "finish_time        79447\n",
      "win_odds           79447\n",
      "place_odds         75712\n",
      "dtype: int64\n",
      "race_date          30189\n",
      "race_course        30189\n",
      "race_number        30189\n",
      "race_id            30189\n",
      "race_class         30189\n",
      "track_condition    30189\n",
      "race_name          30189\n",
      "track              30189\n",
      "horse_number       29851\n",
      "horse_name         30189\n",
      "horse_id           30189\n",
      "jockey             30189\n",
      "trainer            30189\n",
      "dtype: int64\n"
     ]
    }
   ],
   "source": [
    "races_merged_hk1 = pd.merge(race_hk1, race_horse_hk1, on=\"race_id\")\n",
    "races_merged_hk2 = pd.merge(race_hk2, race_horse_hk2, on=\"race_id\")\n",
    "\n",
    "print(races_merged_hk1.count())\n",
    "print(races_merged_hk2.count())"
   ]
  },
  {
   "cell_type": "code",
   "execution_count": 5,
   "metadata": {},
   "outputs": [],
   "source": [
    "races_merged_hk2 = races_merged_hk2.dropna(subset=['horse_number'])"
   ]
  },
  {
   "cell_type": "code",
   "execution_count": 6,
   "metadata": {},
   "outputs": [
    {
     "name": "stdout",
     "output_type": "stream",
     "text": [
      "79447\n",
      "29851\n",
      "race_date          29851\n",
      "race_course        29851\n",
      "race_number        29851\n",
      "race_id            29851\n",
      "race_class         29851\n",
      "track_condition    29851\n",
      "race_name          29851\n",
      "track              29851\n",
      "horse_number       29851\n",
      "horse_name         29851\n",
      "horse_id           29851\n",
      "jockey             29851\n",
      "trainer            29851\n",
      "dtype: int64\n",
      "29851\n"
     ]
    }
   ],
   "source": [
    "print(len(races_merged_hk1[[\"race_id\", \"race_no\", \"horse_no\"]].drop_duplicates()))\n",
    "print(len(races_merged_hk2[[\"race_id\", \"race_number\", \"horse_number\"]].drop_duplicates()))\n",
    "\n",
    "\n",
    "print(races_merged_hk2.count())\n",
    "print(len(races_merged_hk2[[\"race_id\", \"race_number\", \"horse_number\"]].drop_duplicates()))\n",
    "\n",
    "races_merged_hk1[\"date\"] = pd.to_datetime(races_merged_hk1[\"date\"]) + pd.to_timedelta('4123 days')\n",
    "races_merged_hk2[\"horse_number\"] = races_merged_hk2[\"horse_number\"].astype(int)\n",
    "races_merged_hk2[\"race_date\"] = pd.to_datetime(races_merged_hk2[\"race_date\"])"
   ]
  },
  {
   "cell_type": "code",
   "execution_count": 7,
   "metadata": {},
   "outputs": [
    {
     "name": "stdout",
     "output_type": "stream",
     "text": [
      "race_id            79447\n",
      "date               79447\n",
      "race_no            79447\n",
      "config             79447\n",
      "surface            79447\n",
      "distance           79447\n",
      "going              79447\n",
      "horse_ratings      79447\n",
      "prize              73598\n",
      "race_class         79447\n",
      "horse_no           79447\n",
      "horse_id           79447\n",
      "result             79447\n",
      "won                79447\n",
      "lengths_behind     79447\n",
      "horse_age          79447\n",
      "horse_country      79445\n",
      "horse_type         79445\n",
      "horse_rating       79447\n",
      "horse_gear         79447\n",
      "declared_weight    79447\n",
      "actual_weight      79447\n",
      "draw               79447\n",
      "finish_time        79447\n",
      "win_odds           79447\n",
      "place_odds         75712\n",
      "dtype: int64\n",
      "race_date          29851\n",
      "race_course        29851\n",
      "race_number        29851\n",
      "race_id            29851\n",
      "race_class         29851\n",
      "track_condition    29851\n",
      "race_name          29851\n",
      "track              29851\n",
      "horse_number       29851\n",
      "horse_name         29851\n",
      "horse_id           29851\n",
      "jockey             29851\n",
      "trainer            29851\n",
      "dtype: int64\n",
      "race_no                   int64\n",
      "horse_no                  int64\n",
      "distance                  int64\n",
      "actual_weight             int64\n",
      "date             datetime64[ns]\n",
      "dtype: object\n",
      "race_number              int64\n",
      "horse_number             int64\n",
      "race_date       datetime64[ns]\n",
      "dtype: object\n"
     ]
    }
   ],
   "source": [
    "print(races_merged_hk1.count())\n",
    "print(races_merged_hk2.count())\n",
    "print(races_merged_hk1[[\"race_no\", \"horse_no\", \"distance\", \"actual_weight\", \"date\"]].dtypes)\n",
    "print(races_merged_hk2[[\"race_number\", \"horse_number\", \"race_date\"]].dtypes)\n"
   ]
  },
  {
   "cell_type": "code",
   "execution_count": 8,
   "metadata": {},
   "outputs": [],
   "source": [
    "final_df = pd.merge(races_merged_hk1, races_merged_hk2, how=\"inner\", left_on = [\"race_no\", \"horse_no\", \"date\"],\n",
    "                   right_on = [\"race_number\", \"horse_number\", \"race_date\"])\n",
    "\n",
    "final_df.count()\n",
    "\n",
    "final_df.to_csv(\"final.csv\")"
   ]
  },
  {
   "cell_type": "code",
   "execution_count": 9,
   "metadata": {},
   "outputs": [
    {
     "name": "stdout",
     "output_type": "stream",
     "text": [
      "race_id_x          22544\n",
      "date               22544\n",
      "race_no            22544\n",
      "config             22544\n",
      "surface            22544\n",
      "distance           22544\n",
      "going              22544\n",
      "horse_ratings      22544\n",
      "prize              22544\n",
      "race_class_x       22544\n",
      "horse_no           22544\n",
      "horse_id_x         22544\n",
      "result             22544\n",
      "won                22544\n",
      "lengths_behind     22544\n",
      "horse_age          22544\n",
      "horse_country      22544\n",
      "horse_type         22544\n",
      "horse_rating       22544\n",
      "horse_gear         22544\n",
      "declared_weight    22544\n",
      "actual_weight      22544\n",
      "draw               22544\n",
      "finish_time        22544\n",
      "win_odds           22544\n",
      "place_odds         18928\n",
      "race_date          22544\n",
      "race_course        22544\n",
      "race_number        22544\n",
      "race_id_y          22544\n",
      "race_class_y       22544\n",
      "track_condition    22544\n",
      "race_name          22544\n",
      "track              22544\n",
      "horse_number       22544\n",
      "horse_name         22544\n",
      "horse_id_y         22544\n",
      "jockey             22544\n",
      "trainer            22544\n",
      "dtype: int64\n",
      "22544\n"
     ]
    }
   ],
   "source": [
    "print(final_df.count())\n",
    "print(len(final_df[[\"race_id_x\", \"race_no\", \"horse_no\"]].drop_duplicates()))"
   ]
  },
  {
   "cell_type": "code",
   "execution_count": 10,
   "metadata": {},
   "outputs": [],
   "source": [
    "final_df=final_df.rename(columns={\"race_id_x\":\"Race_id\",\n",
    "                                 \"date\":\"Date\",\n",
    "                                 \"race_no\":\"Race_no\",\n",
    "                                 \"distance\":\"Distance\",\n",
    "                                 \"going\":\"Surface_condition\",\n",
    "                                 \"prize\":\"Prize\",\n",
    "                                 \"horse_no\":\"Horse_no\",\n",
    "                                 \"horse_id_y\":\"Horse_id\",\n",
    "                                 \"result\":\"Final_position\",\n",
    "                                 \"won\":\"Won\",\n",
    "                                 \"horse_age\":\"Horse_age\",\n",
    "                                 \"horse_country\":\"Horse_country\",\n",
    "                                 \"horse_type\":\"Horse_type\",\n",
    "                                 \"actual_weight\":\"Actual_weight\",\n",
    "                                 \"finish_time\":\"Finish_time\",\n",
    "                                 \"race_course\":\"Course\",\n",
    "                                 \"race_class\":\"Class\",                                \n",
    "                                 \"race_name\":\"Race_name\",\n",
    "                                 \"track\":\"Track\",\n",
    "                                 \"horse_name\":\"Horse_name\",\n",
    "                                 \"jockey\":\"Jockey\",\n",
    "                                 \"trainer\":\"Trainer\",\n",
    "                                 \"declared_weight\":\"Declared_weight\",\n",
    "                                 })"
   ]
  },
  {
   "cell_type": "code",
   "execution_count": 11,
   "metadata": {},
   "outputs": [
    {
     "data": {
      "text/plain": [
       "Index(['Race_id', 'Date', 'Race_no', 'config', 'surface', 'Distance',\n",
       "       'Surface_condition', 'horse_ratings', 'Prize', 'race_class_x',\n",
       "       'Horse_no', 'horse_id_x', 'Final_position', 'Won', 'lengths_behind',\n",
       "       'Horse_age', 'Horse_country', 'Horse_type', 'horse_rating',\n",
       "       'horse_gear', 'Declared_weight', 'Actual_weight', 'draw', 'Finish_time',\n",
       "       'win_odds', 'place_odds', 'race_date', 'Course', 'race_number',\n",
       "       'race_id_y', 'race_class_y', 'track_condition', 'Race_name', 'Track',\n",
       "       'horse_number', 'Horse_name', 'Horse_id', 'Jockey', 'Trainer'],\n",
       "      dtype='object')"
      ]
     },
     "execution_count": 11,
     "metadata": {},
     "output_type": "execute_result"
    }
   ],
   "source": [
    "final_df.keys()"
   ]
  },
  {
   "cell_type": "markdown",
   "metadata": {},
   "source": [
    "TERMINA LIMPIEZA DE INFORMACION\n",
    "--------------------------------------------------------"
   ]
  },
  {
   "cell_type": "markdown",
   "metadata": {},
   "source": [
    "# EXPLORACION DE DATOS\n"
   ]
  },
  {
   "cell_type": "markdown",
   "metadata": {},
   "source": [
    "### MARTIN WORK"
   ]
  },
  {
   "cell_type": "code",
   "execution_count": 34,
   "metadata": {},
   "outputs": [
    {
     "data": {
      "text/html": [
       "<div>\n",
       "<style scoped>\n",
       "    .dataframe tbody tr th:only-of-type {\n",
       "        vertical-align: middle;\n",
       "    }\n",
       "\n",
       "    .dataframe tbody tr th {\n",
       "        vertical-align: top;\n",
       "    }\n",
       "\n",
       "    .dataframe thead th {\n",
       "        text-align: right;\n",
       "    }\n",
       "</style>\n",
       "<table border=\"1\" class=\"dataframe\">\n",
       "  <thead>\n",
       "    <tr style=\"text-align: right;\">\n",
       "      <th></th>\n",
       "      <th>Win Rate</th>\n",
       "      <th># of Horses</th>\n",
       "    </tr>\n",
       "    <tr>\n",
       "      <th>Horse_country</th>\n",
       "      <th></th>\n",
       "      <th></th>\n",
       "    </tr>\n",
       "  </thead>\n",
       "  <tbody>\n",
       "    <tr>\n",
       "      <th>SAF</th>\n",
       "      <td>9.01</td>\n",
       "      <td>222</td>\n",
       "    </tr>\n",
       "    <tr>\n",
       "      <th>AUS</th>\n",
       "      <td>8.58</td>\n",
       "      <td>8657</td>\n",
       "    </tr>\n",
       "    <tr>\n",
       "      <th>JPN</th>\n",
       "      <td>8.47</td>\n",
       "      <td>59</td>\n",
       "    </tr>\n",
       "    <tr>\n",
       "      <th>NZ</th>\n",
       "      <td>8.32</td>\n",
       "      <td>6872</td>\n",
       "    </tr>\n",
       "    <tr>\n",
       "      <th>USA</th>\n",
       "      <td>7.73</td>\n",
       "      <td>686</td>\n",
       "    </tr>\n",
       "    <tr>\n",
       "      <th>GB</th>\n",
       "      <td>7.59</td>\n",
       "      <td>2054</td>\n",
       "    </tr>\n",
       "    <tr>\n",
       "      <th>IRE</th>\n",
       "      <td>6.87</td>\n",
       "      <td>3190</td>\n",
       "    </tr>\n",
       "    <tr>\n",
       "      <th>ARG</th>\n",
       "      <td>5.88</td>\n",
       "      <td>17</td>\n",
       "    </tr>\n",
       "    <tr>\n",
       "      <th>ITY</th>\n",
       "      <td>5.26</td>\n",
       "      <td>57</td>\n",
       "    </tr>\n",
       "    <tr>\n",
       "      <th>FR</th>\n",
       "      <td>4.62</td>\n",
       "      <td>606</td>\n",
       "    </tr>\n",
       "    <tr>\n",
       "      <th>GER</th>\n",
       "      <td>4.13</td>\n",
       "      <td>121</td>\n",
       "    </tr>\n",
       "    <tr>\n",
       "      <th>CAN</th>\n",
       "      <td>0.00</td>\n",
       "      <td>1</td>\n",
       "    </tr>\n",
       "    <tr>\n",
       "      <th>SPA</th>\n",
       "      <td>0.00</td>\n",
       "      <td>2</td>\n",
       "    </tr>\n",
       "  </tbody>\n",
       "</table>\n",
       "</div>"
      ],
      "text/plain": [
       "               Win Rate  # of Horses\n",
       "Horse_country                       \n",
       "SAF                9.01          222\n",
       "AUS                8.58         8657\n",
       "JPN                8.47           59\n",
       "NZ                 8.32         6872\n",
       "USA                7.73          686\n",
       "GB                 7.59         2054\n",
       "IRE                6.87         3190\n",
       "ARG                5.88           17\n",
       "ITY                5.26           57\n",
       "FR                 4.62          606\n",
       "GER                4.13          121\n",
       "CAN                0.00            1\n",
       "SPA                0.00            2"
      ]
     },
     "execution_count": 34,
     "metadata": {},
     "output_type": "execute_result"
    }
   ],
   "source": [
    "ctry=round(pd.DataFrame(final_df.groupby(\"Horse_country\")[\"Won\"].mean())*100,2)\n",
    "ctry=ctry.rename(columns={\"Won\":\"Win Rate\",\"Horse_country\":\"Country\"})\n",
    "ctry[\"# of Horses\"]=final_df.groupby(\"Horse_country\")[\"Horse_id\"].count()\n",
    "ctry=ctry.sort_values(by=\"Win Rate\",ascending=False)\n",
    "saf=final_df.query(\"Horse_country=='SAF'\")\n",
    "safmode=saf[\"Actual_weight\"].mode()\n",
    "ctry\n",
    "\n"
   ]
  },
  {
   "cell_type": "code",
   "execution_count": 35,
   "metadata": {},
   "outputs": [],
   "source": [
    "rr=final_df.drop_duplicates(\"Horse_id\")\n",
    "r40=rr.query(\"horse_rating<40\")\n",
    "r60=rr.query(\"horse_rating>40 and horse_rating<=60\")\n",
    "r80=rr.query(\"horse_rating>60 and horse_rating<=80\")\n",
    "r100=rr.query(\"horse_rating>80 and horse_rating<=100\")"
   ]
  },
  {
   "cell_type": "code",
   "execution_count": 36,
   "metadata": {},
   "outputs": [
    {
     "name": "stdout",
     "output_type": "stream",
     "text": [
      "The r-squared is: 0.9724864657291215\n"
     ]
    },
    {
     "data": {
      "image/png": "[encoded data removed]",
      "text/plain": [
       "<Figure size 432x288 with 1 Axes>"
      ]
     },
     "metadata": {
      "needs_background": "light"
     },
     "output_type": "display_data"
    }
   ],
   "source": [
    "#HACER FUNCION\n",
    "\n",
    "x_values = r40[\"horse_rating\"]\n",
    "y_values = r40[\"Actual_weight\"]\n",
    "(slope, intercept, rvalue, pvalue, stderr) = linregress(x_values, y_values)\n",
    "regress_values = x_values * slope + intercept\n",
    "line_eq = \"y = \" + str(round(slope,2)) + \"x + \" + str(round(intercept,2))\n",
    "plt.scatter(x_values,y_values)\n",
    "plt.plot(x_values,regress_values,\"r-\")\n",
    "plt.annotate(line_eq,(25,105),fontsize=15,color=\"red\")\n",
    "plt.xlabel('Horse Rating')\n",
    "plt.ylabel('Actual weight')\n",
    "print(f\"The r-squared is: {rvalue}\")\n",
    "plt.show()\n",
    "\n"
   ]
  },
  {
   "cell_type": "code",
   "execution_count": 37,
   "metadata": {},
   "outputs": [
    {
     "name": "stdout",
     "output_type": "stream",
     "text": [
      "The r-squared is: 0.14646500938136092\n"
     ]
    },
    {
     "data": {
      "image/png": "[encoded data removed]",
      "text/plain": [
       "<Figure size 432x288 with 1 Axes>"
      ]
     },
     "metadata": {
      "needs_background": "light"
     },
     "output_type": "display_data"
    }
   ],
   "source": [
    "x_values = r60[\"horse_rating\"]\n",
    "y_values = r60[\"Actual_weight\"]\n",
    "(slope, intercept, rvalue, pvalue, stderr) = linregress(x_values, y_values)\n",
    "regress_values = x_values * slope + intercept\n",
    "line_eq = \"y = \" + str(round(slope,2)) + \"x + \" + str(round(intercept,2))\n",
    "plt.scatter(x_values,y_values)\n",
    "plt.plot(x_values,regress_values,\"r-\")\n",
    "plt.annotate(line_eq,(47.5,105),fontsize=15,color=\"red\")\n",
    "plt.xlabel('Horse Rating')\n",
    "plt.ylabel('Actual weight')\n",
    "print(f\"The r-squared is: {rvalue}\")\n",
    "plt.show()"
   ]
  },
  {
   "cell_type": "code",
   "execution_count": 38,
   "metadata": {},
   "outputs": [
    {
     "name": "stdout",
     "output_type": "stream",
     "text": [
      "The r-squared is: 0.8622084992506617\n"
     ]
    },
    {
     "data": {
      "image/png": "[encoded data removed]",
      "text/plain": [
       "<Figure size 432x288 with 1 Axes>"
      ]
     },
     "metadata": {
      "needs_background": "light"
     },
     "output_type": "display_data"
    }
   ],
   "source": [
    "x_values = r80[\"horse_rating\"]\n",
    "y_values = r80[\"Actual_weight\"]\n",
    "(slope, intercept, rvalue, pvalue, stderr) = linregress(x_values, y_values)\n",
    "regress_values = x_values * slope + intercept\n",
    "line_eq = \"y = \" + str(round(slope,2)) + \"x + \" + str(round(intercept,2))\n",
    "plt.scatter(x_values,y_values)\n",
    "plt.plot(x_values,regress_values,\"r-\")\n",
    "plt.annotate(line_eq,(67,105),fontsize=15,color=\"red\")\n",
    "plt.xlabel('Horse Rating')\n",
    "plt.ylabel('Actual weight')\n",
    "print(f\"The r-squared is: {rvalue}\")\n",
    "plt.show()\n",
    "\n"
   ]
  },
  {
   "cell_type": "code",
   "execution_count": 39,
   "metadata": {},
   "outputs": [
    {
     "name": "stdout",
     "output_type": "stream",
     "text": [
      "The r-squared is: 0.25345581565401304\n"
     ]
    },
    {
     "data": {
      "image/png": "[encoded data removed]",
      "text/plain": [
       "<Figure size 432x288 with 1 Axes>"
      ]
     },
     "metadata": {
      "needs_background": "light"
     },
     "output_type": "display_data"
    }
   ],
   "source": [
    "x_values = r100[\"horse_rating\"]\n",
    "y_values = r100[\"Actual_weight\"]\n",
    "(slope, intercept, rvalue, pvalue, stderr) = linregress(x_values, y_values)\n",
    "regress_values = x_values * slope + intercept\n",
    "line_eq = \"y = \" + str(round(slope,2)) + \"x + \" + str(round(intercept,2))\n",
    "plt.scatter(x_values,y_values)\n",
    "plt.plot(x_values,regress_values,\"r-\")\n",
    "plt.annotate(line_eq,(92.5,103),fontsize=15,color=\"red\")\n",
    "plt.xlabel('Horse Rating')\n",
    "plt.ylabel('Actual weight')\n",
    "print(f\"The r-squared is: {rvalue}\")\n",
    "plt.show()\n",
    "\n"
   ]
  },
  {
   "cell_type": "code",
   "execution_count": 40,
   "metadata": {},
   "outputs": [
    {
     "data": {
      "text/html": [
       "<div>\n",
       "<style scoped>\n",
       "    .dataframe tbody tr th:only-of-type {\n",
       "        vertical-align: middle;\n",
       "    }\n",
       "\n",
       "    .dataframe tbody tr th {\n",
       "        vertical-align: top;\n",
       "    }\n",
       "\n",
       "    .dataframe thead th {\n",
       "        text-align: right;\n",
       "    }\n",
       "</style>\n",
       "<table border=\"1\" class=\"dataframe\">\n",
       "  <thead>\n",
       "    <tr style=\"text-align: right;\">\n",
       "      <th></th>\n",
       "      <th>horse_rating</th>\n",
       "    </tr>\n",
       "  </thead>\n",
       "  <tbody>\n",
       "    <tr>\n",
       "      <th>41-60</th>\n",
       "      <td>10116</td>\n",
       "    </tr>\n",
       "    <tr>\n",
       "      <th>61-80</th>\n",
       "      <td>6477</td>\n",
       "    </tr>\n",
       "    <tr>\n",
       "      <th>81-130</th>\n",
       "      <td>3311</td>\n",
       "    </tr>\n",
       "    <tr>\n",
       "      <th>0-40</th>\n",
       "      <td>2640</td>\n",
       "    </tr>\n",
       "  </tbody>\n",
       "</table>\n",
       "</div>"
      ],
      "text/plain": [
       "        horse_rating\n",
       "41-60          10116\n",
       "61-80           6477\n",
       "81-130          3311\n",
       "0-40            2640"
      ]
     },
     "execution_count": 40,
     "metadata": {},
     "output_type": "execute_result"
    }
   ],
   "source": [
    "ratings.head()"
   ]
  },
  {
   "cell_type": "code",
   "execution_count": 41,
   "metadata": {},
   "outputs": [
    {
     "data": {
      "text/html": [
       "<div>\n",
       "<style scoped>\n",
       "    .dataframe tbody tr th:only-of-type {\n",
       "        vertical-align: middle;\n",
       "    }\n",
       "\n",
       "    .dataframe tbody tr th {\n",
       "        vertical-align: top;\n",
       "    }\n",
       "\n",
       "    .dataframe thead th {\n",
       "        text-align: right;\n",
       "    }\n",
       "</style>\n",
       "<table border=\"1\" class=\"dataframe\">\n",
       "  <thead>\n",
       "    <tr style=\"text-align: right;\">\n",
       "      <th></th>\n",
       "      <th>Declared_weight</th>\n",
       "    </tr>\n",
       "    <tr>\n",
       "      <th>horse_rating</th>\n",
       "      <th></th>\n",
       "    </tr>\n",
       "  </thead>\n",
       "  <tbody>\n",
       "    <tr>\n",
       "      <th>0-40</th>\n",
       "      <td>1091.210606</td>\n",
       "    </tr>\n",
       "    <tr>\n",
       "      <th>41-60</th>\n",
       "      <td>1107.121886</td>\n",
       "    </tr>\n",
       "    <tr>\n",
       "      <th>61-80</th>\n",
       "      <td>1111.815810</td>\n",
       "    </tr>\n",
       "    <tr>\n",
       "      <th>81-130</th>\n",
       "      <td>1122.487164</td>\n",
       "    </tr>\n",
       "  </tbody>\n",
       "</table>\n",
       "</div>"
      ],
      "text/plain": [
       "              Declared_weight\n",
       "horse_rating                 \n",
       "0-40              1091.210606\n",
       "41-60             1107.121886\n",
       "61-80             1111.815810\n",
       "81-130            1122.487164"
      ]
     },
     "execution_count": 41,
     "metadata": {},
     "output_type": "execute_result"
    }
   ],
   "source": [
    "rating=final_df\n",
    "bins=[0,40,60,80,150]\n",
    "labels=[\"0-40\",\"41-60\",\"61-80\",\"81-130\"]\n",
    "ratings=pd.DataFrame(pd.cut(rating[\"horse_rating\"],bins=bins,labels=labels).value_counts())\n",
    "rating.groupby(pd.cut(rating[\"horse_rating\"],bins=bins,labels=labels)).agg({'Declared_weight':'mean'})\n",
    "\n",
    "#ratings['Declared weight mean (lb)']=round(rating.groupby(pd.cut(rating[\"horse_rating\"],bins=bins,labels=labels)).agg({'Declared_weight':'mean'}),2)\n",
    "#ratings['Actual weight mode (lb)']=[129,125,120,126]\n",
    "#ratings['Prize $']=rating.groupby(pd.cut(rating[\"horse_rating\"],bins=bins,labels=labels)).agg({'Prize':'mean'})\n",
    "#ratings['Prize $']=ratings['Prize $'].apply(lambda x: '%.0f' % x)\n",
    "#ratings=ratings.sort_index()\n",
    "#ratings=ratings.rename(columns={\"horse_rating\":\"Number of Horses\"})\n",
    "#ratings"
   ]
  },
  {
   "cell_type": "markdown",
   "metadata": {},
   "source": [
    "### JORGE WORK"
   ]
  },
  {
   "cell_type": "code",
   "execution_count": 42,
   "metadata": {},
   "outputs": [
    {
     "data": {
      "image/png": "[encoded data removed]",
      "text/plain": [
       "<Figure size 432x288 with 1 Axes>"
      ]
     },
     "metadata": {
      "needs_background": "light"
     },
     "output_type": "display_data"
    }
   ],
   "source": [
    "# Type of Track\n",
    "track_type = final_df[\"Track\"]\n",
    "track_type.value_counts().plot(kind  = \"bar\")\n",
    "plt.xlabel(\"Track\")\n",
    "plt.ylabel(\"Times used\")\n",
    "plt.show()"
   ]
  },
  {
   "cell_type": "code",
   "execution_count": 43,
   "metadata": {},
   "outputs": [
    {
     "data": {
      "image/png": "[encoded data removed]",
      "text/plain": [
       "<Figure size 432x288 with 1 Axes>"
      ]
     },
     "metadata": {
      "needs_background": "light"
     },
     "output_type": "display_data"
    }
   ],
   "source": [
    "# Track condition \n",
    "track_condition = final_df[\"Surface_condition\"]\n",
    "track_condition.value_counts().plot(kind = \"bar\")\n",
    "plt.xlabel(\"Track condition\")\n",
    "plt.ylabel(\"Times used\")\n",
    "plt.show()"
   ]
  },
  {
   "cell_type": "code",
   "execution_count": 44,
   "metadata": {},
   "outputs": [
    {
     "data": {
      "image/png": "[encoded data removed]",
      "text/plain": [
       "<Figure size 432x288 with 1 Axes>"
      ]
     },
     "metadata": {
      "needs_background": "light"
     },
     "output_type": "display_data"
    }
   ],
   "source": [
    "# Checking if weight has something ot do with winning\n",
    "weight = final_df.groupby(\"Actual_weight\")[\"Won\"].mean()\n",
    "weight.plot.bar()\n",
    "plt.xlabel(\"Actual weight (Lbs)\")\n",
    "plt.ylabel(\"Winning rate\")\n",
    "plt.show()"
   ]
  },
  {
   "cell_type": "markdown",
   "metadata": {},
   "source": [
    "### History of one horse"
   ]
  },
  {
   "cell_type": "code",
   "execution_count": 45,
   "metadata": {},
   "outputs": [
    {
     "data": {
      "text/plain": [
       "CONTENTMENT          9\n",
       "SERGEANT TITANIUM    7\n",
       "SUN JEWELLERY        7\n",
       "ABLE FRIEND          7\n",
       "BLIZZARD             7\n",
       "Name: Horse_name, dtype: int64"
      ]
     },
     "execution_count": 45,
     "metadata": {},
     "output_type": "execute_result"
    }
   ],
   "source": [
    "# Looking up the horses that have won the most\n",
    "winnings = final_df.query(\"Won == 1\")\n",
    "horses_win = winnings[\"Horse_name\"].value_counts()\n",
    "horses_win.head()"
   ]
  },
  {
   "cell_type": "code",
   "execution_count": 46,
   "metadata": {},
   "outputs": [
    {
     "data": {
      "image/png": "[encoded data removed]",
      "text/plain": [
       "<Figure size 432x288 with 1 Axes>"
      ]
     },
     "metadata": {
      "needs_background": "light"
     },
     "output_type": "display_data"
    }
   ],
   "source": [
    "# Finding all data for the most profitable horse in the racing history\n",
    "horse_1 = final_df[final_df[\"Horse_name\"] == \"CONTENTMENT\"]\n",
    "\n",
    "# Distance ran by the horse\n",
    "plt.scatter(horse_1[\"Horse_age\"], horse_1[\"Distance\"])\n",
    "plt.xlabel(\"Horse age (years)\")\n",
    "plt.ylabel(\"Distance (m)\")\n",
    "plt.show()"
   ]
  },
  {
   "cell_type": "code",
   "execution_count": 47,
   "metadata": {
    "scrolled": true
   },
   "outputs": [
    {
     "data": {
      "image/png": "[encoded data removed]",
      "text/plain": [
       "<Figure size 432x288 with 1 Axes>"
      ]
     },
     "metadata": {
      "needs_background": "light"
     },
     "output_type": "display_data"
    }
   ],
   "source": [
    "# Horse pposition along its life\n",
    "\n",
    "plt.scatter(horse_1[\"Horse_age\"], horse_1[\"Final_position\"])\n",
    "plt.xlabel(\"Horse age (years)\")\n",
    "plt.ylabel(\"Position\")\n",
    "plt.show()"
   ]
  },
  {
   "cell_type": "markdown",
   "metadata": {},
   "source": [
    "### Position vs Actual weight"
   ]
  },
  {
   "cell_type": "code",
   "execution_count": 56,
   "metadata": {},
   "outputs": [
    {
     "name": "stdout",
     "output_type": "stream",
     "text": [
      "The r-squared value is: 0.4745295646600449\n"
     ]
    },
    {
     "data": {
      "image/png": "[encoded data removed]",
      "text/plain": [
       "<Figure size 432x288 with 1 Axes>"
      ]
     },
     "metadata": {
      "needs_background": "light"
     },
     "output_type": "display_data"
    }
   ],
   "source": [
    "# Final position vs actual weight\n",
    "plt.scatter(horse_1[\"Actual_weight\"], horse_1[\"Final_position\"])\n",
    "\n",
    "(slope, intercept, rvalue, pvalue, stderr) = linregress(horse_1[\"Actual_weight\"], horse_1[\"Final_position\"])\n",
    "regress_values = horse_1[\"Actual_weight\"] * slope + intercept\n",
    "plt.plot(horse_1[\"Actual_weight\"], regress_values, \"r-\")\n",
    "line_eq = \"y = \" + str(round(slope, 2)) + \"x + \" + str(round(intercept, 2))\n",
    "plt.annotate(line_eq, (117,8), fontsize=15, color=\"red\")\n",
    "\n",
    "print(f\"The r-squared value is: {rvalue}\")\n",
    "plt.xlabel(\"Actual weight\")\n",
    "plt.ylabel(\"Position\")\n",
    "plt.show()"
   ]
  },
  {
   "cell_type": "markdown",
   "metadata": {},
   "source": [
    "### Position vs Declared weight"
   ]
  },
  {
   "cell_type": "code",
   "execution_count": 57,
   "metadata": {},
   "outputs": [
    {
     "name": "stdout",
     "output_type": "stream",
     "text": [
      "The r-squared value is: 0.10641544461869007\n"
     ]
    },
    {
     "data": {
      "image/png": "[encoded data removed]",
      "text/plain": [
       "<Figure size 432x288 with 1 Axes>"
      ]
     },
     "metadata": {
      "needs_background": "light"
     },
     "output_type": "display_data"
    }
   ],
   "source": [
    "# Final position vs declared weight\n",
    "plt.scatter(horse_1[\"Declared_weight\"], horse_1[\"Final_position\"])\n",
    "\n",
    "(slope, intercept, rvalue, pvalue, stderr) = linregress(horse_1[\"Declared_weight\"], horse_1[\"Final_position\"])\n",
    "regress_values = horse_1[\"Declared_weight\"] * slope + intercept\n",
    "plt.plot(horse_1[\"Declared_weight\"], regress_values, \"r-\")\n",
    "line_eq = \"y = \" + str(round(slope, 2)) + \"x + \" + str(round(intercept, 2))\n",
    "plt.annotate(line_eq, (1120,8), fontsize=15, color=\"red\")\n",
    "\n",
    "print(f\"The r-squared value is: {rvalue}\")\n",
    "plt.xlabel(\"Declared_weight\")\n",
    "plt.ylabel(\"Position\")\n",
    "plt.show()"
   ]
  },
  {
   "cell_type": "code",
   "execution_count": 58,
   "metadata": {},
   "outputs": [
    {
     "name": "stdout",
     "output_type": "stream",
     "text": [
      "The r-squared value is: 0.33357127422364047\n"
     ]
    },
    {
     "data": {
      "image/png": "[encoded data removed]",
      "text/plain": [
       "<Figure size 432x288 with 1 Axes>"
      ]
     },
     "metadata": {
      "needs_background": "light"
     },
     "output_type": "display_data"
    }
   ],
   "source": [
    "# Actual weight vs declared weight\n",
    "plt.scatter(horse_1[\"Declared_weight\"], horse_1[\"Actual_weight\"])\n",
    "\n",
    "(slope, intercept, rvalue, pvalue, stderr) = linregress(horse_1[\"Declared_weight\"], horse_1[\"Actual_weight\"])\n",
    "regress_values = horse_1[\"Declared_weight\"] * slope + intercept\n",
    "plt.plot(horse_1[\"Declared_weight\"], regress_values, \"r-\")\n",
    "line_eq = \"y = \" + str(round(slope, 2)) + \"x + \" + str(round(intercept, 2))\n",
    "plt.annotate(line_eq, (1120,130), fontsize=15, color=\"red\")\n",
    "\n",
    "print(f\"The r-squared value is: {rvalue}\")\n",
    "plt.xlabel(\"Declared weight\")\n",
    "plt.ylabel(\"Actual weight\")\n",
    "plt.show()"
   ]
  },
  {
   "cell_type": "code",
   "execution_count": 55,
   "metadata": {
    "scrolled": true
   },
   "outputs": [
    {
     "data": {
      "image/png": "[encoded data removed]",
      "text/plain": [
       "<Figure size 432x288 with 1 Axes>"
      ]
     },
     "metadata": {
      "needs_background": "light"
     },
     "output_type": "display_data"
    },
    {
     "name": "stdout",
     "output_type": "stream",
     "text": [
      "GOOD            14\n",
      "GOOD TO FIRM     8\n",
      "Name: Surface_condition, dtype: int64\n",
      "1     9\n",
      "5     3\n",
      "2     3\n",
      "4     2\n",
      "3     2\n",
      "10    1\n",
      "9     1\n",
      "7     1\n",
      "Name: Final_position, dtype: int64\n"
     ]
    }
   ],
   "source": [
    "# Plotting the number of times the horse ran in a track with certain consitions\n",
    "plt.scatter(horse_1[\"Surface_condition\"], horse_1[\"Final_position\"])\n",
    "\n",
    "plt.xlabel(\"Surface condition\")\n",
    "plt.ylabel(\"Final position\")\n",
    "plt.show()\n",
    "\n",
    "print(horse_1[\"Surface_condition\"].value_counts())\n",
    "print(horse_1[\"Final_position\"].value_counts())"
   ]
  },
  {
   "cell_type": "markdown",
   "metadata": {},
   "source": [
    "### Most frequently participated horse"
   ]
  },
  {
   "cell_type": "code",
   "execution_count": 12,
   "metadata": {
    "scrolled": true
   },
   "outputs": [
    {
     "data": {
      "image/png": "[encoded data removed]",
      "text/plain": [
       "<Figure size 1080x288 with 1 Axes>"
      ]
     },
     "metadata": {
      "needs_background": "light"
     },
     "output_type": "display_data"
    }
   ],
   "source": [
    "# Most frequent horses\n",
    "final_df[\"Horse_name\"].value_counts().plot(figsize = (15, 4))\n",
    "plt.xlabel(\"Horse name\")\n",
    "plt.ylabel(\"Times participated\")\n",
    "plt.legend()\n",
    "plt.show()"
   ]
  },
  {
   "cell_type": "code",
   "execution_count": 80,
   "metadata": {
    "scrolled": true
   },
   "outputs": [
    {
     "data": {
      "text/html": [
       "<div>\n",
       "<style scoped>\n",
       "    .dataframe tbody tr th:only-of-type {\n",
       "        vertical-align: middle;\n",
       "    }\n",
       "\n",
       "    .dataframe tbody tr th {\n",
       "        vertical-align: top;\n",
       "    }\n",
       "\n",
       "    .dataframe thead th {\n",
       "        text-align: right;\n",
       "    }\n",
       "</style>\n",
       "<table border=\"1\" class=\"dataframe\">\n",
       "  <thead>\n",
       "    <tr style=\"text-align: right;\">\n",
       "      <th></th>\n",
       "      <th>Horse name</th>\n",
       "      <th>Participated</th>\n",
       "      <th>Won</th>\n",
       "      <th>Winning rate (%)</th>\n",
       "    </tr>\n",
       "  </thead>\n",
       "  <tbody>\n",
       "    <tr>\n",
       "      <th>0</th>\n",
       "      <td>ROYAL PARTNER</td>\n",
       "      <td>39</td>\n",
       "      <td>2</td>\n",
       "      <td>5.128205</td>\n",
       "    </tr>\n",
       "    <tr>\n",
       "      <th>1</th>\n",
       "      <td>ROCK THE TREE</td>\n",
       "      <td>39</td>\n",
       "      <td>2</td>\n",
       "      <td>5.128205</td>\n",
       "    </tr>\n",
       "    <tr>\n",
       "      <th>2</th>\n",
       "      <td>ST YAZIN</td>\n",
       "      <td>38</td>\n",
       "      <td>3</td>\n",
       "      <td>7.894737</td>\n",
       "    </tr>\n",
       "  </tbody>\n",
       "</table>\n",
       "</div>"
      ],
      "text/plain": [
       "      Horse name  Participated  Won  Winning rate (%)\n",
       "0  ROYAL PARTNER            39    2          5.128205\n",
       "1  ROCK THE TREE            39    2          5.128205\n",
       "2       ST YAZIN            38    3          7.894737"
      ]
     },
     "execution_count": 80,
     "metadata": {},
     "output_type": "execute_result"
    }
   ],
   "source": [
    "# Data frame to find the horses that have participated the most\n",
    "horse_name_df = final_df[\"Horse_name\"].value_counts()\n",
    "horse_name_df = pd.DataFrame(horse_name_df).reset_index()\n",
    "horse_name_df = horse_name_df.rename(columns={\"index\": \"Horse name\", \"Horse_name\": \"Participated\"})\n",
    "# Taking only a fixed number of first horses\n",
    "num = 3\n",
    "horse_name_df = horse_name_df.query(\"Participated > 30\").head(num)\n",
    "\n",
    "# Adding new columns to the previous dataframe\n",
    "horse_name_df[\"Won\"] = \"\"\n",
    "horse_name_df[\"Winning rate (%)\"] = \"\"\n",
    "\n",
    "# Arrays to store the new data\n",
    "winning = []\n",
    "rate = []\n",
    "\n",
    "for i in range(num):\n",
    "    # Getting the names of the most frequently participated horses\n",
    "    name = horse_name_df[\"Horse name\"][i]\n",
    "    # Getting the data from the original dataframe that corresponds to the selected horse and taking the \"Won\" column\n",
    "    name_win_1 = final_df[final_df[\"Horse_name\"] == name][\"Won\"]\n",
    "    name_win_2 = final_df[final_df[\"Horse_name\"] == name][\"Won\"]\n",
    "    # Getting the number of winnings and losses\n",
    "    w = name_win_1.value_counts()[1]\n",
    "    l = name_win_2.value_counts()[0]\n",
    "    # Assigning them to the arrays\n",
    "    winning.append(w)\n",
    "    rate.append(w / (w+l) * 100)\n",
    "\n",
    "# Adding data to the dataframe\n",
    "horse_name_df[\"Won\"] = winning\n",
    "horse_name_df[\"Winning rate (%)\"] = rate\n",
    "\n",
    "horse_name_df"
   ]
  },
  {
   "cell_type": "markdown",
   "metadata": {},
   "source": [
    "### Most frequently participated jockey"
   ]
  },
  {
   "cell_type": "code",
   "execution_count": 13,
   "metadata": {
    "scrolled": true
   },
   "outputs": [
    {
     "data": {
      "image/png": "[encoded data removed]",
      "text/plain": [
       "<Figure size 720x288 with 1 Axes>"
      ]
     },
     "metadata": {
      "needs_background": "light"
     },
     "output_type": "display_data"
    }
   ],
   "source": [
    "final_df[\"Jockey\"].value_counts().plot(figsize = (10, 4))\n",
    "plt.xlabel(\"Jockey\")\n",
    "plt.ylabel(\"Times participated\")\n",
    "plt.legend()\n",
    "plt.show()"
   ]
  },
  {
   "cell_type": "code",
   "execution_count": 81,
   "metadata": {},
   "outputs": [
    {
     "data": {
      "text/html": [
       "<div>\n",
       "<style scoped>\n",
       "    .dataframe tbody tr th:only-of-type {\n",
       "        vertical-align: middle;\n",
       "    }\n",
       "\n",
       "    .dataframe tbody tr th {\n",
       "        vertical-align: top;\n",
       "    }\n",
       "\n",
       "    .dataframe thead th {\n",
       "        text-align: right;\n",
       "    }\n",
       "</style>\n",
       "<table border=\"1\" class=\"dataframe\">\n",
       "  <thead>\n",
       "    <tr style=\"text-align: right;\">\n",
       "      <th></th>\n",
       "      <th>Jockey</th>\n",
       "      <th>Participated</th>\n",
       "      <th>Won</th>\n",
       "      <th>Winning rate (%)</th>\n",
       "    </tr>\n",
       "  </thead>\n",
       "  <tbody>\n",
       "    <tr>\n",
       "      <th>0</th>\n",
       "      <td>J Moreira</td>\n",
       "      <td>1472</td>\n",
       "      <td>364</td>\n",
       "      <td>24.728261</td>\n",
       "    </tr>\n",
       "    <tr>\n",
       "      <th>1</th>\n",
       "      <td>K Teetan</td>\n",
       "      <td>1282</td>\n",
       "      <td>84</td>\n",
       "      <td>6.552262</td>\n",
       "    </tr>\n",
       "    <tr>\n",
       "      <th>2</th>\n",
       "      <td>D Whyte</td>\n",
       "      <td>1281</td>\n",
       "      <td>125</td>\n",
       "      <td>9.758002</td>\n",
       "    </tr>\n",
       "  </tbody>\n",
       "</table>\n",
       "</div>"
      ],
      "text/plain": [
       "      Jockey  Participated  Won  Winning rate (%)\n",
       "0  J Moreira          1472  364         24.728261\n",
       "1   K Teetan          1282   84          6.552262\n",
       "2    D Whyte          1281  125          9.758002"
      ]
     },
     "execution_count": 81,
     "metadata": {},
     "output_type": "execute_result"
    }
   ],
   "source": [
    "# Data frame to find the jockeys that have participated the most\n",
    "jockey_name_df = final_df[\"Jockey\"].value_counts()\n",
    "jockey_name_df = pd.DataFrame(jockey_name_df).reset_index()\n",
    "jockey_name_df = jockey_name_df.rename(columns={\"index\": \"Jockey\", \"Jockey\": \"Participated\"})\n",
    "# Taking only a fixed number of first jockeys\n",
    "num = 3\n",
    "jockey_name_df = jockey_name_df.query(\"Participated > 30\").head(num)\n",
    "\n",
    "# Adding new columns to the previous dataframe\n",
    "jockey_name_df[\"Won\"] = \"\"\n",
    "jockey_name_df[\"Winning rate (%)\"] = \"\"\n",
    "\n",
    "# Arrays to store the new data\n",
    "winning = []\n",
    "rate = []\n",
    "\n",
    "for i in range(num):\n",
    "    # Getting the names of the most frequently participated jockeys\n",
    "    name = jockey_name_df[\"Jockey\"][i]\n",
    "    # Getting the data from the original dataframe that corresponds to the selected jockey and taking the \"Won\" column\n",
    "    name_win_1 = final_df[final_df[\"Jockey\"] == name][\"Won\"]\n",
    "    name_win_2 = final_df[final_df[\"Jockey\"] == name][\"Won\"]\n",
    "    # Getting the number of winnings and losses\n",
    "    w = name_win_1.value_counts()[1]\n",
    "    l = name_win_2.value_counts()[0]\n",
    "    # Assigning them to the arrays\n",
    "    winning.append(w)\n",
    "    rate.append(w / (w+l) * 100)\n",
    "\n",
    "# Adding data to the dataframe\n",
    "jockey_name_df[\"Won\"] = winning\n",
    "jockey_name_df[\"Winning rate (%)\"] = rate\n",
    "\n",
    "jockey_name_df"
   ]
  },
  {
   "cell_type": "markdown",
   "metadata": {},
   "source": [
    "### Most frequently participated Trainers"
   ]
  },
  {
   "cell_type": "code",
   "execution_count": 14,
   "metadata": {},
   "outputs": [
    {
     "data": {
      "image/png": "[encoded data removed]",
      "text/plain": [
       "<Figure size 720x288 with 1 Axes>"
      ]
     },
     "metadata": {
      "needs_background": "light"
     },
     "output_type": "display_data"
    }
   ],
   "source": [
    "final_df[\"Trainer\"].value_counts().plot(figsize = (10, 4))\n",
    "plt.xlabel(\"Trainer\")\n",
    "plt.ylabel(\"Times participated\")\n",
    "plt.legend()\n",
    "plt.show()"
   ]
  },
  {
   "cell_type": "code",
   "execution_count": 82,
   "metadata": {},
   "outputs": [
    {
     "data": {
      "text/html": [
       "<div>\n",
       "<style scoped>\n",
       "    .dataframe tbody tr th:only-of-type {\n",
       "        vertical-align: middle;\n",
       "    }\n",
       "\n",
       "    .dataframe tbody tr th {\n",
       "        vertical-align: top;\n",
       "    }\n",
       "\n",
       "    .dataframe thead th {\n",
       "        text-align: right;\n",
       "    }\n",
       "</style>\n",
       "<table border=\"1\" class=\"dataframe\">\n",
       "  <thead>\n",
       "    <tr style=\"text-align: right;\">\n",
       "      <th></th>\n",
       "      <th>Trainer</th>\n",
       "      <th>Participated</th>\n",
       "      <th>Won</th>\n",
       "      <th>Winning rate (%)</th>\n",
       "    </tr>\n",
       "  </thead>\n",
       "  <tbody>\n",
       "    <tr>\n",
       "      <th>0</th>\n",
       "      <td>A S Cruz</td>\n",
       "      <td>1287</td>\n",
       "      <td>113</td>\n",
       "      <td>8.780109</td>\n",
       "    </tr>\n",
       "    <tr>\n",
       "      <th>1</th>\n",
       "      <td>C Fownes</td>\n",
       "      <td>1282</td>\n",
       "      <td>116</td>\n",
       "      <td>9.048362</td>\n",
       "    </tr>\n",
       "    <tr>\n",
       "      <th>2</th>\n",
       "      <td>C H Yip</td>\n",
       "      <td>1261</td>\n",
       "      <td>75</td>\n",
       "      <td>5.947661</td>\n",
       "    </tr>\n",
       "  </tbody>\n",
       "</table>\n",
       "</div>"
      ],
      "text/plain": [
       "    Trainer  Participated  Won  Winning rate (%)\n",
       "0  A S Cruz          1287  113          8.780109\n",
       "1  C Fownes          1282  116          9.048362\n",
       "2   C H Yip          1261   75          5.947661"
      ]
     },
     "execution_count": 82,
     "metadata": {},
     "output_type": "execute_result"
    }
   ],
   "source": [
    "# Data frame to find the trainers that have trained the most horses\n",
    "trainer_name_df = final_df[\"Trainer\"].value_counts()\n",
    "trainer_name_df = pd.DataFrame(trainer_name_df).reset_index()\n",
    "trainer_name_df = trainer_name_df.rename(columns={\"index\": \"Trainer\", \"Trainer\": \"Participated\"})\n",
    "# Taking only a fixed number of first jockeys\n",
    "num = 3\n",
    "trainer_name_df = trainer_name_df.query(\"Participated > 30\").head(num)\n",
    "\n",
    "# Adding new columns to the previous dataframe\n",
    "trainer_name_df[\"Won\"] = \"\"\n",
    "trainer_name_df[\"Winning rate (%)\"] = \"\"\n",
    "\n",
    "# Arrays to store the new data\n",
    "winning = []\n",
    "rate = []\n",
    "\n",
    "for i in range(num):\n",
    "    # Getting the names of the most frequently participated trainers\n",
    "    name = trainer_name_df[\"Trainer\"][i]\n",
    "    # Getting the data from the original dataframe that corresponds to the selected trainer and taking the \"Won\" column\n",
    "    name_win_1 = final_df[final_df[\"Trainer\"] == name][\"Won\"]\n",
    "    name_win_2 = final_df[final_df[\"Trainer\"] == name][\"Won\"]\n",
    "    # Getting the number of winnings and losses\n",
    "    w = name_win_1.value_counts()[1]\n",
    "    l = name_win_2.value_counts()[0]\n",
    "    # Assigning them to the arrays\n",
    "    winning.append(w)\n",
    "    rate.append(w / (w+l) * 100)\n",
    "\n",
    "# Adding data to the dataframe\n",
    "trainer_name_df[\"Won\"] = winning\n",
    "trainer_name_df[\"Winning rate (%)\"] = rate\n",
    "\n",
    "trainer_name_df"
   ]
  },
  {
   "cell_type": "code",
   "execution_count": null,
   "metadata": {},
   "outputs": [],
   "source": []
  }
 ],
 "metadata": {
  "kernelspec": {
   "display_name": "Python 3",
   "language": "python",
   "name": "python3"
  },
  "language_info": {
   "codemirror_mode": {
    "name": "ipython",
    "version": 3
   },
   "file_extension": ".py",
   "mimetype": "text/x-python",
   "name": "python",
   "nbconvert_exporter": "python",
   "pygments_lexer": "ipython3",
   "version": "3.7.3"
  }
 },
 "nbformat": 4,
 "nbformat_minor": 4
}
