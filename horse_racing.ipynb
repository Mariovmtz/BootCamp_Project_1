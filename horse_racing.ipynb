{
 "cells": [
  {
   "cell_type": "markdown",
   "metadata": {},
   "source": [
    "# A ) DATA GATHERING AND CLEANING \n",
    "\n",
    "The data for our analysis comes from 4 different datasets, our first activity was to clean all of them and structure them in a single useful dataset with all the needed fields to analyze it further.\n",
    "\n",
    "1. All of our data was extracted from kaggle, data can be found in the following links:\n",
    "2. Horse Racing in Hong Kong - https://www.kaggle.com/gdaley/hkracing  \n",
    "3. Hong Kong Horse Racing Results 2014-2017 -https://www.kaggle.com/lantanacamara/hong-kong-horse-racing  \n",
    "\n",
    "Our raw data consist of the following files:\n",
    "\n",
    "### 1st set of data:\n",
    "- races.csv - each row represents a race, data can be merged without problem with race_id.\n",
    "- runs.csv - each row represents a horse in a race, data can be merged using race_id.\n",
    "\n",
    "### 2nd set of data:\n",
    "- result-race.csv - each row represents a race, data can be merged without problem with race_id\n",
    "- result-horse.csv - each row represents a horse in a race, data can be merged using race_id.\n",
    "\n"
   ]
  },
  {
   "cell_type": "markdown",
   "metadata": {},
   "source": [
    "------------------------------------------------\n",
    "### 1 - Importing necessary libraries for our analysis "
   ]
  },
  {
   "cell_type": "code",
   "execution_count": 196,
   "metadata": {},
   "outputs": [],
   "source": [
    "import pandas as pd\n",
    "import datetime\n",
    "import scipy.stats as sts\n",
    "import matplotlib.pyplot as plt\n",
    "import numpy as np"
   ]
  },
  {
   "cell_type": "markdown",
   "metadata": {},
   "source": [
    "------------------------------------------------\n",
    "### 2 - Loading all the necessary datasets into pandas dataframes and getting their columns."
   ]
  },
  {
   "cell_type": "code",
   "execution_count": 197,
   "metadata": {},
   "outputs": [
    {
     "name": "stdout",
     "output_type": "stream",
     "text": [
      "Index(['race_id', 'date', 'venue', 'race_no', 'config', 'surface', 'distance',\n",
      "       'going', 'horse_ratings', 'prize', 'race_class', 'sec_time1',\n",
      "       'sec_time2', 'sec_time3', 'sec_time4', 'sec_time5', 'sec_time6',\n",
      "       'sec_time7', 'time1', 'time2', 'time3', 'time4', 'time5', 'time6',\n",
      "       'time7', 'place_combination1', 'place_combination2',\n",
      "       'place_combination3', 'place_combination4', 'place_dividend1',\n",
      "       'place_dividend2', 'place_dividend3', 'place_dividend4',\n",
      "       'win_combination1', 'win_dividend1', 'win_combination2',\n",
      "       'win_dividend2'],\n",
      "      dtype='object')\n",
      "Index(['race_id', 'horse_no', 'horse_id', 'result', 'won', 'lengths_behind',\n",
      "       'horse_age', 'horse_country', 'horse_type', 'horse_rating',\n",
      "       'horse_gear', 'declared_weight', 'actual_weight', 'draw',\n",
      "       'position_sec1', 'position_sec2', 'position_sec3', 'position_sec4',\n",
      "       'position_sec5', 'position_sec6', 'behind_sec1', 'behind_sec2',\n",
      "       'behind_sec3', 'behind_sec4', 'behind_sec5', 'behind_sec6', 'time1',\n",
      "       'time2', 'time3', 'time4', 'time5', 'time6', 'finish_time', 'win_odds',\n",
      "       'place_odds', 'trainer_id', 'jockey_id'],\n",
      "      dtype='object')\n",
      "Index(['src', 'race_date', 'race_course', 'race_number', 'race_id',\n",
      "       'race_class', 'race_distance', 'track_condition', 'race_name', 'track',\n",
      "       'sectional_time', 'incident_report'],\n",
      "      dtype='object')\n",
      "Index(['finishing_position', 'horse_number', 'horse_name', 'horse_id',\n",
      "       'jockey', 'trainer', 'actual_weight', 'declared_horse_weight', 'draw',\n",
      "       'length_behind_winner', 'running_position_1', 'running_position_2',\n",
      "       'running_position_3', 'running_position_4', 'finish_time', 'win_odds',\n",
      "       'running_position_5', 'running_position_6', 'race_id'],\n",
      "      dtype='object')\n"
     ]
    }
   ],
   "source": [
    "race_hk1_org = pd.read_csv(\"datasets/races.csv\")\n",
    "race_horse_hk1_org = pd.read_csv(\"datasets/runs.csv\")\n",
    "race_hk2_org = pd.read_csv(\"datasets/race-result-race.csv\")\n",
    "race_horse_hk2_org = pd.read_csv(\"datasets/race-result-horse.csv\")\n",
    "\n",
    "print(race_hk1_org.columns)\n",
    "print(race_horse_hk1_org.columns)\n",
    "print(race_hk2_org.columns)\n",
    "print(race_horse_hk2_org.columns)"
   ]
  },
  {
   "cell_type": "markdown",
   "metadata": {},
   "source": [
    "--------------------------------------------------------------\n",
    "### 3 - Choosing only the necessary fields from each dataframe for our analysis.    \n",
    "    "
   ]
  },
  {
   "cell_type": "code",
   "execution_count": 198,
   "metadata": {},
   "outputs": [],
   "source": [
    "race_hk1 = race_hk1_org[[\n",
    "            \"race_id\", \"date\", \"race_no\", \"config\", \"surface\", \"distance\", \"going\", \"horse_ratings\",\n",
    "            \"prize\", \"race_class\", \n",
    "\n",
    "            ]]\n",
    "\n",
    "race_hk2 = race_hk2_org[[\"race_date\", \"race_course\", \"race_number\", \"race_id\", \"race_class\", \n",
    "                         \"track_condition\", \"race_name\", \"track\"\n",
    "                        ]]\n",
    "    \n",
    "\n",
    "race_horse_hk1 = race_horse_hk1_org[[\n",
    "             \"race_id\", \"horse_no\", \"horse_id\", \"result\", \"won\", \"lengths_behind\", \"horse_age\", \n",
    "             \"horse_country\", \"horse_type\", \"horse_rating\", \"horse_gear\", \"declared_weight\", \"actual_weight\",\n",
    "             \"draw\", \"finish_time\", \"win_odds\", \"place_odds\"\n",
    "             ]]\n",
    "\n",
    "race_horse_hk2 = race_horse_hk2_org[[\"horse_number\", \"horse_name\", \"horse_id\", \"jockey\", \"trainer\", \n",
    "                                     \"race_id\"\n",
    "                      ]]\n"
   ]
  },
  {
   "cell_type": "markdown",
   "metadata": {},
   "source": [
    "--------------------------------------------------------------\n",
    "### 4 - Merging similar dataframes\n",
    "    race_hk1 - race_horse_hk1\n",
    "    race_hk2 - race_horse_hk2 \n",
    "    \n",
    "    Printing the number of rows on each dataset before and after the merge is helping us to determine 2 things:\n",
    "    \n",
    "    There is a one to many relationship between (race - race_horse hk1) and (race - race_horse hk2).\n",
    "    data is complete because records are not being filtered due to inner join in the merge functions.\n"
   ]
  },
  {
   "cell_type": "code",
   "execution_count": 199,
   "metadata": {},
   "outputs": [
    {
     "name": "stdout",
     "output_type": "stream",
     "text": [
      "Before merging\n",
      "6349\n",
      "79447\n",
      "2367\n",
      "30189\n",
      "After merging\n",
      "79447\n",
      "30189\n"
     ]
    }
   ],
   "source": [
    "print(f\"Before merging\")\n",
    "print(len(race_hk1))\n",
    "print(len(race_horse_hk1))\n",
    "print(len(race_hk2))\n",
    "print(len(race_horse_hk2))\n",
    "\n",
    "races_merged_hk1 = pd.merge(race_hk1, race_horse_hk1, on=\"race_id\")\n",
    "races_merged_hk2 = pd.merge(race_hk2, race_horse_hk2, on=\"race_id\")\n",
    "\n",
    "print(f\"After merging\")\n",
    "print(len(races_merged_hk1))\n",
    "print(len(races_merged_hk2))"
   ]
  },
  {
   "cell_type": "markdown",
   "metadata": {},
   "source": [
    "--------------------------------------------------------------\n",
    "### 5 - Dropping empty values on horse_number\n",
    "\n",
    "    Explanation: horse_number shows the assigned number of a horse in a specific race, when a horse  doesn't have a number but a code it means that the horse dind't finish the career or didn't participate at all.\n",
    "    Indicent codes that were in this field:\n",
    "    DISQ - Disquialified\n",
    "    DNF - Did not finish\n",
    "    FE - Horse fell during the race\n",
    "    PU - Pulled Up\n",
    "    TNP - Took no part\n",
    "    UR - Unseated raider\n",
    "    VOID - Void RACE\n",
    "    WR - Withdrawn by starter\n",
    "    WV/WV-A - Withdrawn on veterinary grounds\n",
    "    WX/WX-A - Withdrawn by order of stewards\n",
    "    WXNR - Withdrawn-non runner"
   ]
  },
  {
   "cell_type": "code",
   "execution_count": 200,
   "metadata": {},
   "outputs": [
    {
     "name": "stdout",
     "output_type": "stream",
     "text": [
      "29851\n"
     ]
    }
   ],
   "source": [
    "races_merged_hk2 = races_merged_hk2.dropna(subset=['horse_number'])\n",
    "print(len(races_merged_hk2))"
   ]
  },
  {
   "cell_type": "markdown",
   "metadata": {},
   "source": [
    "--------------------------------------------------------------\n",
    "### 6 - Determining unique fields in a row of our dataset to understand exaclty what we were analyzing.\n",
    "\n",
    "    Both of our datasets are representing a single horse on a single day race of the 8-11 races that may happen during the day\n",
    "    \n",
    "    race_id - Id of the race/event on a single day.\n",
    "    race_no - number of race, of the minimun 8 and maximun 11 that may happen that day. \n",
    "    horse_no - number of horse for that specific race_no on that specific race_id, a horse may participate on some or all races during that day."
   ]
  },
  {
   "cell_type": "code",
   "execution_count": 201,
   "metadata": {},
   "outputs": [
    {
     "name": "stdout",
     "output_type": "stream",
     "text": [
      "79447\n",
      "29851\n"
     ]
    }
   ],
   "source": [
    "print(len(races_merged_hk1[[\"race_id\", \"race_no\", \"horse_no\"]].drop_duplicates()))\n",
    "print(len(races_merged_hk2[[\"race_id\", \"race_number\", \"horse_number\"]].drop_duplicates()))"
   ]
  },
  {
   "cell_type": "markdown",
   "metadata": {},
   "source": [
    "--------------------------------------------------------------\n",
    "### 7 - Joining both datasets from different sources with apparently no matching fields.\n",
    "\n",
    "    As both datasets (2 tables per dataset) were loaded from different Kaggle source and both of them had slightly different fields, we were trying to choose one of them, however we wanted to see if both of them could be joined.\n",
    "    \n",
    "    Trying to join them by race_id didn't work at all\n",
    "    \n",
    "    why?\n",
    "    \n",
    "    Because both of them were using a very different nomenclature for the race_id, after investigating further and trying to join them using different fields without sucess we were about to give up, however reading in kaggle we found out that one of the datasets (races_merged_hk1 source files) were deliberately obfuscated by the owner to not show sensible information regarding dates, horse names, trainer and jockeys.\n",
    "    \n",
    "    In a thread in Kaggle we found out the answer coming from the creator of the dataset, he applied a - pd.to_timedelta('4123 days') to all dates, therefore re adjusting the date using the same function would allow us to join  datasets correctly by 3 fields:\n",
    "    \n",
    "    race date - only a race/event is run during a single day\n",
    "    race no - unique identifier of a race on a race/event\n",
    "    horse no - horses have a unique identifier for each race\n",
    "    \n",
    "    In order to do this we had to tweak and correct/convert a little bit our data"
   ]
  },
  {
   "cell_type": "code",
   "execution_count": 202,
   "metadata": {},
   "outputs": [
    {
     "name": "stdout",
     "output_type": "stream",
     "text": [
      "race_no                   int64\n",
      "horse_no                  int64\n",
      "distance                  int64\n",
      "actual_weight             int64\n",
      "date             datetime64[ns]\n",
      "dtype: object\n",
      "race_number              int64\n",
      "horse_number             int64\n",
      "race_date       datetime64[ns]\n",
      "dtype: object\n"
     ]
    }
   ],
   "source": [
    "races_merged_hk1[\"date\"] = pd.to_datetime(races_merged_hk1[\"date\"]) + pd.to_timedelta('4123 days')\n",
    "races_merged_hk2[\"horse_number\"] = races_merged_hk2[\"horse_number\"].astype(int)\n",
    "races_merged_hk2[\"race_date\"] = pd.to_datetime(races_merged_hk2[\"race_date\"])\n",
    "print(races_merged_hk1[[\"race_no\", \"horse_no\", \"distance\", \"actual_weight\", \"date\"]].dtypes)\n",
    "print(races_merged_hk2[[\"race_number\", \"horse_number\", \"race_date\"]].dtypes)"
   ]
  },
  {
   "cell_type": "markdown",
   "metadata": {},
   "source": [
    "--------------------------------------------------------------\n",
    "### 8 - Joining both datasets by race number, horse number and race date."
   ]
  },
  {
   "cell_type": "code",
   "execution_count": 203,
   "metadata": {},
   "outputs": [],
   "source": [
    "final_df = pd.merge(races_merged_hk1, races_merged_hk2, how=\"inner\", left_on = [\"race_no\", \"horse_no\", \"date\"],\n",
    "                   right_on = [\"race_number\", \"horse_number\", \"race_date\"])\n",
    "\n",
    "final_df.count()\n",
    "\n",
    "final_df.to_csv(\"final.csv\")"
   ]
  },
  {
   "cell_type": "markdown",
   "metadata": {},
   "source": [
    "--------------------------------------------------------------\n",
    "### 9 - Validating our final dataframe\n",
    "\n",
    "    How do we know that the join was a sucess?\n",
    "    \n",
    "    Joining both datasets with a inner join produced a dataframe of 22544, we could say that this fields are indeed complete and there is almost no missing information.\n",
    "    \n",
    "    What we won?\n",
    "    \n",
    "    Additional fields from both datasets and qualitative information regarding Jockeys, trainers and horse names.\n",
    "    \n",
    "    what we lost?\n",
    "    \n",
    "    around 50,000 records of data that had races before 2014, in fact our dataset has careers from 2014-2016\n",
    "    \n",
    "   \n",
    "    We came to the conclusion that having 22544 of full data was good for our analysis, also the 3 important fields that are representing a single record in our dataset shows that we do not have repetitive/wrong data"
   ]
  },
  {
   "cell_type": "code",
   "execution_count": 207,
   "metadata": {},
   "outputs": [
    {
     "name": "stdout",
     "output_type": "stream",
     "text": [
      "22544\n",
      "22544\n",
      "2014-09-14 00:00:00\n",
      "2016-12-11 00:00:00\n"
     ]
    },
    {
     "data": {
      "text/plain": [
       "Index(['race_id_x', 'date', 'race_no', 'config', 'surface', 'distance',\n",
       "       'going', 'horse_ratings', 'prize', 'race_class_x', 'horse_no',\n",
       "       'horse_id_x', 'result', 'won', 'lengths_behind', 'horse_age',\n",
       "       'horse_country', 'horse_type', 'horse_rating', 'horse_gear',\n",
       "       'declared_weight', 'actual_weight', 'draw', 'finish_time', 'win_odds',\n",
       "       'place_odds', 'race_date', 'race_course', 'race_number', 'race_id_y',\n",
       "       'race_class_y', 'track_condition', 'race_name', 'track', 'horse_number',\n",
       "       'horse_name', 'horse_id_y', 'jockey', 'trainer'],\n",
       "      dtype='object')"
      ]
     },
     "execution_count": 207,
     "metadata": {},
     "output_type": "execute_result"
    }
   ],
   "source": [
    "print(len(final_df))\n",
    "print(len(final_df[[\"race_id_x\", \"race_no\", \"horse_no\"]].drop_duplicates()))\n",
    "print(final_df[\"date\"].min())\n",
    "print(final_df[\"date\"].max())\n",
    "final_df.columns"
   ]
  },
  {
   "cell_type": "markdown",
   "metadata": {},
   "source": [
    "--------------------------------------------------------------\n",
    "### 10 - Finally we renamed the columns to have a common dataset to work separately as a team."
   ]
  },
  {
   "cell_type": "code",
   "execution_count": 209,
   "metadata": {},
   "outputs": [
    {
     "data": {
      "text/plain": [
       "Index(['Race_id', 'Date', 'Race_no', 'config', 'surface', 'Distance',\n",
       "       'Surface_condition', 'horse_ratings', 'Prize', 'Class', 'Horse_no',\n",
       "       'horse_id_x', 'Final_position', 'Won', 'lengths_behind', 'Horse_age',\n",
       "       'Horse_country', 'Horse_type', 'horse_rating', 'horse_gear',\n",
       "       'Declared_weight', 'Actual_weight', 'draw', 'Finish_time', 'win_odds',\n",
       "       'place_odds', 'race_date', 'Course', 'race_number', 'race_id_y',\n",
       "       'race_class_y', 'track_condition', 'Race_name', 'Track', 'horse_number',\n",
       "       'Horse_name', 'Horse_id', 'Jockey', 'Trainer'],\n",
       "      dtype='object')"
      ]
     },
     "execution_count": 209,
     "metadata": {},
     "output_type": "execute_result"
    }
   ],
   "source": [
    "final_df=final_df.rename(columns={\"race_id_x\":\"Race_id\",\n",
    "                                 \"date\":\"Date\",\n",
    "                                 \"race_no\":\"Race_no\",\n",
    "                                 \"distance\":\"Distance\",\n",
    "                                 \"going\":\"Surface_condition\",\n",
    "                                 \"prize\":\"Prize\",\n",
    "                                 \"horse_no\":\"Horse_no\",\n",
    "                                 \"horse_id_y\":\"Horse_id\",\n",
    "                                 \"result\":\"Final_position\",\n",
    "                                 \"won\":\"Won\",\n",
    "                                 \"horse_age\":\"Horse_age\",\n",
    "                                 \"horse_country\":\"Horse_country\",\n",
    "                                 \"horse_type\":\"Horse_type\",\n",
    "                                 \"actual_weight\":\"Actual_weight\",\n",
    "                                 \"finish_time\":\"Finish_time\",\n",
    "                                 \"race_course\":\"Course\",\n",
    "                                 \"race_class_x\":\"Class\",                                \n",
    "                                 \"race_name\":\"Race_name\",\n",
    "                                 \"track\":\"Track\",\n",
    "                                 \"horse_name\":\"Horse_name\",\n",
    "                                 \"jockey\":\"Jockey\",\n",
    "                                 \"trainer\":\"Trainer\",\n",
    "                                 \"declared_weight\":\"Declared_weight\",\n",
    "                                 })\n",
    "final_df.columns"
   ]
  },
  {
   "cell_type": "markdown",
   "metadata": {},
   "source": [
    "# B ) DATA EXPLORATION\n",
    "\n",
    "\n",
    "We began exploring the data trying to understand it and plotting different graphics, this in turn helped us to determine what was going to be the objective of our analysis: What factors influece on the final result of a horse? is it possible to predict the outcome?"
   ]
  },
  {
   "cell_type": "code",
   "execution_count": null,
   "metadata": {},
   "outputs": [],
   "source": []
  },
  {
   "cell_type": "code",
   "execution_count": 210,
   "metadata": {},
   "outputs": [],
   "source": [
    "### MARTIN WORK"
   ]
  },
  {
   "cell_type": "code",
   "execution_count": 62,
   "metadata": {},
   "outputs": [
    {
     "data": {
      "text/html": [
       "<div>\n",
       "<style scoped>\n",
       "    .dataframe tbody tr th:only-of-type {\n",
       "        vertical-align: middle;\n",
       "    }\n",
       "\n",
       "    .dataframe tbody tr th {\n",
       "        vertical-align: top;\n",
       "    }\n",
       "\n",
       "    .dataframe thead th {\n",
       "        text-align: right;\n",
       "    }\n",
       "</style>\n",
       "<table border=\"1\" class=\"dataframe\">\n",
       "  <thead>\n",
       "    <tr style=\"text-align: right;\">\n",
       "      <th></th>\n",
       "      <th>Win Rate</th>\n",
       "      <th># of Horses</th>\n",
       "    </tr>\n",
       "    <tr>\n",
       "      <th>Horse_country</th>\n",
       "      <th></th>\n",
       "      <th></th>\n",
       "    </tr>\n",
       "  </thead>\n",
       "  <tbody>\n",
       "    <tr>\n",
       "      <th>SAF</th>\n",
       "      <td>9.01</td>\n",
       "      <td>222</td>\n",
       "    </tr>\n",
       "    <tr>\n",
       "      <th>AUS</th>\n",
       "      <td>8.58</td>\n",
       "      <td>8657</td>\n",
       "    </tr>\n",
       "    <tr>\n",
       "      <th>JPN</th>\n",
       "      <td>8.47</td>\n",
       "      <td>59</td>\n",
       "    </tr>\n",
       "    <tr>\n",
       "      <th>NZ</th>\n",
       "      <td>8.32</td>\n",
       "      <td>6872</td>\n",
       "    </tr>\n",
       "    <tr>\n",
       "      <th>USA</th>\n",
       "      <td>7.73</td>\n",
       "      <td>686</td>\n",
       "    </tr>\n",
       "    <tr>\n",
       "      <th>GB</th>\n",
       "      <td>7.59</td>\n",
       "      <td>2054</td>\n",
       "    </tr>\n",
       "    <tr>\n",
       "      <th>IRE</th>\n",
       "      <td>6.87</td>\n",
       "      <td>3190</td>\n",
       "    </tr>\n",
       "    <tr>\n",
       "      <th>ARG</th>\n",
       "      <td>5.88</td>\n",
       "      <td>17</td>\n",
       "    </tr>\n",
       "    <tr>\n",
       "      <th>ITY</th>\n",
       "      <td>5.26</td>\n",
       "      <td>57</td>\n",
       "    </tr>\n",
       "    <tr>\n",
       "      <th>FR</th>\n",
       "      <td>4.62</td>\n",
       "      <td>606</td>\n",
       "    </tr>\n",
       "    <tr>\n",
       "      <th>GER</th>\n",
       "      <td>4.13</td>\n",
       "      <td>121</td>\n",
       "    </tr>\n",
       "    <tr>\n",
       "      <th>CAN</th>\n",
       "      <td>0.00</td>\n",
       "      <td>1</td>\n",
       "    </tr>\n",
       "    <tr>\n",
       "      <th>SPA</th>\n",
       "      <td>0.00</td>\n",
       "      <td>2</td>\n",
       "    </tr>\n",
       "  </tbody>\n",
       "</table>\n",
       "</div>"
      ],
      "text/plain": [
       "               Win Rate  # of Horses\n",
       "Horse_country                       \n",
       "SAF                9.01          222\n",
       "AUS                8.58         8657\n",
       "JPN                8.47           59\n",
       "NZ                 8.32         6872\n",
       "USA                7.73          686\n",
       "GB                 7.59         2054\n",
       "IRE                6.87         3190\n",
       "ARG                5.88           17\n",
       "ITY                5.26           57\n",
       "FR                 4.62          606\n",
       "GER                4.13          121\n",
       "CAN                0.00            1\n",
       "SPA                0.00            2"
      ]
     },
     "execution_count": 62,
     "metadata": {},
     "output_type": "execute_result"
    }
   ],
   "source": [
    "ctry=round(pd.DataFrame(final_df.groupby(\"Horse_country\")[\"Won\"].mean())*100,2)\n",
    "ctry=ctry.rename(columns={\"Won\":\"Win Rate\",\"Horse_country\":\"Country\"})\n",
    "ctry[\"# of Horses\"]=final_df.groupby(\"Horse_country\")[\"Horse_id\"].count()\n",
    "ctry=ctry.sort_values(by=\"Win Rate\",ascending=False)\n",
    "saf=final_df.query(\"Horse_country=='SAF'\")\n",
    "safmode=saf[\"Actual_weight\"].mode()\n",
    "ctry\n",
    "\n"
   ]
  },
  {
   "cell_type": "code",
   "execution_count": 63,
   "metadata": {},
   "outputs": [],
   "source": [
    "rr=final_df.drop_duplicates(\"Horse_id\")\n",
    "r40=rr.query(\"horse_rating<40\")\n",
    "r60=rr.query(\"horse_rating>40 and horse_rating<=60\")\n",
    "r80=rr.query(\"horse_rating>60 and horse_rating<=80\")\n",
    "r100=rr.query(\"horse_rating>80 and horse_rating<=100\")"
   ]
  },
  {
   "cell_type": "code",
   "execution_count": 64,
   "metadata": {},
   "outputs": [
    {
     "name": "stdout",
     "output_type": "stream",
     "text": [
      "The r-squared is: 0.9724864657291215\n"
     ]
    },
    {
     "data": {
      "image/png": "[encoded data removed]",
      "text/plain": [
       "<Figure size 432x288 with 1 Axes>"
      ]
     },
     "metadata": {
      "needs_background": "light"
     },
     "output_type": "display_data"
    }
   ],
   "source": [
    "#HACER FUNCION\n",
    "\n",
    "x_values = r40[\"horse_rating\"]\n",
    "y_values = r40[\"Actual_weight\"]\n",
    "(slope, intercept, rvalue, pvalue, stderr) = linregress(x_values, y_values)\n",
    "regress_values = x_values * slope + intercept\n",
    "line_eq = \"y = \" + str(round(slope,2)) + \"x + \" + str(round(intercept,2))\n",
    "plt.scatter(x_values,y_values)\n",
    "plt.plot(x_values,regress_values,\"r-\")\n",
    "plt.annotate(line_eq,(25,105),fontsize=15,color=\"red\")\n",
    "plt.xlabel('Horse Rating')\n",
    "plt.ylabel('Actual weight')\n",
    "print(f\"The r-squared is: {rvalue}\")\n",
    "plt.show()\n",
    "\n"
   ]
  },
  {
   "cell_type": "code",
   "execution_count": 65,
   "metadata": {},
   "outputs": [
    {
     "name": "stdout",
     "output_type": "stream",
     "text": [
      "The r-squared is: 0.14646500938136114\n"
     ]
    },
    {
     "data": {
      "image/png": "[encoded data removed]",
      "text/plain": [
       "<Figure size 432x288 with 1 Axes>"
      ]
     },
     "metadata": {
      "needs_background": "light"
     },
     "output_type": "display_data"
    }
   ],
   "source": [
    "x_values = r60[\"horse_rating\"]\n",
    "y_values = r60[\"Actual_weight\"]\n",
    "(slope, intercept, rvalue, pvalue, stderr) = linregress(x_values, y_values)\n",
    "regress_values = x_values * slope + intercept\n",
    "line_eq = \"y = \" + str(round(slope,2)) + \"x + \" + str(round(intercept,2))\n",
    "plt.scatter(x_values,y_values)\n",
    "plt.plot(x_values,regress_values,\"r-\")\n",
    "plt.annotate(line_eq,(47.5,105),fontsize=15,color=\"red\")\n",
    "plt.xlabel('Horse Rating')\n",
    "plt.ylabel('Actual weight')\n",
    "print(f\"The r-squared is: {rvalue}\")\n",
    "plt.show()"
   ]
  },
  {
   "cell_type": "code",
   "execution_count": 66,
   "metadata": {},
   "outputs": [
    {
     "name": "stdout",
     "output_type": "stream",
     "text": [
      "The r-squared is: 0.8622084992506608\n"
     ]
    },
    {
     "data": {
      "image/png": "[encoded data removed]",
      "text/plain": [
       "<Figure size 432x288 with 1 Axes>"
      ]
     },
     "metadata": {
      "needs_background": "light"
     },
     "output_type": "display_data"
    }
   ],
   "source": [
    "x_values = r80[\"horse_rating\"]\n",
    "y_values = r80[\"Actual_weight\"]\n",
    "(slope, intercept, rvalue, pvalue, stderr) = linregress(x_values, y_values)\n",
    "regress_values = x_values * slope + intercept\n",
    "line_eq = \"y = \" + str(round(slope,2)) + \"x + \" + str(round(intercept,2))\n",
    "plt.scatter(x_values,y_values)\n",
    "plt.plot(x_values,regress_values,\"r-\")\n",
    "plt.annotate(line_eq,(67,105),fontsize=15,color=\"red\")\n",
    "plt.xlabel('Horse Rating')\n",
    "plt.ylabel('Actual weight')\n",
    "print(f\"The r-squared is: {rvalue}\")\n",
    "plt.show()\n",
    "\n"
   ]
  },
  {
   "cell_type": "code",
   "execution_count": 67,
   "metadata": {},
   "outputs": [
    {
     "name": "stdout",
     "output_type": "stream",
     "text": [
      "The r-squared is: 0.253455815654013\n"
     ]
    },
    {
     "data": {
      "image/png": "[encoded data removed]",
      "text/plain": [
       "<Figure size 432x288 with 1 Axes>"
      ]
     },
     "metadata": {
      "needs_background": "light"
     },
     "output_type": "display_data"
    }
   ],
   "source": [
    "x_values = r100[\"horse_rating\"]\n",
    "y_values = r100[\"Actual_weight\"]\n",
    "(slope, intercept, rvalue, pvalue, stderr) = linregress(x_values, y_values)\n",
    "regress_values = x_values * slope + intercept\n",
    "line_eq = \"y = \" + str(round(slope,2)) + \"x + \" + str(round(intercept,2))\n",
    "plt.scatter(x_values,y_values)\n",
    "plt.plot(x_values,regress_values,\"r-\")\n",
    "plt.annotate(line_eq,(92.5,103),fontsize=15,color=\"red\")\n",
    "plt.xlabel('Horse Rating')\n",
    "plt.ylabel('Actual weight')\n",
    "print(f\"The r-squared is: {rvalue}\")\n",
    "plt.show()\n",
    "\n"
   ]
  },
  {
   "cell_type": "code",
   "execution_count": 68,
   "metadata": {},
   "outputs": [
    {
     "data": {
      "text/plain": [
       "Index(['Race_id', 'Date', 'Race_no', 'config', 'surface', 'Distance',\n",
       "       'Surface_condition', 'horse_ratings', 'Prize', 'Class', 'Horse_no',\n",
       "       'horse_id_x', 'Final_position', 'Won', 'lengths_behind', 'Horse_age',\n",
       "       'Horse_country', 'Horse_type', 'horse_rating', 'horse_gear',\n",
       "       'Declared_weight', 'Actual_weight', 'draw', 'Finish_time', 'win_odds',\n",
       "       'place_odds', 'race_date', 'Course', 'race_number', 'race_id_y',\n",
       "       'race_class_y', 'track_condition', 'Race_name', 'Track', 'horse_number',\n",
       "       'Horse_name', 'Horse_id', 'Jockey', 'Trainer'],\n",
       "      dtype='object')"
      ]
     },
     "execution_count": 68,
     "metadata": {},
     "output_type": "execute_result"
    }
   ],
   "source": [
    "final_df.columns"
   ]
  },
  {
   "cell_type": "code",
   "execution_count": 69,
   "metadata": {},
   "outputs": [
    {
     "data": {
      "text/html": [
       "<div>\n",
       "<style scoped>\n",
       "    .dataframe tbody tr th:only-of-type {\n",
       "        vertical-align: middle;\n",
       "    }\n",
       "\n",
       "    .dataframe tbody tr th {\n",
       "        vertical-align: top;\n",
       "    }\n",
       "\n",
       "    .dataframe thead th {\n",
       "        text-align: right;\n",
       "    }\n",
       "</style>\n",
       "<table border=\"1\" class=\"dataframe\">\n",
       "  <thead>\n",
       "    <tr style=\"text-align: right;\">\n",
       "      <th></th>\n",
       "      <th>Number of Horses</th>\n",
       "      <th>Declared weight mean (lb)</th>\n",
       "      <th>Actual weight mode (lb)</th>\n",
       "      <th>Prize $</th>\n",
       "    </tr>\n",
       "  </thead>\n",
       "  <tbody>\n",
       "    <tr>\n",
       "      <th>0-40</th>\n",
       "      <td>2640</td>\n",
       "      <td>1091.21</td>\n",
       "      <td>126</td>\n",
       "      <td>606405</td>\n",
       "    </tr>\n",
       "    <tr>\n",
       "      <th>41-60</th>\n",
       "      <td>10116</td>\n",
       "      <td>1107.12</td>\n",
       "      <td>129</td>\n",
       "      <td>897403</td>\n",
       "    </tr>\n",
       "    <tr>\n",
       "      <th>61-80</th>\n",
       "      <td>6477</td>\n",
       "      <td>1111.82</td>\n",
       "      <td>125</td>\n",
       "      <td>1145580</td>\n",
       "    </tr>\n",
       "    <tr>\n",
       "      <th>81-130</th>\n",
       "      <td>3311</td>\n",
       "      <td>1122.49</td>\n",
       "      <td>120</td>\n",
       "      <td>3272810</td>\n",
       "    </tr>\n",
       "  </tbody>\n",
       "</table>\n",
       "</div>"
      ],
      "text/plain": [
       "        Number of Horses  Declared weight mean (lb)  Actual weight mode (lb)  \\\n",
       "0-40                2640                    1091.21                      126   \n",
       "41-60              10116                    1107.12                      129   \n",
       "61-80               6477                    1111.82                      125   \n",
       "81-130              3311                    1122.49                      120   \n",
       "\n",
       "        Prize $  \n",
       "0-40     606405  \n",
       "41-60    897403  \n",
       "61-80   1145580  \n",
       "81-130  3272810  "
      ]
     },
     "execution_count": 69,
     "metadata": {},
     "output_type": "execute_result"
    }
   ],
   "source": [
    "rating=final_df\n",
    "bins=[0,40,60,80,150]\n",
    "labels=[\"0-40\",\"41-60\",\"61-80\",\"81-130\"]\n",
    "ratings=pd.DataFrame(pd.cut(rating[\"horse_rating\"],bins=bins,labels=labels).value_counts())\n",
    "#ratings['Rate of Won races']=round(rating.groupby(pd.cut(rating[\"horse_rating\"],bins=bins,labels=labels)).agg({'Won':'mean'})*100,2)\n",
    "ratings['Declared weight mean (lb)']=round(rating.groupby(pd.cut(rating[\"horse_rating\"],bins=bins,labels=labels)).agg({'Declared_weight':'mean'}),2)\n",
    "ratings['Actual weight mode (lb)']=[129,125,120,126]\n",
    "ratings['Prize $']=rating.groupby(pd.cut(rating[\"horse_rating\"],bins=bins,labels=labels)).agg({'Prize':'mean'})\n",
    "ratings['Prize $']=ratings['Prize $'].apply(lambda x: '%.0f' % x)\n",
    "ratings=ratings.sort_index()\n",
    "ratings=ratings.rename(columns={\"horse_rating\":\"Number of Horses\"})\n",
    "ratings"
   ]
  },
  {
   "cell_type": "code",
   "execution_count": 70,
   "metadata": {},
   "outputs": [],
   "source": [
    "ratctry=list()\n",
    "threetop=[\"SAF\",\"AUS\",\"JPN\"]\n",
    "for country in threetop:\n",
    "    ct=final_df.query(f\"Horse_country=='{country}'\")\n",
    "    rtct=pd.DataFrame(pd.cut(ct[\"horse_rating\"],bins=bins,labels=labels).value_counts())\n",
    "    rtct['Rate of Won races']=round(ct.groupby(pd.cut(ct[\"horse_rating\"],bins=bins,labels=labels)).agg({'Won':'mean'})*100,2)\n",
    "    rtct['Country']=country\n",
    "    ratctry.append(rtct)    \n",
    "ratctry[0]=ratctry[0].sort_values(\"Rate of Won races\",ascending=False)\n",
    "ratctry[1]=ratctry[1].sort_values(\"Rate of Won races\",ascending=False)\n",
    "ratctry[2]=ratctry[2].sort_values(\"Rate of Won races\",ascending=False)\n",
    "del ratctry[0][\"horse_rating\"],ratctry[1][\"horse_rating\"],ratctry[2][\"horse_rating\"]\n",
    "ratctry[0]=ratctry[0].reset_index()\n",
    "ratctry[1]=ratctry[1].reset_index()\n",
    "ratctry[2]=ratctry[2].reset_index()\n",
    "saf=ratctry[0].query(\"index=='81-130' or index=='41-60'\")\n",
    "aus=ratctry[1].query(\"index=='81-130' or index=='61-80'\")\n",
    "jpn=ratctry[2].query(\"index=='81-130'\")\n",
    "saf=saf.append(aus)\n",
    "saf=saf.append(jpn)\n",
    "saf=saf.sort_values(\"Rate of Won races\",ascending=False).reset_index()\n",
    "del saf[\"level_0\"]\n",
    "saf=saf.rename(columns={\"index\":\"Horse Rating\"})"
   ]
  },
  {
   "cell_type": "code",
   "execution_count": 71,
   "metadata": {},
   "outputs": [
    {
     "data": {
      "text/html": [
       "<div>\n",
       "<style scoped>\n",
       "    .dataframe tbody tr th:only-of-type {\n",
       "        vertical-align: middle;\n",
       "    }\n",
       "\n",
       "    .dataframe tbody tr th {\n",
       "        vertical-align: top;\n",
       "    }\n",
       "\n",
       "    .dataframe thead th {\n",
       "        text-align: right;\n",
       "    }\n",
       "</style>\n",
       "<table border=\"1\" class=\"dataframe\">\n",
       "  <thead>\n",
       "    <tr style=\"text-align: right;\">\n",
       "      <th></th>\n",
       "      <th>Horse Rating</th>\n",
       "      <th>Rate of Won races</th>\n",
       "      <th>Country</th>\n",
       "      <th>Actual weight mode (lb)</th>\n",
       "      <th>Declared weight mean (lb)</th>\n",
       "    </tr>\n",
       "  </thead>\n",
       "  <tbody>\n",
       "    <tr>\n",
       "      <th>0</th>\n",
       "      <td>81-130</td>\n",
       "      <td>17.86</td>\n",
       "      <td>JPN</td>\n",
       "      <td>126</td>\n",
       "      <td>1055.07</td>\n",
       "    </tr>\n",
       "    <tr>\n",
       "      <th>1</th>\n",
       "      <td>81-130</td>\n",
       "      <td>16.67</td>\n",
       "      <td>SAF</td>\n",
       "      <td>119</td>\n",
       "      <td>1089.87</td>\n",
       "    </tr>\n",
       "    <tr>\n",
       "      <th>2</th>\n",
       "      <td>41-60</td>\n",
       "      <td>10.53</td>\n",
       "      <td>SAF</td>\n",
       "      <td>119</td>\n",
       "      <td>1089.87</td>\n",
       "    </tr>\n",
       "    <tr>\n",
       "      <th>3</th>\n",
       "      <td>81-130</td>\n",
       "      <td>9.90</td>\n",
       "      <td>AUS</td>\n",
       "      <td>133</td>\n",
       "      <td>1117.61</td>\n",
       "    </tr>\n",
       "    <tr>\n",
       "      <th>4</th>\n",
       "      <td>61-80</td>\n",
       "      <td>9.65</td>\n",
       "      <td>AUS</td>\n",
       "      <td>126</td>\n",
       "      <td>1055.07</td>\n",
       "    </tr>\n",
       "  </tbody>\n",
       "</table>\n",
       "</div>"
      ],
      "text/plain": [
       "  Horse Rating  Rate of Won races Country  Actual weight mode (lb)  \\\n",
       "0       81-130              17.86     JPN                      126   \n",
       "1       81-130              16.67     SAF                      119   \n",
       "2        41-60              10.53     SAF                      119   \n",
       "3       81-130               9.90     AUS                      133   \n",
       "4        61-80               9.65     AUS                      126   \n",
       "\n",
       "   Declared weight mean (lb)  \n",
       "0                    1055.07  \n",
       "1                    1089.87  \n",
       "2                    1089.87  \n",
       "3                    1117.61  \n",
       "4                    1055.07  "
      ]
     },
     "execution_count": 71,
     "metadata": {},
     "output_type": "execute_result"
    }
   ],
   "source": [
    "jpn=final_df.query(\"Horse_country=='JPN' or horse_rating=='81-130'\")\n",
    "saf1=final_df.query(\"Horse_country=='SAF' or horse_rating=='81-130'\")\n",
    "saf2=final_df.query(\"Horse_country=='SAF' or horse_rating=='41-60'\")\n",
    "aus1=final_df.query(\"Horse_country=='AUS' or horse_rating=='81-130'\")\n",
    "aus2=final_df.query(\"Horse_country=='JPN' or horse_rating=='61-80'\")\n",
    "\n",
    "jpnmode=jpn[\"Actual_weight\"].mode()\n",
    "jpnmean=round(jpn[\"Declared_weight\"].mean(),2)\n",
    "\n",
    "safmode=saf1[\"Actual_weight\"].mode()\n",
    "safmean=round(saf1[\"Declared_weight\"].mean(),2)\n",
    "\n",
    "saf1mode=saf2[\"Actual_weight\"].mode()\n",
    "saf1mean=round(saf2[\"Declared_weight\"].mean(),2)\n",
    "\n",
    "ausmode=aus1[\"Actual_weight\"].mode()\n",
    "ausmean=round(aus1[\"Declared_weight\"].mean(),2)\n",
    "\n",
    "aus1mode=aus2[\"Actual_weight\"].mode()\n",
    "aus1mean=round(aus2[\"Declared_weight\"].mean(),2)\n",
    "\n",
    "mode=[126,119,119,133,126]\n",
    "mean=[jpnmean,safmean,saf1mean,ausmean,aus1mean]\n",
    "saf[\"Actual weight mode (lb)\"]=mode\n",
    "saf[\"Declared weight mean (lb)\"]=mean\n",
    "saf"
   ]
  },
  {
   "cell_type": "code",
   "execution_count": 72,
   "metadata": {},
   "outputs": [
    {
     "data": {
      "image/png": "[encoded data removed]",
      "text/plain": [
       "<Figure size 432x288 with 1 Axes>"
      ]
     },
     "metadata": {
      "needs_background": "light"
     },
     "output_type": "display_data"
    }
   ],
   "source": [
    "P=pd.DataFrame(final_df.groupby('Actual_weight')['Won'].mean())\n",
    "P.plot.bar()\n",
    "plt.show()"
   ]
  },
  {
   "cell_type": "code",
   "execution_count": 73,
   "metadata": {},
   "outputs": [],
   "source": [
    "gelding=final_df.query(\"Horse_type=='Gelding'\")\n",
    "mare=final_df.query(\"Horse_type=='Mare'\")\n",
    "horse=final_df.query(\"Horse_type=='Horse'\")\n",
    "brown=final_df.query(\"Horse_type=='Brown'\")\n",
    "rig=final_df.query(\"Horse_type=='rig'\")\n",
    "colt=final_df.query(\"Horse_type=='Colt'\")\n",
    "roan=final_df.query(\"Horse_type=='Roan'\")"
   ]
  },
  {
   "cell_type": "code",
   "execution_count": 74,
   "metadata": {},
   "outputs": [
    {
     "data": {
      "image/png": "[encoded data removed]",
      "text/plain": [
       "<Figure size 432x288 with 1 Axes>"
      ]
     },
     "metadata": {
      "needs_background": "light"
     },
     "output_type": "display_data"
    },
    {
     "name": "stdout",
     "output_type": "stream",
     "text": [
      "NormaltestResult(statistic=56.9399069410686, pvalue=4.3217168331487684e-13)\n",
      "The variance is: 3680.6628462305125\n"
     ]
    }
   ],
   "source": [
    "import scipy.stats as sts\n",
    "plt.hist(final_df[\"Declared_weight\"])\n",
    "plt.xlabel('Declared Weight (lbs)')\n",
    "plt.ylabel('Counts')\n",
    "plt.show()\n",
    "print(sts.normaltest(final_df[\"Declared_weight\"]))\n",
    "var=np.var(final_df[\"Declared_weight\"])\n",
    "std=np.std(final_df[\"Declared_weight\"])\n",
    "mean=np.mean(final_df[\"Declared_weight\"])\n",
    "median=np.median(final_df[\"Declared_weight\"])\n",
    "mode=sts.mode(final_df[\"Declared_weight\"])\n",
    "print(f\"The variance is: {var}\")"
   ]
  },
  {
   "cell_type": "code",
   "execution_count": 75,
   "metadata": {
    "scrolled": true
   },
   "outputs": [
    {
     "data": {
      "image/png": "[encoded data removed]",
      "text/plain": [
       "<Figure size 432x288 with 1 Axes>"
      ]
     },
     "metadata": {
      "needs_background": "light"
     },
     "output_type": "display_data"
    },
    {
     "name": "stdout",
     "output_type": "stream",
     "text": [
      "NormaltestResult(statistic=1402.8618908307797, pvalue=2.35727890579134e-305)\n",
      "The variance is: 39.31338828538831\n"
     ]
    }
   ],
   "source": [
    "plt.hist(final_df[\"Actual_weight\"])\n",
    "plt.xlabel('Actual Weight (lbs)')\n",
    "plt.ylabel('Counts')\n",
    "plt.show()\n",
    "print(sts.normaltest(final_df[\"Actual_weight\"]))\n",
    "var=np.var(final_df[\"Actual_weight\"])\n",
    "std=np.std(final_df[\"Actual_weight\"])\n",
    "mean=np.mean(final_df[\"Actual_weight\"])\n",
    "median=np.median(final_df[\"Actual_weight\"])\n",
    "mode=sts.mode(final_df[\"Actual_weight\"])\n",
    "print(f\"The variance is: {var}\")"
   ]
  },
  {
   "cell_type": "code",
   "execution_count": 166,
   "metadata": {},
   "outputs": [
    {
     "data": {
      "image/png": "[encoded data removed]",
      "text/plain": [
       "<Figure size 432x288 with 1 Axes>"
      ]
     },
     "metadata": {
      "needs_background": "light"
     },
     "output_type": "display_data"
    }
   ],
   "source": [
    "racecount=pd.DataFrame(final_df.groupby(\"Horse_id\")[\"Race_id\"].count())\n",
    "hor=final_df.drop_duplicates(\"Horse_id\")\n",
    "country=pd.DataFrame(hor.groupby(\"Horse_country\")[\"Horse_id\"].count())\n",
    "country=country.sort_values(by=\"Horse_id\",ascending=False)\n",
    "BarPandas=country.plot.bar()"
   ]
  },
  {
   "cell_type": "code",
   "execution_count": 161,
   "metadata": {},
   "outputs": [
    {
     "name": "stdout",
     "output_type": "stream",
     "text": [
      "The r-squared is: -0.9123808902109483\n"
     ]
    },
    {
     "data": {
      "image/png": "[encoded data removed]",
      "text/plain": [
       "<Figure size 432x288 with 1 Axes>"
      ]
     },
     "metadata": {
      "needs_background": "light"
     },
     "output_type": "display_data"
    }
   ],
   "source": [
    "final=final_df.query(\"Won==1\")\n",
    "t=pd.DataFrame(final_df.groupby([\"draw\"])[\"Won\"].sum())\n",
    "t=t.reset_index()\n",
    "x_values = t[\"draw\"]\n",
    "y_values = t[\"Won\"]\n",
    "(slope, intercept, rvalue, pvalue, stderr) = linregress(x_values, y_values)\n",
    "regress_values = x_values * slope + intercept\n",
    "line_eq = \"y = \" + str(round(slope,2)) + \"x + \" + str(round(intercept,2))\n",
    "plt.scatter(x_values,y_values)\n",
    "plt.plot(x_values,regress_values,\"r-\")\n",
    "plt.annotate(line_eq,(2,50),fontsize=15,color=\"red\")\n",
    "plt.xlabel('Draw')\n",
    "plt.ylabel('Winning odds')\n",
    "print(f\"The r-squared is: {rvalue}\")\n",
    "r=\"R^2= \"+str(round(rvalue,4))\n",
    "plt.annotate(r,(2,25),fontsize=15,color=\"red\")\n",
    "plt.show()"
   ]
  },
  {
   "cell_type": "markdown",
   "metadata": {},
   "source": [
    "# MARIO WORK"
   ]
  },
  {
   "cell_type": "code",
   "execution_count": 223,
   "metadata": {},
   "outputs": [],
   "source": [
    "def plotHistogramSize(df, ylabel, xlabel, title, xSize, ySize, color):\n",
    "    graph = df.plot(kind=\"bar\", figsize=(xSize,ySize), color=color)\n",
    "    plt.ylabel = ylabel\n",
    "    graph.set_xlabel = xlabel\n",
    "    graph.set_title(title)"
   ]
  },
  {
   "cell_type": "code",
   "execution_count": 212,
   "metadata": {},
   "outputs": [],
   "source": [
    "dist_df = final_df[[\"Race_id\", \"Date\", \"Course\", \"Race_no\", \"config\", \n",
    "                    \"surface\", \"Distance\", \"Surface_condition\",\"Prize\",\"Class\",\n",
    "                    \"Track\", \"Race_name\", \"track_condition\", \"race_class_y\"\n",
    "                   ]].drop_duplicates()"
   ]
  },
  {
   "cell_type": "code",
   "execution_count": 213,
   "metadata": {},
   "outputs": [
    {
     "data": {
      "text/plain": [
       "1801"
      ]
     },
     "execution_count": 213,
     "metadata": {},
     "output_type": "execute_result"
    }
   ],
   "source": [
    "# number of races to analyze\n",
    "dist_df.count()\n",
    "len(dist_df[\"Race_id\"].drop_duplicates())"
   ]
  },
  {
   "cell_type": "code",
   "execution_count": 224,
   "metadata": {},
   "outputs": [
    {
     "data": {
      "image/png": "[encoded data removed]",
      "text/plain": [
       "<Figure size 360x360 with 1 Axes>"
      ]
     },
     "metadata": {
      "needs_background": "light"
     },
     "output_type": "display_data"
    }
   ],
   "source": [
    "group_track = dist_df.groupby(\"Course\").size()\n",
    "plotHistogramSize (group_track, \"Number of races\", \"Course\", \"Race Course distribution\", 5,5,\"g\")\n"
   ]
  },
  {
   "cell_type": "code",
   "execution_count": 85,
   "metadata": {},
   "outputs": [
    {
     "data": {
      "image/png": "[encoded data removed]",
      "text/plain": [
       "<Figure size 360x360 with 1 Axes>"
      ]
     },
     "metadata": {
      "needs_background": "light"
     },
     "output_type": "display_data"
    }
   ],
   "source": [
    "group_race = dist_df.groupby(\"Race_no\").size()\n",
    "plotHistogramSize (group_race, \"Number of races\", \"Race_no\", \"Number of races\", 5,5,\"g\")"
   ]
  },
  {
   "cell_type": "code",
   "execution_count": 86,
   "metadata": {},
   "outputs": [
    {
     "data": {
      "image/png": "[encoded data removed]",
      "text/plain": [
       "<Figure size 360x360 with 1 Axes>"
      ]
     },
     "metadata": {
      "needs_background": "light"
     },
     "output_type": "display_data"
    }
   ],
   "source": [
    "group_config = dist_df.groupby(\"config\").size()\n",
    "plotHistogramSize (group_config, \"Number of races\", \"Config\", \"Config distribution\", 5,5,\"g\")"
   ]
  },
  {
   "cell_type": "code",
   "execution_count": 87,
   "metadata": {},
   "outputs": [
    {
     "data": {
      "image/png": "[encoded data removed]",
      "text/plain": [
       "<Figure size 360x360 with 1 Axes>"
      ]
     },
     "metadata": {
      "needs_background": "light"
     },
     "output_type": "display_data"
    }
   ],
   "source": [
    "group_surface= dist_df.groupby(\"surface\").size()\n",
    "plotHistogramSize (group_surface, \"Number of races\", \"surface\", \"Surface distribution\", 5,5,\"g\")"
   ]
  },
  {
   "cell_type": "code",
   "execution_count": 89,
   "metadata": {},
   "outputs": [
    {
     "data": {
      "image/png": "[encoded data removed]",
      "text/plain": [
       "<Figure size 360x360 with 1 Axes>"
      ]
     },
     "metadata": {
      "needs_background": "light"
     },
     "output_type": "display_data"
    }
   ],
   "source": [
    "group_distance = dist_df.groupby(\"Distance\").size()\n",
    "plotHistogramSize (group_distance, \"Number of races\", \"Distance\", \"Distance distribution\", 5,5,\"g\")\n"
   ]
  },
  {
   "cell_type": "code",
   "execution_count": 91,
   "metadata": {},
   "outputs": [
    {
     "data": {
      "image/png": "[encoded data removed]",
      "text/plain": [
       "<Figure size 360x360 with 1 Axes>"
      ]
     },
     "metadata": {
      "needs_background": "light"
     },
     "output_type": "display_data"
    }
   ],
   "source": [
    "group_going = dist_df.groupby(\"Surface_condition\").size()\n",
    "plotHistogramSize (group_going, \"Number of races\", \"going\", \"Surface_condition\", 5,5,\"g\")"
   ]
  },
  {
   "cell_type": "code",
   "execution_count": 93,
   "metadata": {},
   "outputs": [
    {
     "data": {
      "image/png": "[encoded data removed]",
      "text/plain": [
       "<Figure size 864x360 with 1 Axes>"
      ]
     },
     "metadata": {
      "needs_background": "light"
     },
     "output_type": "display_data"
    }
   ],
   "source": [
    "group_prize = dist_df.groupby(\"Prize\").size()\n",
    "plotHistogramSize (group_prize, \"Number of races\", \"prize\", \"Prize distribution\", 12,5,\"g\")"
   ]
  },
  {
   "cell_type": "code",
   "execution_count": 97,
   "metadata": {},
   "outputs": [
    {
     "data": {
      "image/png": "[encoded data removed]",
      "text/plain": [
       "<Figure size 864x360 with 1 Axes>"
      ]
     },
     "metadata": {
      "needs_background": "light"
     },
     "output_type": "display_data"
    }
   ],
   "source": [
    "group_class = dist_df.groupby(\"Class\").size()\n",
    "plotHistogramSize (group_class, \"Number of races\", \"Class\", \"class distribution\", 12,5,\"g\")"
   ]
  },
  {
   "cell_type": "code",
   "execution_count": 100,
   "metadata": {},
   "outputs": [
    {
     "data": {
      "image/png": "[encoded data removed]",
      "text/plain": [
       "<Figure size 864x360 with 1 Axes>"
      ]
     },
     "metadata": {
      "needs_background": "light"
     },
     "output_type": "display_data"
    }
   ],
   "source": [
    "group_track = dist_df.groupby(\"Track\").size()\n",
    "plotHistogramSize (group_track, \"Number of races\", \"Track\", \"class distribution\", 12,5,\"g\")"
   ]
  },
  {
   "cell_type": "code",
   "execution_count": 104,
   "metadata": {},
   "outputs": [
    {
     "data": {
      "image/png": "[encoded data removed]",
      "text/plain": [
       "<Figure size 864x360 with 1 Axes>"
      ]
     },
     "metadata": {
      "needs_background": "light"
     },
     "output_type": "display_data"
    }
   ],
   "source": [
    "group_class = dist_df.groupby(\"race_class_y\").size()\n",
    "plotHistogramSize (group_class, \"Number of races\", \"race class\", \"race class distribution\", 12,5,\"g\")\n",
    "\n"
   ]
  },
  {
   "cell_type": "code",
   "execution_count": 106,
   "metadata": {},
   "outputs": [],
   "source": [
    "final_df[\"speed_mseg\"] = final_df[\"Distance\"]  / final_df[\"Finish_time\"]"
   ]
  },
  {
   "cell_type": "code",
   "execution_count": 112,
   "metadata": {},
   "outputs": [
    {
     "data": {
      "text/html": [
       "<div>\n",
       "<style scoped>\n",
       "    .dataframe tbody tr th:only-of-type {\n",
       "        vertical-align: middle;\n",
       "    }\n",
       "\n",
       "    .dataframe tbody tr th {\n",
       "        vertical-align: top;\n",
       "    }\n",
       "\n",
       "    .dataframe thead th {\n",
       "        text-align: right;\n",
       "    }\n",
       "</style>\n",
       "<table border=\"1\" class=\"dataframe\">\n",
       "  <thead>\n",
       "    <tr style=\"text-align: right;\">\n",
       "      <th></th>\n",
       "      <th>Actual_weight</th>\n",
       "      <th>speed_mseg</th>\n",
       "    </tr>\n",
       "  </thead>\n",
       "  <tbody>\n",
       "    <tr>\n",
       "      <th>0</th>\n",
       "      <td>103</td>\n",
       "      <td>16.620395</td>\n",
       "    </tr>\n",
       "    <tr>\n",
       "      <th>1</th>\n",
       "      <td>104</td>\n",
       "      <td>16.768084</td>\n",
       "    </tr>\n",
       "    <tr>\n",
       "      <th>2</th>\n",
       "      <td>105</td>\n",
       "      <td>16.791367</td>\n",
       "    </tr>\n",
       "    <tr>\n",
       "      <th>3</th>\n",
       "      <td>106</td>\n",
       "      <td>16.788907</td>\n",
       "    </tr>\n",
       "    <tr>\n",
       "      <th>4</th>\n",
       "      <td>107</td>\n",
       "      <td>16.786250</td>\n",
       "    </tr>\n",
       "    <tr>\n",
       "      <th>5</th>\n",
       "      <td>108</td>\n",
       "      <td>16.803952</td>\n",
       "    </tr>\n",
       "    <tr>\n",
       "      <th>6</th>\n",
       "      <td>109</td>\n",
       "      <td>16.806557</td>\n",
       "    </tr>\n",
       "    <tr>\n",
       "      <th>7</th>\n",
       "      <td>110</td>\n",
       "      <td>16.838206</td>\n",
       "    </tr>\n",
       "    <tr>\n",
       "      <th>8</th>\n",
       "      <td>111</td>\n",
       "      <td>16.725149</td>\n",
       "    </tr>\n",
       "    <tr>\n",
       "      <th>9</th>\n",
       "      <td>112</td>\n",
       "      <td>16.759844</td>\n",
       "    </tr>\n",
       "    <tr>\n",
       "      <th>10</th>\n",
       "      <td>113</td>\n",
       "      <td>16.752188</td>\n",
       "    </tr>\n",
       "    <tr>\n",
       "      <th>11</th>\n",
       "      <td>114</td>\n",
       "      <td>16.773440</td>\n",
       "    </tr>\n",
       "    <tr>\n",
       "      <th>12</th>\n",
       "      <td>115</td>\n",
       "      <td>16.768339</td>\n",
       "    </tr>\n",
       "    <tr>\n",
       "      <th>13</th>\n",
       "      <td>116</td>\n",
       "      <td>16.751671</td>\n",
       "    </tr>\n",
       "    <tr>\n",
       "      <th>14</th>\n",
       "      <td>117</td>\n",
       "      <td>16.755947</td>\n",
       "    </tr>\n",
       "    <tr>\n",
       "      <th>15</th>\n",
       "      <td>118</td>\n",
       "      <td>16.777112</td>\n",
       "    </tr>\n",
       "    <tr>\n",
       "      <th>16</th>\n",
       "      <td>119</td>\n",
       "      <td>16.785910</td>\n",
       "    </tr>\n",
       "    <tr>\n",
       "      <th>17</th>\n",
       "      <td>120</td>\n",
       "      <td>16.782418</td>\n",
       "    </tr>\n",
       "    <tr>\n",
       "      <th>18</th>\n",
       "      <td>121</td>\n",
       "      <td>16.784906</td>\n",
       "    </tr>\n",
       "    <tr>\n",
       "      <th>19</th>\n",
       "      <td>122</td>\n",
       "      <td>16.774644</td>\n",
       "    </tr>\n",
       "    <tr>\n",
       "      <th>20</th>\n",
       "      <td>123</td>\n",
       "      <td>16.817241</td>\n",
       "    </tr>\n",
       "    <tr>\n",
       "      <th>21</th>\n",
       "      <td>124</td>\n",
       "      <td>16.778620</td>\n",
       "    </tr>\n",
       "    <tr>\n",
       "      <th>22</th>\n",
       "      <td>125</td>\n",
       "      <td>16.792390</td>\n",
       "    </tr>\n",
       "    <tr>\n",
       "      <th>23</th>\n",
       "      <td>126</td>\n",
       "      <td>16.756978</td>\n",
       "    </tr>\n",
       "    <tr>\n",
       "      <th>24</th>\n",
       "      <td>127</td>\n",
       "      <td>16.757612</td>\n",
       "    </tr>\n",
       "    <tr>\n",
       "      <th>25</th>\n",
       "      <td>128</td>\n",
       "      <td>16.751934</td>\n",
       "    </tr>\n",
       "    <tr>\n",
       "      <th>26</th>\n",
       "      <td>129</td>\n",
       "      <td>16.735841</td>\n",
       "    </tr>\n",
       "    <tr>\n",
       "      <th>27</th>\n",
       "      <td>130</td>\n",
       "      <td>16.735138</td>\n",
       "    </tr>\n",
       "    <tr>\n",
       "      <th>28</th>\n",
       "      <td>131</td>\n",
       "      <td>16.717916</td>\n",
       "    </tr>\n",
       "    <tr>\n",
       "      <th>29</th>\n",
       "      <td>132</td>\n",
       "      <td>16.742134</td>\n",
       "    </tr>\n",
       "    <tr>\n",
       "      <th>30</th>\n",
       "      <td>133</td>\n",
       "      <td>16.762547</td>\n",
       "    </tr>\n",
       "  </tbody>\n",
       "</table>\n",
       "</div>"
      ],
      "text/plain": [
       "    Actual_weight  speed_mseg\n",
       "0             103   16.620395\n",
       "1             104   16.768084\n",
       "2             105   16.791367\n",
       "3             106   16.788907\n",
       "4             107   16.786250\n",
       "5             108   16.803952\n",
       "6             109   16.806557\n",
       "7             110   16.838206\n",
       "8             111   16.725149\n",
       "9             112   16.759844\n",
       "10            113   16.752188\n",
       "11            114   16.773440\n",
       "12            115   16.768339\n",
       "13            116   16.751671\n",
       "14            117   16.755947\n",
       "15            118   16.777112\n",
       "16            119   16.785910\n",
       "17            120   16.782418\n",
       "18            121   16.784906\n",
       "19            122   16.774644\n",
       "20            123   16.817241\n",
       "21            124   16.778620\n",
       "22            125   16.792390\n",
       "23            126   16.756978\n",
       "24            127   16.757612\n",
       "25            128   16.751934\n",
       "26            129   16.735841\n",
       "27            130   16.735138\n",
       "28            131   16.717916\n",
       "29            132   16.742134\n",
       "30            133   16.762547"
      ]
     },
     "execution_count": 112,
     "metadata": {},
     "output_type": "execute_result"
    }
   ],
   "source": [
    "# Generate a scatter \n",
    "#filtered_df = final_df.loc[final_df[\"Class\"] == 5]\n",
    "filtered_df = final_df\n",
    "df = filtered_df.groupby([\"Actual_weight\"])[\"speed_mseg\"].mean()\n",
    "df = df.reset_index()\n",
    "df"
   ]
  },
  {
   "cell_type": "code",
   "execution_count": 111,
   "metadata": {},
   "outputs": [
    {
     "data": {
      "text/plain": [
       "<matplotlib.axes._subplots.AxesSubplot at 0x7f577e5df510>"
      ]
     },
     "execution_count": 111,
     "metadata": {},
     "output_type": "execute_result"
    },
    {
     "data": {
      "image/png": "[encoded data removed]",
      "text/plain": [
       "<Figure size 432x288 with 1 Axes>"
      ]
     },
     "metadata": {
      "needs_background": "light"
     },
     "output_type": "display_data"
    }
   ],
   "source": [
    "df.plot(kind=\"scatter\", x=\"Actual_weight\", y=\"speed_mseg\")"
   ]
  },
  {
   "cell_type": "code",
   "execution_count": 114,
   "metadata": {},
   "outputs": [
    {
     "data": {
      "text/html": [
       "<div>\n",
       "<style scoped>\n",
       "    .dataframe tbody tr th:only-of-type {\n",
       "        vertical-align: middle;\n",
       "    }\n",
       "\n",
       "    .dataframe tbody tr th {\n",
       "        vertical-align: top;\n",
       "    }\n",
       "\n",
       "    .dataframe thead th {\n",
       "        text-align: right;\n",
       "    }\n",
       "</style>\n",
       "<table border=\"1\" class=\"dataframe\">\n",
       "  <thead>\n",
       "    <tr style=\"text-align: right;\">\n",
       "      <th></th>\n",
       "      <th>Declared_weight</th>\n",
       "      <th>speed_mseg</th>\n",
       "    </tr>\n",
       "  </thead>\n",
       "  <tbody>\n",
       "    <tr>\n",
       "      <th>0</th>\n",
       "      <td>902.0</td>\n",
       "      <td>16.556291</td>\n",
       "    </tr>\n",
       "    <tr>\n",
       "      <th>1</th>\n",
       "      <td>905.0</td>\n",
       "      <td>16.248154</td>\n",
       "    </tr>\n",
       "    <tr>\n",
       "      <th>2</th>\n",
       "      <td>914.0</td>\n",
       "      <td>16.453382</td>\n",
       "    </tr>\n",
       "    <tr>\n",
       "      <th>3</th>\n",
       "      <td>915.0</td>\n",
       "      <td>16.168149</td>\n",
       "    </tr>\n",
       "    <tr>\n",
       "      <th>4</th>\n",
       "      <td>916.0</td>\n",
       "      <td>16.375234</td>\n",
       "    </tr>\n",
       "    <tr>\n",
       "      <th>...</th>\n",
       "      <td>...</td>\n",
       "      <td>...</td>\n",
       "    </tr>\n",
       "    <tr>\n",
       "      <th>385</th>\n",
       "      <td>1313.0</td>\n",
       "      <td>17.035775</td>\n",
       "    </tr>\n",
       "    <tr>\n",
       "      <th>386</th>\n",
       "      <td>1315.0</td>\n",
       "      <td>17.424132</td>\n",
       "    </tr>\n",
       "    <tr>\n",
       "      <th>387</th>\n",
       "      <td>1318.0</td>\n",
       "      <td>16.692500</td>\n",
       "    </tr>\n",
       "    <tr>\n",
       "      <th>388</th>\n",
       "      <td>1326.0</td>\n",
       "      <td>15.989340</td>\n",
       "    </tr>\n",
       "    <tr>\n",
       "      <th>389</th>\n",
       "      <td>1365.0</td>\n",
       "      <td>17.371164</td>\n",
       "    </tr>\n",
       "  </tbody>\n",
       "</table>\n",
       "<p>390 rows × 2 columns</p>\n",
       "</div>"
      ],
      "text/plain": [
       "     Declared_weight  speed_mseg\n",
       "0              902.0   16.556291\n",
       "1              905.0   16.248154\n",
       "2              914.0   16.453382\n",
       "3              915.0   16.168149\n",
       "4              916.0   16.375234\n",
       "..               ...         ...\n",
       "385           1313.0   17.035775\n",
       "386           1315.0   17.424132\n",
       "387           1318.0   16.692500\n",
       "388           1326.0   15.989340\n",
       "389           1365.0   17.371164\n",
       "\n",
       "[390 rows x 2 columns]"
      ]
     },
     "execution_count": 114,
     "metadata": {},
     "output_type": "execute_result"
    }
   ],
   "source": [
    "# Generate a scatter \n",
    "df = final_df.groupby([\"Declared_weight\"])[\"speed_mseg\"].mean()\n",
    "df = df.reset_index()\n",
    "df"
   ]
  },
  {
   "cell_type": "code",
   "execution_count": 116,
   "metadata": {},
   "outputs": [
    {
     "data": {
      "text/plain": [
       "<matplotlib.axes._subplots.AxesSubplot at 0x7f577e4ce890>"
      ]
     },
     "execution_count": 116,
     "metadata": {},
     "output_type": "execute_result"
    },
    {
     "data": {
      "image/png": "[encoded data removed]",
      "text/plain": [
       "<Figure size 432x288 with 1 Axes>"
      ]
     },
     "metadata": {
      "needs_background": "light"
     },
     "output_type": "display_data"
    }
   ],
   "source": [
    "df.plot(kind=\"scatter\", x=\"Declared_weight\", y=\"speed_mseg\")"
   ]
  },
  {
   "cell_type": "code",
   "execution_count": 118,
   "metadata": {},
   "outputs": [
    {
     "data": {
      "text/plain": [
       "<matplotlib.axes._subplots.AxesSubplot at 0x7f577e44c090>"
      ]
     },
     "execution_count": 118,
     "metadata": {},
     "output_type": "execute_result"
    },
    {
     "data": {
      "image/png": "[encoded data removed]",
      "text/plain": [
       "<Figure size 432x288 with 1 Axes>"
      ]
     },
     "metadata": {
      "needs_background": "light"
     },
     "output_type": "display_data"
    }
   ],
   "source": [
    "df = final_df.groupby([\"Distance\"])[\"speed_mseg\"].mean()\n",
    "df = df.reset_index()\n",
    "\n",
    "df.plot(kind=\"scatter\", x=\"Distance\", y=\"speed_mseg\")\n"
   ]
  },
  {
   "cell_type": "code",
   "execution_count": 120,
   "metadata": {},
   "outputs": [
    {
     "data": {
      "text/plain": [
       "<matplotlib.axes._subplots.AxesSubplot at 0x7f577e3cf450>"
      ]
     },
     "execution_count": 120,
     "metadata": {},
     "output_type": "execute_result"
    },
    {
     "data": {
      "image/png": "[encoded data removed]",
      "text/plain": [
       "<Figure size 432x288 with 1 Axes>"
      ]
     },
     "metadata": {
      "needs_background": "light"
     },
     "output_type": "display_data"
    }
   ],
   "source": [
    "filtered_df = final_df.loc[final_df[\"Distance\"] == 2000]\n",
    "df = filtered_df.groupby([\"Class\"])[\"speed_mseg\"].mean()\n",
    "df = df.reset_index()\n",
    "\n",
    "df.plot(kind=\"scatter\", x=\"Class\", y=\"speed_mseg\")\n",
    "\n"
   ]
  },
  {
   "cell_type": "code",
   "execution_count": 127,
   "metadata": {},
   "outputs": [
    {
     "data": {
      "image/png": "[encoded data removed]",
      "text/plain": [
       "<Figure size 1080x1080 with 1 Axes>"
      ]
     },
     "metadata": {
      "needs_background": "light"
     },
     "output_type": "display_data"
    }
   ],
   "source": [
    "group_class = final_df.groupby(\"horse_ratings\")[\"Horse_id\"].count()\n",
    "plotHistogramSize (group_class, \"Number of races\", \"race class\", \"race class distribution\", 15,15,\"g\")\n"
   ]
  },
  {
   "cell_type": "code",
   "execution_count": 128,
   "metadata": {},
   "outputs": [
    {
     "data": {
      "text/plain": [
       "<matplotlib.axes._subplots.AxesSubplot at 0x7f577e80c4d0>"
      ]
     },
     "execution_count": 128,
     "metadata": {},
     "output_type": "execute_result"
    },
    {
     "data": {
      "image/png": "[encoded data removed]",
      "text/plain": [
       "<Figure size 432x288 with 1 Axes>"
      ]
     },
     "metadata": {
      "needs_background": "light"
     },
     "output_type": "display_data"
    }
   ],
   "source": [
    "df = final_df.groupby([\"Class\"])[\"Actual_weight\"].mean()\n",
    "df = df.reset_index()\n",
    "\n",
    "df.plot(kind=\"scatter\", x=\"Class\", y=\"Actual_weight\")"
   ]
  },
  {
   "cell_type": "markdown",
   "metadata": {},
   "source": [
    "# JORGE WORK"
   ]
  },
  {
   "cell_type": "code",
   "execution_count": 30,
   "metadata": {},
   "outputs": [
    {
     "data": {
      "image/png": "[encoded data removed]",
      "text/plain": [
       "<Figure size 432x288 with 1 Axes>"
      ]
     },
     "metadata": {
      "needs_background": "light"
     },
     "output_type": "display_data"
    }
   ],
   "source": [
    "# Type of Track\n",
    "track_type = final_df[\"Track\"]\n",
    "track_type.value_counts().plot(kind  = \"bar\")\n",
    "plt.xlabel(\"Track\")\n",
    "plt.ylabel(\"Times used\")\n",
    "plt.show()"
   ]
  },
  {
   "cell_type": "code",
   "execution_count": 31,
   "metadata": {},
   "outputs": [
    {
     "data": {
      "image/png": "[encoded data removed]",
      "text/plain": [
       "<Figure size 432x288 with 1 Axes>"
      ]
     },
     "metadata": {
      "needs_background": "light"
     },
     "output_type": "display_data"
    }
   ],
   "source": [
    "# Track condition \n",
    "track_condition = final_df[\"Surface_condition\"]\n",
    "track_condition.value_counts().plot(kind = \"bar\")\n",
    "plt.xlabel(\"Track condition\")\n",
    "plt.ylabel(\"Times used\")\n",
    "plt.show()"
   ]
  },
  {
   "cell_type": "code",
   "execution_count": 32,
   "metadata": {},
   "outputs": [
    {
     "data": {
      "image/png": "[encoded data removed]",
      "text/plain": [
       "<Figure size 432x288 with 1 Axes>"
      ]
     },
     "metadata": {
      "needs_background": "light"
     },
     "output_type": "display_data"
    }
   ],
   "source": [
    "# Checking if weight has something ot do with winning\n",
    "weight = final_df.groupby(\"Actual_weight\")[\"Won\"].mean()\n",
    "weight.plot.bar()\n",
    "plt.xlabel(\"Actual weight (Lbs)\")\n",
    "plt.ylabel(\"Winning rate\")\n",
    "plt.show()"
   ]
  },
  {
   "cell_type": "code",
   "execution_count": 33,
   "metadata": {},
   "outputs": [
    {
     "data": {
      "text/plain": [
       "CONTENTMENT      9\n",
       "BEAUTY ONLY      7\n",
       "LUCKY YEAR       7\n",
       "SUN JEWELLERY    7\n",
       "ABLE FRIEND      7\n",
       "Name: Horse_name, dtype: int64"
      ]
     },
     "execution_count": 33,
     "metadata": {},
     "output_type": "execute_result"
    }
   ],
   "source": [
    "# Looking up the horses that have won the most\n",
    "winnings = final_df.query(\"Won == 1\")\n",
    "horses_win = winnings[\"Horse_name\"].value_counts()\n",
    "horses_win.head()\n"
   ]
  },
  {
   "cell_type": "code",
   "execution_count": 35,
   "metadata": {},
   "outputs": [
    {
     "data": {
      "image/png": "[encoded data removed]",
      "text/plain": [
       "<Figure size 432x288 with 1 Axes>"
      ]
     },
     "metadata": {
      "needs_background": "light"
     },
     "output_type": "display_data"
    }
   ],
   "source": [
    "#Finding all data for the most profitable horse in the racing history\n",
    "horse_1 = final_df[final_df[\"Horse_name\"] == \"CONTENTMENT\"]\n",
    "\n",
    "# Distance ran by the horse\n",
    "plt.scatter(horse_1[\"Horse_age\"], horse_1[\"Distance\"])\n",
    "plt.xlabel(\"Horse age (years)\")\n",
    "plt.ylabel(\"Distance (m)\")\n",
    "plt.show()"
   ]
  },
  {
   "cell_type": "code",
   "execution_count": 36,
   "metadata": {},
   "outputs": [
    {
     "data": {
      "image/png": "[encoded data removed]",
      "text/plain": [
       "<Figure size 432x288 with 1 Axes>"
      ]
     },
     "metadata": {
      "needs_background": "light"
     },
     "output_type": "display_data"
    }
   ],
   "source": [
    "# Horse pposition along its life\n",
    "\n",
    "plt.scatter(horse_1[\"Horse_age\"], horse_1[\"Final_position\"])\n",
    "plt.xlabel(\"Horse age (years)\")\n",
    "plt.ylabel(\"Position\")\n",
    "plt.show()"
   ]
  },
  {
   "cell_type": "code",
   "execution_count": 37,
   "metadata": {},
   "outputs": [
    {
     "name": "stdout",
     "output_type": "stream",
     "text": [
      "The r-squared value is: 0.4745295646600449\n"
     ]
    },
    {
     "data": {
      "image/png": "[encoded data removed]",
      "text/plain": [
       "<Figure size 432x288 with 1 Axes>"
      ]
     },
     "metadata": {
      "needs_background": "light"
     },
     "output_type": "display_data"
    }
   ],
   "source": [
    "# Final position vs actual weight\n",
    "plt.scatter(horse_1[\"Actual_weight\"], horse_1[\"Final_position\"])\n",
    "\n",
    "(slope, intercept, rvalue, pvalue, stderr) = linregress(horse_1[\"Actual_weight\"], horse_1[\"Final_position\"])\n",
    "regress_values = horse_1[\"Actual_weight\"] * slope + intercept\n",
    "plt.plot(horse_1[\"Actual_weight\"], regress_values, \"r-\")\n",
    "line_eq = \"y = \" + str(round(slope, 2)) + \"x + \" + str(round(intercept, 2))\n",
    "plt.annotate(line_eq, (117,8), fontsize=15, color=\"red\")\n",
    "\n",
    "print(f\"The r-squared value is: {rvalue}\")\n",
    "plt.xlabel(\"Actual weight\")\n",
    "plt.ylabel(\"Position\")\n",
    "plt.show()"
   ]
  },
  {
   "cell_type": "code",
   "execution_count": 38,
   "metadata": {},
   "outputs": [
    {
     "name": "stdout",
     "output_type": "stream",
     "text": [
      "The r-squared value is: 0.10641544461869006\n"
     ]
    },
    {
     "data": {
      "image/png": "[encoded data removed]",
      "text/plain": [
       "<Figure size 432x288 with 1 Axes>"
      ]
     },
     "metadata": {
      "needs_background": "light"
     },
     "output_type": "display_data"
    }
   ],
   "source": [
    "# Final position vs declared weight\n",
    "plt.scatter(horse_1[\"Declared_weight\"], horse_1[\"Final_position\"])\n",
    "\n",
    "(slope, intercept, rvalue, pvalue, stderr) = linregress(horse_1[\"Declared_weight\"], horse_1[\"Final_position\"])\n",
    "regress_values = horse_1[\"Declared_weight\"] * slope + intercept\n",
    "plt.plot(horse_1[\"Declared_weight\"], regress_values, \"r-\")\n",
    "line_eq = \"y = \" + str(round(slope, 2)) + \"x + \" + str(round(intercept, 2))\n",
    "plt.annotate(line_eq, (1120,8), fontsize=15, color=\"red\")\n",
    "\n",
    "print(f\"The r-squared value is: {rvalue}\")\n",
    "plt.xlabel(\"Declared_weight\")\n",
    "plt.ylabel(\"Position\")\n",
    "plt.show()"
   ]
  },
  {
   "cell_type": "code",
   "execution_count": 39,
   "metadata": {},
   "outputs": [
    {
     "name": "stdout",
     "output_type": "stream",
     "text": [
      "The r-squared value is: 0.33357127422364047\n"
     ]
    },
    {
     "data": {
      "image/png": "[encoded data removed]",
      "text/plain": [
       "<Figure size 432x288 with 1 Axes>"
      ]
     },
     "metadata": {
      "needs_background": "light"
     },
     "output_type": "display_data"
    }
   ],
   "source": [
    "# Actual weight vs declared weight\n",
    "plt.scatter(horse_1[\"Declared_weight\"], horse_1[\"Actual_weight\"])\n",
    "\n",
    "(slope, intercept, rvalue, pvalue, stderr) = linregress(horse_1[\"Declared_weight\"], horse_1[\"Actual_weight\"])\n",
    "regress_values = horse_1[\"Declared_weight\"] * slope + intercept\n",
    "plt.plot(horse_1[\"Declared_weight\"], regress_values, \"r-\")\n",
    "line_eq = \"y = \" + str(round(slope, 2)) + \"x + \" + str(round(intercept, 2))\n",
    "plt.annotate(line_eq, (1120,130), fontsize=15, color=\"red\")\n",
    "\n",
    "print(f\"The r-squared value is: {rvalue}\")\n",
    "plt.xlabel(\"Declared weight\")\n",
    "plt.ylabel(\"Actual weight\")\n",
    "plt.show()"
   ]
  },
  {
   "cell_type": "code",
   "execution_count": 40,
   "metadata": {},
   "outputs": [
    {
     "data": {
      "image/png": "[encoded data removed]",
      "text/plain": [
       "<Figure size 432x288 with 1 Axes>"
      ]
     },
     "metadata": {
      "needs_background": "light"
     },
     "output_type": "display_data"
    },
    {
     "name": "stdout",
     "output_type": "stream",
     "text": [
      "GOOD            14\n",
      "GOOD TO FIRM     8\n",
      "Name: Surface_condition, dtype: int64\n",
      "1     9\n",
      "5     3\n",
      "2     3\n",
      "4     2\n",
      "3     2\n",
      "10    1\n",
      "9     1\n",
      "7     1\n",
      "Name: Final_position, dtype: int64\n"
     ]
    }
   ],
   "source": [
    "# Plotting the number of times the horse ran in a track with certain consitions\n",
    "plt.scatter(horse_1[\"Surface_condition\"], horse_1[\"Final_position\"])\n",
    "\n",
    "plt.xlabel(\"Surface condition\")\n",
    "plt.ylabel(\"Final position\")\n",
    "plt.show()\n",
    "\n",
    "print(horse_1[\"Surface_condition\"].value_counts())\n",
    "print(horse_1[\"Final_position\"].value_counts())"
   ]
  },
  {
   "cell_type": "code",
   "execution_count": 41,
   "metadata": {},
   "outputs": [
    {
     "data": {
      "image/png": "[encoded data removed]",
      "text/plain": [
       "<Figure size 1080x288 with 1 Axes>"
      ]
     },
     "metadata": {
      "needs_background": "light"
     },
     "output_type": "display_data"
    }
   ],
   "source": [
    "# Most frequent horses\n",
    "final_df[\"Horse_name\"].value_counts().plot(figsize = (15, 4))\n",
    "plt.xlabel(\"Horse name\")\n",
    "plt.ylabel(\"Times participated\")\n",
    "plt.legend()\n",
    "plt.show()\n",
    "\n"
   ]
  },
  {
   "cell_type": "code",
   "execution_count": 129,
   "metadata": {},
   "outputs": [
    {
     "data": {
      "text/html": [
       "<div>\n",
       "<style scoped>\n",
       "    .dataframe tbody tr th:only-of-type {\n",
       "        vertical-align: middle;\n",
       "    }\n",
       "\n",
       "    .dataframe tbody tr th {\n",
       "        vertical-align: top;\n",
       "    }\n",
       "\n",
       "    .dataframe thead th {\n",
       "        text-align: right;\n",
       "    }\n",
       "</style>\n",
       "<table border=\"1\" class=\"dataframe\">\n",
       "  <thead>\n",
       "    <tr style=\"text-align: right;\">\n",
       "      <th></th>\n",
       "      <th>Horse name</th>\n",
       "      <th>Participated</th>\n",
       "      <th>Won</th>\n",
       "      <th>Winning rate (%)</th>\n",
       "    </tr>\n",
       "  </thead>\n",
       "  <tbody>\n",
       "    <tr>\n",
       "      <th>0</th>\n",
       "      <td>ROCK THE TREE</td>\n",
       "      <td>39</td>\n",
       "      <td>2</td>\n",
       "      <td>5.128205</td>\n",
       "    </tr>\n",
       "    <tr>\n",
       "      <th>1</th>\n",
       "      <td>ROYAL PARTNER</td>\n",
       "      <td>39</td>\n",
       "      <td>2</td>\n",
       "      <td>5.128205</td>\n",
       "    </tr>\n",
       "    <tr>\n",
       "      <th>2</th>\n",
       "      <td>ST YAZIN</td>\n",
       "      <td>38</td>\n",
       "      <td>3</td>\n",
       "      <td>7.894737</td>\n",
       "    </tr>\n",
       "    <tr>\n",
       "      <th>3</th>\n",
       "      <td>SAFARI MAGIC</td>\n",
       "      <td>36</td>\n",
       "      <td>1</td>\n",
       "      <td>2.777778</td>\n",
       "    </tr>\n",
       "    <tr>\n",
       "      <th>4</th>\n",
       "      <td>INDUSTRIALIST WAY</td>\n",
       "      <td>36</td>\n",
       "      <td>3</td>\n",
       "      <td>8.333333</td>\n",
       "    </tr>\n",
       "    <tr>\n",
       "      <th>5</th>\n",
       "      <td>SWEET BEAN</td>\n",
       "      <td>36</td>\n",
       "      <td>4</td>\n",
       "      <td>11.111111</td>\n",
       "    </tr>\n",
       "    <tr>\n",
       "      <th>6</th>\n",
       "      <td>HIGH SPEED METRO</td>\n",
       "      <td>35</td>\n",
       "      <td>4</td>\n",
       "      <td>11.428571</td>\n",
       "    </tr>\n",
       "    <tr>\n",
       "      <th>7</th>\n",
       "      <td>ROBUST MOMENTUM</td>\n",
       "      <td>34</td>\n",
       "      <td>3</td>\n",
       "      <td>8.823529</td>\n",
       "    </tr>\n",
       "    <tr>\n",
       "      <th>8</th>\n",
       "      <td>WIN IT</td>\n",
       "      <td>34</td>\n",
       "      <td>4</td>\n",
       "      <td>11.764706</td>\n",
       "    </tr>\n",
       "    <tr>\n",
       "      <th>9</th>\n",
       "      <td>VANILLA</td>\n",
       "      <td>34</td>\n",
       "      <td>3</td>\n",
       "      <td>8.823529</td>\n",
       "    </tr>\n",
       "  </tbody>\n",
       "</table>\n",
       "</div>"
      ],
      "text/plain": [
       "          Horse name  Participated  Won  Winning rate (%)\n",
       "0      ROCK THE TREE            39    2          5.128205\n",
       "1      ROYAL PARTNER            39    2          5.128205\n",
       "2           ST YAZIN            38    3          7.894737\n",
       "3       SAFARI MAGIC            36    1          2.777778\n",
       "4  INDUSTRIALIST WAY            36    3          8.333333\n",
       "5         SWEET BEAN            36    4         11.111111\n",
       "6   HIGH SPEED METRO            35    4         11.428571\n",
       "7    ROBUST MOMENTUM            34    3          8.823529\n",
       "8             WIN IT            34    4         11.764706\n",
       "9            VANILLA            34    3          8.823529"
      ]
     },
     "execution_count": 129,
     "metadata": {},
     "output_type": "execute_result"
    }
   ],
   "source": [
    "# Data frame to find the horses that have participated the most\n",
    "horse_name_df = final_df[\"Horse_name\"].value_counts()\n",
    "horse_name_df = pd.DataFrame(horse_name_df).reset_index()\n",
    "horse_name_df = horse_name_df.rename(columns={\"index\": \"Horse name\", \"Horse_name\": \"Participated\"})\n",
    "# Taking only a fixed number of first horses\n",
    "num = 10\n",
    "horse_name_df = horse_name_df.query(\"Participated > 30\").head(num)\n",
    "\n",
    "# Adding new columns to the previous dataframe\n",
    "horse_name_df[\"Won\"] = \"\"\n",
    "horse_name_df[\"Winning rate (%)\"] = \"\"\n",
    "\n",
    "# Arrays to store the new data\n",
    "winning = []\n",
    "rate = []\n",
    "\n",
    "for i in range(num):\n",
    "    # Getting the names of the most frequently participated horses\n",
    "    name = horse_name_df[\"Horse name\"][i]\n",
    "    # Getting the data from the original dataframe that corresponds to the selected horse and taking the \"Won\" column\n",
    "    name_win_1 = final_df[final_df[\"Horse_name\"] == name][\"Won\"]\n",
    "    name_win_2 = final_df[final_df[\"Horse_name\"] == name][\"Won\"]\n",
    "    # Getting the number of winnings and losses\n",
    "    w = name_win_1.value_counts()[1]\n",
    "    l = name_win_2.value_counts()[0]\n",
    "    # Assigning them to the arrays\n",
    "    winning.append(w)\n",
    "    rate.append(w / (w+l) * 100)\n",
    "\n",
    "# Adding data to the dataframe\n",
    "horse_name_df[\"Won\"] = winning\n",
    "horse_name_df[\"Winning rate (%)\"] = rate\n",
    "\n",
    "horse_name_df.sort_values(\"\")\n"
   ]
  },
  {
   "cell_type": "code",
   "execution_count": 43,
   "metadata": {},
   "outputs": [
    {
     "data": {
      "image/png": "[encoded data removed]",
      "text/plain": [
       "<Figure size 720x288 with 1 Axes>"
      ]
     },
     "metadata": {
      "needs_background": "light"
     },
     "output_type": "display_data"
    }
   ],
   "source": [
    "final_df[\"Jockey\"].value_counts().plot(figsize = (10, 4))\n",
    "plt.xlabel(\"Jockey\")\n",
    "plt.ylabel(\"Times participated\")\n",
    "plt.legend()\n",
    "plt.show()"
   ]
  },
  {
   "cell_type": "code",
   "execution_count": 44,
   "metadata": {},
   "outputs": [
    {
     "data": {
      "text/html": [
       "<div>\n",
       "<style scoped>\n",
       "    .dataframe tbody tr th:only-of-type {\n",
       "        vertical-align: middle;\n",
       "    }\n",
       "\n",
       "    .dataframe tbody tr th {\n",
       "        vertical-align: top;\n",
       "    }\n",
       "\n",
       "    .dataframe thead th {\n",
       "        text-align: right;\n",
       "    }\n",
       "</style>\n",
       "<table border=\"1\" class=\"dataframe\">\n",
       "  <thead>\n",
       "    <tr style=\"text-align: right;\">\n",
       "      <th></th>\n",
       "      <th>Jockey</th>\n",
       "      <th>Participated</th>\n",
       "      <th>Won</th>\n",
       "      <th>Winning rate (%)</th>\n",
       "    </tr>\n",
       "  </thead>\n",
       "  <tbody>\n",
       "    <tr>\n",
       "      <th>0</th>\n",
       "      <td>J Moreira</td>\n",
       "      <td>1472</td>\n",
       "      <td>364</td>\n",
       "      <td>24.728261</td>\n",
       "    </tr>\n",
       "    <tr>\n",
       "      <th>1</th>\n",
       "      <td>K Teetan</td>\n",
       "      <td>1282</td>\n",
       "      <td>84</td>\n",
       "      <td>6.552262</td>\n",
       "    </tr>\n",
       "    <tr>\n",
       "      <th>2</th>\n",
       "      <td>D Whyte</td>\n",
       "      <td>1281</td>\n",
       "      <td>125</td>\n",
       "      <td>9.758002</td>\n",
       "    </tr>\n",
       "  </tbody>\n",
       "</table>\n",
       "</div>"
      ],
      "text/plain": [
       "      Jockey  Participated  Won  Winning rate (%)\n",
       "0  J Moreira          1472  364         24.728261\n",
       "1   K Teetan          1282   84          6.552262\n",
       "2    D Whyte          1281  125          9.758002"
      ]
     },
     "execution_count": 44,
     "metadata": {},
     "output_type": "execute_result"
    }
   ],
   "source": [
    "# Data frame to find the jockeys that have participated the most\n",
    "jockey_name_df = final_df[\"Jockey\"].value_counts()\n",
    "jockey_name_df = pd.DataFrame(jockey_name_df).reset_index()\n",
    "jockey_name_df = jockey_name_df.rename(columns={\"index\": \"Jockey\", \"Jockey\": \"Participated\"})\n",
    "# Taking only a fixed number of first jockeys\n",
    "num = 3\n",
    "jockey_name_df = jockey_name_df.query(\"Participated > 30\").head(num)\n",
    "\n",
    "# Adding new columns to the previous dataframe\n",
    "jockey_name_df[\"Won\"] = \"\"\n",
    "jockey_name_df[\"Winning rate (%)\"] = \"\"\n",
    "\n",
    "# Arrays to store the new data\n",
    "winning = []\n",
    "rate = []\n",
    "\n",
    "for i in range(num):\n",
    "    # Getting the names of the most frequently participated jockeys\n",
    "    name = jockey_name_df[\"Jockey\"][i]\n",
    "    # Getting the data from the original dataframe that corresponds to the selected jockey and taking the \"Won\" column\n",
    "    name_win_1 = final_df[final_df[\"Jockey\"] == name][\"Won\"]\n",
    "    name_win_2 = final_df[final_df[\"Jockey\"] == name][\"Won\"]\n",
    "    # Getting the number of winnings and losses\n",
    "    w = name_win_1.value_counts()[1]\n",
    "    l = name_win_2.value_counts()[0]\n",
    "    # Assigning them to the arrays\n",
    "    winning.append(w)\n",
    "    rate.append(w / (w+l) * 100)\n",
    "\n",
    "# Adding data to the dataframe\n",
    "jockey_name_df[\"Won\"] = winning\n",
    "jockey_name_df[\"Winning rate (%)\"] = rate\n",
    "\n",
    "jockey_name_df"
   ]
  },
  {
   "cell_type": "code",
   "execution_count": 45,
   "metadata": {},
   "outputs": [
    {
     "data": {
      "image/png": "[encoded data removed]",
      "text/plain": [
       "<Figure size 720x288 with 1 Axes>"
      ]
     },
     "metadata": {
      "needs_background": "light"
     },
     "output_type": "display_data"
    }
   ],
   "source": [
    "final_df[\"Trainer\"].value_counts().plot(figsize = (10, 4))\n",
    "plt.xlabel(\"Trainer\")\n",
    "plt.ylabel(\"Times participated\")\n",
    "plt.legend()\n",
    "plt.show()"
   ]
  },
  {
   "cell_type": "code",
   "execution_count": 46,
   "metadata": {},
   "outputs": [
    {
     "data": {
      "text/html": [
       "<div>\n",
       "<style scoped>\n",
       "    .dataframe tbody tr th:only-of-type {\n",
       "        vertical-align: middle;\n",
       "    }\n",
       "\n",
       "    .dataframe tbody tr th {\n",
       "        vertical-align: top;\n",
       "    }\n",
       "\n",
       "    .dataframe thead th {\n",
       "        text-align: right;\n",
       "    }\n",
       "</style>\n",
       "<table border=\"1\" class=\"dataframe\">\n",
       "  <thead>\n",
       "    <tr style=\"text-align: right;\">\n",
       "      <th></th>\n",
       "      <th>Trainer</th>\n",
       "      <th>Participated</th>\n",
       "      <th>Won</th>\n",
       "      <th>Winning rate (%)</th>\n",
       "    </tr>\n",
       "  </thead>\n",
       "  <tbody>\n",
       "    <tr>\n",
       "      <th>0</th>\n",
       "      <td>A S Cruz</td>\n",
       "      <td>1287</td>\n",
       "      <td>113</td>\n",
       "      <td>8.780109</td>\n",
       "    </tr>\n",
       "    <tr>\n",
       "      <th>1</th>\n",
       "      <td>C Fownes</td>\n",
       "      <td>1282</td>\n",
       "      <td>116</td>\n",
       "      <td>9.048362</td>\n",
       "    </tr>\n",
       "    <tr>\n",
       "      <th>2</th>\n",
       "      <td>C H Yip</td>\n",
       "      <td>1261</td>\n",
       "      <td>75</td>\n",
       "      <td>5.947661</td>\n",
       "    </tr>\n",
       "  </tbody>\n",
       "</table>\n",
       "</div>"
      ],
      "text/plain": [
       "    Trainer  Participated  Won  Winning rate (%)\n",
       "0  A S Cruz          1287  113          8.780109\n",
       "1  C Fownes          1282  116          9.048362\n",
       "2   C H Yip          1261   75          5.947661"
      ]
     },
     "execution_count": 46,
     "metadata": {},
     "output_type": "execute_result"
    }
   ],
   "source": [
    "# Data frame to find the trainers that have trained the most horses\n",
    "trainer_name_df = final_df[\"Trainer\"].value_counts()\n",
    "trainer_name_df = pd.DataFrame(trainer_name_df).reset_index()\n",
    "trainer_name_df = trainer_name_df.rename(columns={\"index\": \"Trainer\", \"Trainer\": \"Participated\"})\n",
    "# Taking only a fixed number of first jockeys\n",
    "num = 3\n",
    "trainer_name_df = trainer_name_df.query(\"Participated > 30\").head(num)\n",
    "\n",
    "# Adding new columns to the previous dataframe\n",
    "trainer_name_df[\"Won\"] = \"\"\n",
    "trainer_name_df[\"Winning rate (%)\"] = \"\"\n",
    "\n",
    "# Arrays to store the new data\n",
    "winning = []\n",
    "rate = []\n",
    "\n",
    "for i in range(num):\n",
    "    # Getting the names of the most frequently participated trainers\n",
    "    name = trainer_name_df[\"Trainer\"][i]\n",
    "    # Getting the data from the original dataframe that corresponds to the selected trainer and taking the \"Won\" column\n",
    "    name_win_1 = final_df[final_df[\"Trainer\"] == name][\"Won\"]\n",
    "    name_win_2 = final_df[final_df[\"Trainer\"] == name][\"Won\"]\n",
    "    # Getting the number of winnings and losses\n",
    "    w = name_win_1.value_counts()[1]\n",
    "    l = name_win_2.value_counts()[0]\n",
    "    # Assigning them to the arrays\n",
    "    winning.append(w)\n",
    "    rate.append(w / (w+l) * 100)\n",
    "\n",
    "# Adding data to the dataframe\n",
    "trainer_name_df[\"Won\"] = winning\n",
    "trainer_name_df[\"Winning rate (%)\"] = rate\n",
    "\n",
    "trainer_name_df"
   ]
  },
  {
   "cell_type": "markdown",
   "metadata": {},
   "source": [
    "# Sergio Analysis"
   ]
  },
  {
   "cell_type": "code",
   "execution_count": 138,
   "metadata": {},
   "outputs": [
    {
     "data": {
      "text/html": [
       "<div>\n",
       "<style scoped>\n",
       "    .dataframe tbody tr th:only-of-type {\n",
       "        vertical-align: middle;\n",
       "    }\n",
       "\n",
       "    .dataframe tbody tr th {\n",
       "        vertical-align: top;\n",
       "    }\n",
       "\n",
       "    .dataframe thead th {\n",
       "        text-align: right;\n",
       "    }\n",
       "</style>\n",
       "<table border=\"1\" class=\"dataframe\">\n",
       "  <thead>\n",
       "    <tr style=\"text-align: right;\">\n",
       "      <th></th>\n",
       "      <th>Race_id</th>\n",
       "      <th>Date</th>\n",
       "      <th>Race_no</th>\n",
       "      <th>config</th>\n",
       "      <th>surface</th>\n",
       "      <th>Distance</th>\n",
       "      <th>Surface_condition</th>\n",
       "      <th>horse_ratings</th>\n",
       "      <th>Prize</th>\n",
       "      <th>Class</th>\n",
       "      <th>...</th>\n",
       "      <th>race_id_y</th>\n",
       "      <th>race_class_y</th>\n",
       "      <th>track_condition</th>\n",
       "      <th>Race_name</th>\n",
       "      <th>Track</th>\n",
       "      <th>horse_number</th>\n",
       "      <th>Horse_name</th>\n",
       "      <th>Horse_id</th>\n",
       "      <th>Jockey</th>\n",
       "      <th>Trainer</th>\n",
       "    </tr>\n",
       "  </thead>\n",
       "  <tbody>\n",
       "    <tr>\n",
       "      <th>0</th>\n",
       "      <td>4547</td>\n",
       "      <td>2014-09-14</td>\n",
       "      <td>1</td>\n",
       "      <td>A</td>\n",
       "      <td>0</td>\n",
       "      <td>1400</td>\n",
       "      <td>GOOD TO FIRM</td>\n",
       "      <td>40-15</td>\n",
       "      <td>575000.0</td>\n",
       "      <td>5</td>\n",
       "      <td>...</td>\n",
       "      <td>2014-001</td>\n",
       "      <td>Class 5</td>\n",
       "      <td>GOOD TO FIRM</td>\n",
       "      <td>TIM WA HANDICAP</td>\n",
       "      <td>TURF - \"A\" COURSE</td>\n",
       "      <td>1</td>\n",
       "      <td>DOUBLE DRAGON</td>\n",
       "      <td>K019</td>\n",
       "      <td>B Prebble</td>\n",
       "      <td>D Cruz</td>\n",
       "    </tr>\n",
       "    <tr>\n",
       "      <th>1</th>\n",
       "      <td>4547</td>\n",
       "      <td>2014-09-14</td>\n",
       "      <td>1</td>\n",
       "      <td>A</td>\n",
       "      <td>0</td>\n",
       "      <td>1400</td>\n",
       "      <td>GOOD TO FIRM</td>\n",
       "      <td>40-15</td>\n",
       "      <td>575000.0</td>\n",
       "      <td>5</td>\n",
       "      <td>...</td>\n",
       "      <td>2014-001</td>\n",
       "      <td>Class 5</td>\n",
       "      <td>GOOD TO FIRM</td>\n",
       "      <td>TIM WA HANDICAP</td>\n",
       "      <td>TURF - \"A\" COURSE</td>\n",
       "      <td>2</td>\n",
       "      <td>PLAIN BLUE BANNER</td>\n",
       "      <td>S070</td>\n",
       "      <td>D Whyte</td>\n",
       "      <td>D E Ferraris</td>\n",
       "    </tr>\n",
       "    <tr>\n",
       "      <th>2</th>\n",
       "      <td>4547</td>\n",
       "      <td>2014-09-14</td>\n",
       "      <td>1</td>\n",
       "      <td>A</td>\n",
       "      <td>0</td>\n",
       "      <td>1400</td>\n",
       "      <td>GOOD TO FIRM</td>\n",
       "      <td>40-15</td>\n",
       "      <td>575000.0</td>\n",
       "      <td>5</td>\n",
       "      <td>...</td>\n",
       "      <td>2014-001</td>\n",
       "      <td>Class 5</td>\n",
       "      <td>GOOD TO FIRM</td>\n",
       "      <td>TIM WA HANDICAP</td>\n",
       "      <td>TURF - \"A\" COURSE</td>\n",
       "      <td>3</td>\n",
       "      <td>SUPREME PROFIT</td>\n",
       "      <td>P230</td>\n",
       "      <td>J Moreira</td>\n",
       "      <td>C S Shum</td>\n",
       "    </tr>\n",
       "    <tr>\n",
       "      <th>3</th>\n",
       "      <td>4547</td>\n",
       "      <td>2014-09-14</td>\n",
       "      <td>1</td>\n",
       "      <td>A</td>\n",
       "      <td>0</td>\n",
       "      <td>1400</td>\n",
       "      <td>GOOD TO FIRM</td>\n",
       "      <td>40-15</td>\n",
       "      <td>575000.0</td>\n",
       "      <td>5</td>\n",
       "      <td>...</td>\n",
       "      <td>2014-001</td>\n",
       "      <td>Class 5</td>\n",
       "      <td>GOOD TO FIRM</td>\n",
       "      <td>TIM WA HANDICAP</td>\n",
       "      <td>TURF - \"A\" COURSE</td>\n",
       "      <td>4</td>\n",
       "      <td>COOL PAL</td>\n",
       "      <td>S035</td>\n",
       "      <td>H W Lai</td>\n",
       "      <td>L Ho</td>\n",
       "    </tr>\n",
       "    <tr>\n",
       "      <th>4</th>\n",
       "      <td>4547</td>\n",
       "      <td>2014-09-14</td>\n",
       "      <td>1</td>\n",
       "      <td>A</td>\n",
       "      <td>0</td>\n",
       "      <td>1400</td>\n",
       "      <td>GOOD TO FIRM</td>\n",
       "      <td>40-15</td>\n",
       "      <td>575000.0</td>\n",
       "      <td>5</td>\n",
       "      <td>...</td>\n",
       "      <td>2014-001</td>\n",
       "      <td>Class 5</td>\n",
       "      <td>GOOD TO FIRM</td>\n",
       "      <td>TIM WA HANDICAP</td>\n",
       "      <td>TURF - \"A\" COURSE</td>\n",
       "      <td>5</td>\n",
       "      <td>AMAZING GIFT</td>\n",
       "      <td>S090</td>\n",
       "      <td>K C Leung</td>\n",
       "      <td>P O'Sullivan</td>\n",
       "    </tr>\n",
       "  </tbody>\n",
       "</table>\n",
       "<p>5 rows × 39 columns</p>\n",
       "</div>"
      ],
      "text/plain": [
       "   Race_id       Date  Race_no config  surface  Distance Surface_condition  \\\n",
       "0     4547 2014-09-14        1      A        0      1400      GOOD TO FIRM   \n",
       "1     4547 2014-09-14        1      A        0      1400      GOOD TO FIRM   \n",
       "2     4547 2014-09-14        1      A        0      1400      GOOD TO FIRM   \n",
       "3     4547 2014-09-14        1      A        0      1400      GOOD TO FIRM   \n",
       "4     4547 2014-09-14        1      A        0      1400      GOOD TO FIRM   \n",
       "\n",
       "  horse_ratings     Prize  Class  ...  race_id_y  race_class_y  \\\n",
       "0         40-15  575000.0      5  ...   2014-001       Class 5   \n",
       "1         40-15  575000.0      5  ...   2014-001       Class 5   \n",
       "2         40-15  575000.0      5  ...   2014-001       Class 5   \n",
       "3         40-15  575000.0      5  ...   2014-001       Class 5   \n",
       "4         40-15  575000.0      5  ...   2014-001       Class 5   \n",
       "\n",
       "   track_condition        Race_name              Track  horse_number  \\\n",
       "0     GOOD TO FIRM  TIM WA HANDICAP  TURF - \"A\" COURSE             1   \n",
       "1     GOOD TO FIRM  TIM WA HANDICAP  TURF - \"A\" COURSE             2   \n",
       "2     GOOD TO FIRM  TIM WA HANDICAP  TURF - \"A\" COURSE             3   \n",
       "3     GOOD TO FIRM  TIM WA HANDICAP  TURF - \"A\" COURSE             4   \n",
       "4     GOOD TO FIRM  TIM WA HANDICAP  TURF - \"A\" COURSE             5   \n",
       "\n",
       "          Horse_name Horse_id     Jockey       Trainer  \n",
       "0      DOUBLE DRAGON     K019  B Prebble        D Cruz  \n",
       "1  PLAIN BLUE BANNER     S070    D Whyte  D E Ferraris  \n",
       "2     SUPREME PROFIT     P230  J Moreira      C S Shum  \n",
       "3           COOL PAL     S035    H W Lai          L Ho  \n",
       "4       AMAZING GIFT     S090  K C Leung  P O'Sullivan  \n",
       "\n",
       "[5 rows x 39 columns]"
      ]
     },
     "execution_count": 138,
     "metadata": {},
     "output_type": "execute_result"
    }
   ],
   "source": [
    "final_df.head()"
   ]
  },
  {
   "cell_type": "code",
   "execution_count": 139,
   "metadata": {},
   "outputs": [
    {
     "data": {
      "image/png": "[encoded data removed]",
      "text/plain": [
       "<Figure size 432x288 with 1 Axes>"
      ]
     },
     "metadata": {
      "needs_background": "light"
     },
     "output_type": "display_data"
    }
   ],
   "source": [
    "#Make the analisys for the race of 1200 m \n",
    "race_df=pd.DataFrame({\"Distance count\":final_df[\"Distance\"].value_counts()})\n",
    "race_df.plot(kind='bar')\n",
    "plt.xlabel(\"Race type\")\n",
    "plt.ylabel(\"Number of races\")\n",
    "plt.show()"
   ]
  },
  {
   "cell_type": "code",
   "execution_count": 140,
   "metadata": {},
   "outputs": [
    {
     "name": "stdout",
     "output_type": "stream",
     "text": [
      "Won                   int64\n",
      "Jockey               object\n",
      "race_class_y         object\n",
      "Surface_condition    object\n",
      "Horse_name           object\n",
      "Trainer              object\n",
      "dtype: object\n"
     ]
    },
    {
     "data": {
      "text/html": [
       "<div>\n",
       "<style scoped>\n",
       "    .dataframe tbody tr th:only-of-type {\n",
       "        vertical-align: middle;\n",
       "    }\n",
       "\n",
       "    .dataframe tbody tr th {\n",
       "        vertical-align: top;\n",
       "    }\n",
       "\n",
       "    .dataframe thead th {\n",
       "        text-align: right;\n",
       "    }\n",
       "</style>\n",
       "<table border=\"1\" class=\"dataframe\">\n",
       "  <thead>\n",
       "    <tr style=\"text-align: right;\">\n",
       "      <th></th>\n",
       "      <th>Won</th>\n",
       "      <th>Jockey</th>\n",
       "      <th>race_class_y</th>\n",
       "      <th>Surface_condition</th>\n",
       "      <th>Horse_name</th>\n",
       "      <th>Trainer</th>\n",
       "    </tr>\n",
       "  </thead>\n",
       "  <tbody>\n",
       "    <tr>\n",
       "      <th>13</th>\n",
       "      <td>0</td>\n",
       "      <td>T H So</td>\n",
       "      <td>Class 5</td>\n",
       "      <td>GOOD TO FIRM</td>\n",
       "      <td>ALLEY-OOP</td>\n",
       "      <td>C W Chang</td>\n",
       "    </tr>\n",
       "    <tr>\n",
       "      <th>14</th>\n",
       "      <td>0</td>\n",
       "      <td>Z Purton</td>\n",
       "      <td>Class 5</td>\n",
       "      <td>GOOD TO FIRM</td>\n",
       "      <td>SPARKLING SWORD</td>\n",
       "      <td>K W Lui</td>\n",
       "    </tr>\n",
       "    <tr>\n",
       "      <th>15</th>\n",
       "      <td>0</td>\n",
       "      <td>M Chadwick</td>\n",
       "      <td>Class 5</td>\n",
       "      <td>GOOD TO FIRM</td>\n",
       "      <td>CALIFORNIA ROCK</td>\n",
       "      <td>A S Cruz</td>\n",
       "    </tr>\n",
       "    <tr>\n",
       "      <th>16</th>\n",
       "      <td>0</td>\n",
       "      <td>Y T Cheng</td>\n",
       "      <td>Class 5</td>\n",
       "      <td>GOOD TO FIRM</td>\n",
       "      <td>MONEY CAFE</td>\n",
       "      <td>C H Yip</td>\n",
       "    </tr>\n",
       "    <tr>\n",
       "      <th>17</th>\n",
       "      <td>0</td>\n",
       "      <td>O Doleuze</td>\n",
       "      <td>Class 5</td>\n",
       "      <td>GOOD TO FIRM</td>\n",
       "      <td>JOYFUL LUCK</td>\n",
       "      <td>C W Chang</td>\n",
       "    </tr>\n",
       "  </tbody>\n",
       "</table>\n",
       "</div>"
      ],
      "text/plain": [
       "    Won      Jockey race_class_y Surface_condition       Horse_name    Trainer\n",
       "13    0      T H So      Class 5      GOOD TO FIRM        ALLEY-OOP  C W Chang\n",
       "14    0    Z Purton      Class 5      GOOD TO FIRM  SPARKLING SWORD    K W Lui\n",
       "15    0  M Chadwick      Class 5      GOOD TO FIRM  CALIFORNIA ROCK   A S Cruz\n",
       "16    0   Y T Cheng      Class 5      GOOD TO FIRM       MONEY CAFE    C H Yip\n",
       "17    0   O Doleuze      Class 5      GOOD TO FIRM      JOYFUL LUCK  C W Chang"
      ]
     },
     "execution_count": 140,
     "metadata": {},
     "output_type": "execute_result"
    }
   ],
   "source": [
    "#Only filter the data for the race of 1200 \n",
    "race_1200_df=final_df.loc[final_df[\"Distance\"] == 1200]\n",
    "race_1200_df = race_1200_df[['Won','Jockey','race_class_y','Surface_condition','Horse_name','Trainer']]\n",
    "race_1200_df['Won'] = race_1200_df['Won'].astype('int64')\n",
    "\n",
    "print(race_1200_df.dtypes)\n",
    "race_1200_df.head()\n",
    "\n"
   ]
  },
  {
   "cell_type": "code",
   "execution_count": 141,
   "metadata": {},
   "outputs": [
    {
     "name": "stdout",
     "output_type": "stream",
     "text": [
      "Class 4              3016\n",
      "Class 3              2664\n",
      "Class 5               771\n",
      "Class 2               659\n",
      "Class 1               131\n",
      "Group One and Two     101\n",
      "Hong Kong Group        89\n",
      "Griffin Race           53\n",
      "Name: race_class_y, dtype: int64\n"
     ]
    }
   ],
   "source": [
    "race_1200_df[\"race_class_y\"] = race_1200_df[\"race_class_y\"].replace({\"Class 4 (Restricted)\":\"Class 4\",\"Class 4 (Special Condition)\":\"Class 4\",\"Group One\":\"Group One and Two\",\"Group Two\":\"Group One and Two\",\"Hong Kong Group Two\":\"Hong Kong Group\",\"Hong Kong Group One\":\"Hong Kong Group\",\"Hong Kong Group Three\":\"Hong Kong Group\"})\n",
    "print( race_1200_df[\"race_class_y\"].value_counts())"
   ]
  },
  {
   "cell_type": "code",
   "execution_count": 142,
   "metadata": {},
   "outputs": [
    {
     "data": {
      "image/png": "[encoded data removed]",
      "text/plain": [
       "<Figure size 1440x360 with 1 Axes>"
      ]
     },
     "metadata": {
      "needs_background": "light"
     },
     "output_type": "display_data"
    }
   ],
   "source": [
    "#Create a graph to look the jockey wins\n",
    "#Jockey maybe is not the best variable to make the analisys \n",
    "pd.crosstab(race_1200_df[\"Jockey\"],race_1200_df[\"Won\"]).plot(kind='bar',figsize=(20,5))\n",
    "plt.title(\"Jockey comparission win vs lost in race of 1200\")\n",
    "plt.xlabel(\"Jockey\")\n",
    "plt.ylabel(\"Count\")\n",
    "plt.show()\n",
    "\n"
   ]
  },
  {
   "cell_type": "code",
   "execution_count": 143,
   "metadata": {},
   "outputs": [
    {
     "data": {
      "image/png": "[encoded data removed]",
      "text/plain": [
       "<Figure size 1440x360 with 1 Axes>"
      ]
     },
     "metadata": {
      "needs_background": "light"
     },
     "output_type": "display_data"
    }
   ],
   "source": [
    "#Percentage of wons by jockey \n",
    "percentage_won=pd.crosstab(race_1200_df[\"Jockey\"],race_1200_df[\"Won\"])\n",
    "percentage_won.div(percentage_won.sum(1).astype(float), axis=0).plot(kind='bar', stacked=True,figsize=(20,5))\n",
    "plt.title(\"Jockey comparission win vs lost in race of 1200\")\n",
    "plt.xlabel(\"Jockey\")\n",
    "plt.ylabel(\"Count\")\n",
    "plt.show()"
   ]
  },
  {
   "cell_type": "code",
   "execution_count": 144,
   "metadata": {},
   "outputs": [
    {
     "data": {
      "image/png": "[encoded data removed]",
      "text/plain": [
       "<Figure size 1440x360 with 1 Axes>"
      ]
     },
     "metadata": {
      "needs_background": "light"
     },
     "output_type": "display_data"
    }
   ],
   "source": [
    "#Race Class percentage of wins is not a variable that defines the race winner\n",
    "percentage_won=pd.crosstab(race_1200_df[\"race_class_y\"],race_1200_df[\"Won\"])\n",
    "percentage_won.div(percentage_won.sum(1).astype(float), axis=0).plot(kind='bar', stacked=True,figsize=(20,5))\n",
    "plt.title(\"Race Class win percentage in race of 1200\")\n",
    "plt.xlabel(\"Race Class\")\n",
    "plt.ylabel(\"Percentage %\")\n",
    "plt.show()"
   ]
  },
  {
   "cell_type": "code",
   "execution_count": 145,
   "metadata": {},
   "outputs": [
    {
     "data": {
      "image/png": "[encoded data removed]",
      "text/plain": [
       "<Figure size 1440x360 with 1 Axes>"
      ]
     },
     "metadata": {
      "needs_background": "light"
     },
     "output_type": "display_data"
    }
   ],
   "source": [
    "percentage_won=pd.crosstab(race_1200_df[\"Surface_condition\"],race_1200_df[\"Won\"])\n",
    "percentage_won.div(percentage_won.sum(1).astype(float), axis=0).plot(kind='bar', stacked=True,figsize=(20,5))\n",
    "plt.title(\"Percentage of wins by track conditions \")\n",
    "plt.xlabel(\"Track Conditions\")\n",
    "plt.ylabel(\"Percentage %\")\n",
    "plt.show()\n",
    "\n"
   ]
  },
  {
   "cell_type": "code",
   "execution_count": 147,
   "metadata": {},
   "outputs": [
    {
     "data": {
      "image/png": "[encoded data removed]",
      "text/plain": [
       "<Figure size 1440x360 with 1 Axes>"
      ]
     },
     "metadata": {
      "needs_background": "light"
     },
     "output_type": "display_data"
    }
   ],
   "source": [
    "#Trainer is a clear out put\n",
    "pd.crosstab(race_1200_df[\"Trainer\"],race_1200_df[\"Won\"]).plot(kind='bar',figsize=(20,5))\n",
    "plt.title(\"Trainer comparission win vs lost in race of 1200\")\n",
    "plt.xlabel(\"Trainer\")\n",
    "plt.ylabel(\"Count\")\n",
    "plt.show()"
   ]
  },
  {
   "cell_type": "code",
   "execution_count": 148,
   "metadata": {},
   "outputs": [],
   "source": [
    "s = race_1200_df\n",
    "a = pd.get_dummies(s[\"race_class_y\"],prefix=\"race_class_y\")\n",
    "b = pd.get_dummies(s[\"Surface_condition\"],prefix=\"Surface_condition\")\n",
    "c = pd.get_dummies(s[\"Horse_name\"],prefix=\"Horse_name\")\n",
    "d = pd.get_dummies(s[\"Trainer\"],prefix=\"Trainer\")\n",
    "e = pd.get_dummies(s[\"Jockey\"],prefix=\"Jockey\")\n",
    "\n"
   ]
  },
  {
   "cell_type": "code",
   "execution_count": 149,
   "metadata": {},
   "outputs": [],
   "source": [
    "binary_table = s.join(e)\n",
    "#binary_table = binary_table.join(b)\n",
    "#binary_table = binary_table.join(c)\n",
    "binary_table = binary_table.join(d)\n",
    "#binary_table = binary_table.join(a)"
   ]
  },
  {
   "cell_type": "code",
   "execution_count": 150,
   "metadata": {},
   "outputs": [],
   "source": [
    "data_vars=binary_table.columns.values.tolist()\n",
    "cat_vars=['race_class_y','Surface_condition','Horse_name','Trainer','Jockey']\n",
    "to_keep=[i for i in data_vars if i not in cat_vars]\n",
    "binary_table = binary_table[to_keep]\n"
   ]
  },
  {
   "cell_type": "code",
   "execution_count": 151,
   "metadata": {},
   "outputs": [
    {
     "data": {
      "text/html": [
       "<div>\n",
       "<style scoped>\n",
       "    .dataframe tbody tr th:only-of-type {\n",
       "        vertical-align: middle;\n",
       "    }\n",
       "\n",
       "    .dataframe tbody tr th {\n",
       "        vertical-align: top;\n",
       "    }\n",
       "\n",
       "    .dataframe thead th {\n",
       "        text-align: right;\n",
       "    }\n",
       "</style>\n",
       "<table border=\"1\" class=\"dataframe\">\n",
       "  <thead>\n",
       "    <tr style=\"text-align: right;\">\n",
       "      <th></th>\n",
       "      <th>Won</th>\n",
       "      <th>Jockey_A Atzeni</th>\n",
       "      <th>Jockey_A Badel</th>\n",
       "      <th>Jockey_A Suborics</th>\n",
       "      <th>Jockey_B Fayd'herbe</th>\n",
       "      <th>Jockey_B Melham</th>\n",
       "      <th>Jockey_B Prebble</th>\n",
       "      <th>Jockey_B Shinn</th>\n",
       "      <th>Jockey_C Brown</th>\n",
       "      <th>Jockey_C Hayes</th>\n",
       "      <th>...</th>\n",
       "      <th>Trainer_R Gibson</th>\n",
       "      <th>Trainer_R Heathcote</th>\n",
       "      <th>Trainer_S Woods</th>\n",
       "      <th>Trainer_T A Hogan</th>\n",
       "      <th>Trainer_T K Ng</th>\n",
       "      <th>Trainer_T Ozeki</th>\n",
       "      <th>Trainer_T P Yung</th>\n",
       "      <th>Trainer_W A Ward</th>\n",
       "      <th>Trainer_W Y So</th>\n",
       "      <th>Trainer_Y S Tsui</th>\n",
       "    </tr>\n",
       "  </thead>\n",
       "  <tbody>\n",
       "    <tr>\n",
       "      <th>13</th>\n",
       "      <td>0</td>\n",
       "      <td>0</td>\n",
       "      <td>0</td>\n",
       "      <td>0</td>\n",
       "      <td>0</td>\n",
       "      <td>0</td>\n",
       "      <td>0</td>\n",
       "      <td>0</td>\n",
       "      <td>0</td>\n",
       "      <td>0</td>\n",
       "      <td>...</td>\n",
       "      <td>0</td>\n",
       "      <td>0</td>\n",
       "      <td>0</td>\n",
       "      <td>0</td>\n",
       "      <td>0</td>\n",
       "      <td>0</td>\n",
       "      <td>0</td>\n",
       "      <td>0</td>\n",
       "      <td>0</td>\n",
       "      <td>0</td>\n",
       "    </tr>\n",
       "    <tr>\n",
       "      <th>14</th>\n",
       "      <td>0</td>\n",
       "      <td>0</td>\n",
       "      <td>0</td>\n",
       "      <td>0</td>\n",
       "      <td>0</td>\n",
       "      <td>0</td>\n",
       "      <td>0</td>\n",
       "      <td>0</td>\n",
       "      <td>0</td>\n",
       "      <td>0</td>\n",
       "      <td>...</td>\n",
       "      <td>0</td>\n",
       "      <td>0</td>\n",
       "      <td>0</td>\n",
       "      <td>0</td>\n",
       "      <td>0</td>\n",
       "      <td>0</td>\n",
       "      <td>0</td>\n",
       "      <td>0</td>\n",
       "      <td>0</td>\n",
       "      <td>0</td>\n",
       "    </tr>\n",
       "    <tr>\n",
       "      <th>15</th>\n",
       "      <td>0</td>\n",
       "      <td>0</td>\n",
       "      <td>0</td>\n",
       "      <td>0</td>\n",
       "      <td>0</td>\n",
       "      <td>0</td>\n",
       "      <td>0</td>\n",
       "      <td>0</td>\n",
       "      <td>0</td>\n",
       "      <td>0</td>\n",
       "      <td>...</td>\n",
       "      <td>0</td>\n",
       "      <td>0</td>\n",
       "      <td>0</td>\n",
       "      <td>0</td>\n",
       "      <td>0</td>\n",
       "      <td>0</td>\n",
       "      <td>0</td>\n",
       "      <td>0</td>\n",
       "      <td>0</td>\n",
       "      <td>0</td>\n",
       "    </tr>\n",
       "  </tbody>\n",
       "</table>\n",
       "<p>3 rows × 116 columns</p>\n",
       "</div>"
      ],
      "text/plain": [
       "    Won  Jockey_A Atzeni  Jockey_A Badel  Jockey_A Suborics  \\\n",
       "13    0                0               0                  0   \n",
       "14    0                0               0                  0   \n",
       "15    0                0               0                  0   \n",
       "\n",
       "    Jockey_B Fayd'herbe  Jockey_B Melham  Jockey_B Prebble  Jockey_B Shinn  \\\n",
       "13                    0                0                 0               0   \n",
       "14                    0                0                 0               0   \n",
       "15                    0                0                 0               0   \n",
       "\n",
       "    Jockey_C Brown  Jockey_C Hayes  ...  Trainer_R Gibson  \\\n",
       "13               0               0  ...                 0   \n",
       "14               0               0  ...                 0   \n",
       "15               0               0  ...                 0   \n",
       "\n",
       "    Trainer_R Heathcote  Trainer_S Woods  Trainer_T A Hogan  Trainer_T K Ng  \\\n",
       "13                    0                0                  0               0   \n",
       "14                    0                0                  0               0   \n",
       "15                    0                0                  0               0   \n",
       "\n",
       "    Trainer_T Ozeki  Trainer_T P Yung  Trainer_W A Ward  Trainer_W Y So  \\\n",
       "13                0                 0                 0               0   \n",
       "14                0                 0                 0               0   \n",
       "15                0                 0                 0               0   \n",
       "\n",
       "    Trainer_Y S Tsui  \n",
       "13                 0  \n",
       "14                 0  \n",
       "15                 0  \n",
       "\n",
       "[3 rows x 116 columns]"
      ]
     },
     "execution_count": 151,
     "metadata": {},
     "output_type": "execute_result"
    }
   ],
   "source": [
    "binary_table.to_csv(\"binary_table.csv\",index = False)\n",
    "binary_table.head(3)"
   ]
  },
  {
   "cell_type": "code",
   "execution_count": 152,
   "metadata": {},
   "outputs": [],
   "source": [
    "#Set the independant variables\n",
    "X = binary_table.loc[:, binary_table.columns != 'Won']\n",
    "#Set the dependant variables\n",
    "y = binary_table.loc[:, binary_table.columns == 'Won']"
   ]
  },
  {
   "cell_type": "code",
   "execution_count": 155,
   "metadata": {},
   "outputs": [
    {
     "name": "stdout",
     "output_type": "stream",
     "text": [
      "length of oversampled data is  9634\n",
      "Number of no winners in oversampled data 4817\n",
      "Number of Winners 4817\n",
      "Proportion of no winners data in oversampled data is  0.5\n",
      "Proportion of winners data in oversampled data is  0.5\n"
     ]
    }
   ],
   "source": [
    "#This algo will take a sample of the data\n",
    "\n",
    "import imblearn\n",
    "from imblearn.over_sampling import SMOTE\n",
    "from sklearn.linear_model import LogisticRegression\n",
    "from sklearn.model_selection import train_test_split\n",
    "\n",
    "os = SMOTE(random_state=0)\n",
    "\n",
    "X_train, X_test, y_train, y_test = train_test_split(X, y, test_size=0.3, random_state=0)\n",
    "\n",
    "columns = X_train.columns\n",
    "\n",
    "os_data_X,os_data_y=os.fit_sample(X_train, y_train)\n",
    "\n",
    "os_data_X = pd.DataFrame(data=os_data_X,columns=columns )\n",
    "\n",
    "os_data_y= pd.DataFrame(data=os_data_y,columns=['Won'])\n",
    "\n",
    "# we can Check the numbers of our data\n",
    "print(\"length of oversampled data is \",len(os_data_X))\n",
    "print(\"Number of no winners in oversampled data\",len(os_data_y[os_data_y['Won']==0]))\n",
    "print(\"Number of Winners\",len(os_data_y[os_data_y['Won']==1]))\n",
    "print(\"Proportion of no winners data in oversampled data is \",len(os_data_y[os_data_y['Won']==0])/len(os_data_X))\n",
    "print(\"Proportion of winners data in oversampled data is \",len(os_data_y[os_data_y['Won']==1])/len(os_data_X))"
   ]
  },
  {
   "cell_type": "code",
   "execution_count": 156,
   "metadata": {},
   "outputs": [
    {
     "name": "stderr",
     "output_type": "stream",
     "text": [
      "/home/mario/anaconda3/lib/python3.7/site-packages/sklearn/linear_model/_logistic.py:940: ConvergenceWarning: lbfgs failed to converge (status=1):\n",
      "STOP: TOTAL NO. of ITERATIONS REACHED LIMIT.\n",
      "\n",
      "Increase the number of iterations (max_iter) or scale the data as shown in:\n",
      "    https://scikit-learn.org/stable/modules/preprocessing.html\n",
      "Please also refer to the documentation for alternative solver options:\n",
      "    https://scikit-learn.org/stable/modules/linear_model.html#logistic-regression\n",
      "  extra_warning_msg=_LOGISTIC_SOLVER_CONVERGENCE_MSG)\n",
      "/home/mario/anaconda3/lib/python3.7/site-packages/sklearn/linear_model/_logistic.py:940: ConvergenceWarning: lbfgs failed to converge (status=1):\n",
      "STOP: TOTAL NO. of ITERATIONS REACHED LIMIT.\n",
      "\n",
      "Increase the number of iterations (max_iter) or scale the data as shown in:\n",
      "    https://scikit-learn.org/stable/modules/preprocessing.html\n",
      "Please also refer to the documentation for alternative solver options:\n",
      "    https://scikit-learn.org/stable/modules/linear_model.html#logistic-regression\n",
      "  extra_warning_msg=_LOGISTIC_SOLVER_CONVERGENCE_MSG)\n"
     ]
    },
    {
     "name": "stdout",
     "output_type": "stream",
     "text": [
      "[False False False False False  True False  True False  True  True False\n",
      " False  True False False False False  True False False False False  True\n",
      "  True  True False False  True False  True  True False False False  True\n",
      " False False False False False False False False False False  True False\n",
      "  True False False False False False False False False False False  True\n",
      " False False False False False False False False False False False False\n",
      " False  True False False False False False False False False False False\n",
      " False False False  True False False False False False False False False\n",
      " False False False False  True False  True False False False False False\n",
      " False False False False False False False]\n",
      "[47 59 50 61 72  1 62  1 79  1  1  4 58  1  9 16 76 48  1 12 90 57 74  1\n",
      "  1  1 17 19  1 30  1  1 84 11 52  1  6 88 69 66  3 49 20 21 86 92  1 93\n",
      "  1 26 51 13 63 95 23 94  2 29 85  1 18 56 53 83 45 70 22 10 67 55 54 87\n",
      " 33  1 39  7  8 35 27 46 24 43 42 40 38 73 96  1 80 75 64 77 68 36 65 32\n",
      " 60 37 15  5  1 82  1 31 81 44 78 41 89 34 91 25 71 14 28]\n"
     ]
    }
   ],
   "source": [
    "data_final_vars=binary_table.columns.values.tolist()\n",
    "y=['Won']\n",
    "X=[i for i in data_final_vars if i not in y]\n",
    "from sklearn.feature_selection import RFE\n",
    "from sklearn.linear_model import LogisticRegression\n",
    "logreg = LogisticRegression()\n",
    "rfe = RFE(logreg, 20)\n",
    "rfe = rfe.fit(os_data_X, os_data_y.values.ravel())\n",
    "print(rfe.support_)\n",
    "print(rfe.ranking_)\n",
    "\n"
   ]
  },
  {
   "cell_type": "code",
   "execution_count": 157,
   "metadata": {},
   "outputs": [
    {
     "data": {
      "text/html": [
       "<div>\n",
       "<style scoped>\n",
       "    .dataframe tbody tr th:only-of-type {\n",
       "        vertical-align: middle;\n",
       "    }\n",
       "\n",
       "    .dataframe tbody tr th {\n",
       "        vertical-align: top;\n",
       "    }\n",
       "\n",
       "    .dataframe thead th {\n",
       "        text-align: right;\n",
       "    }\n",
       "</style>\n",
       "<table border=\"1\" class=\"dataframe\">\n",
       "  <thead>\n",
       "    <tr style=\"text-align: right;\">\n",
       "      <th></th>\n",
       "      <th>X Values</th>\n",
       "      <th>True or False</th>\n",
       "    </tr>\n",
       "  </thead>\n",
       "  <tbody>\n",
       "    <tr>\n",
       "      <th>5</th>\n",
       "      <td>Jockey_B Prebble</td>\n",
       "      <td>True</td>\n",
       "    </tr>\n",
       "    <tr>\n",
       "      <th>7</th>\n",
       "      <td>Jockey_C Brown</td>\n",
       "      <td>True</td>\n",
       "    </tr>\n",
       "    <tr>\n",
       "      <th>9</th>\n",
       "      <td>Jockey_C K Tong</td>\n",
       "      <td>True</td>\n",
       "    </tr>\n",
       "    <tr>\n",
       "      <th>10</th>\n",
       "      <td>Jockey_C Reith</td>\n",
       "      <td>True</td>\n",
       "    </tr>\n",
       "    <tr>\n",
       "      <th>13</th>\n",
       "      <td>Jockey_C Williams</td>\n",
       "      <td>True</td>\n",
       "    </tr>\n",
       "    <tr>\n",
       "      <th>18</th>\n",
       "      <td>Jockey_D Whyte</td>\n",
       "      <td>True</td>\n",
       "    </tr>\n",
       "    <tr>\n",
       "      <th>23</th>\n",
       "      <td>Jockey_G Lerena</td>\n",
       "      <td>True</td>\n",
       "    </tr>\n",
       "    <tr>\n",
       "      <th>24</th>\n",
       "      <td>Jockey_G Mosse</td>\n",
       "      <td>True</td>\n",
       "    </tr>\n",
       "    <tr>\n",
       "      <th>25</th>\n",
       "      <td>Jockey_G Schofield</td>\n",
       "      <td>True</td>\n",
       "    </tr>\n",
       "    <tr>\n",
       "      <th>28</th>\n",
       "      <td>Jockey_H T Mo</td>\n",
       "      <td>True</td>\n",
       "    </tr>\n",
       "    <tr>\n",
       "      <th>30</th>\n",
       "      <td>Jockey_J McDonald</td>\n",
       "      <td>True</td>\n",
       "    </tr>\n",
       "    <tr>\n",
       "      <th>31</th>\n",
       "      <td>Jockey_J Moreira</td>\n",
       "      <td>True</td>\n",
       "    </tr>\n",
       "    <tr>\n",
       "      <th>35</th>\n",
       "      <td>Jockey_K K Chiong</td>\n",
       "      <td>True</td>\n",
       "    </tr>\n",
       "    <tr>\n",
       "      <th>46</th>\n",
       "      <td>Jockey_N Callan</td>\n",
       "      <td>True</td>\n",
       "    </tr>\n",
       "    <tr>\n",
       "      <th>48</th>\n",
       "      <td>Jockey_N Rawiller</td>\n",
       "      <td>True</td>\n",
       "    </tr>\n",
       "    <tr>\n",
       "      <th>59</th>\n",
       "      <td>Jockey_S Pasquier</td>\n",
       "      <td>True</td>\n",
       "    </tr>\n",
       "    <tr>\n",
       "      <th>73</th>\n",
       "      <td>Jockey_Z Purton</td>\n",
       "      <td>True</td>\n",
       "    </tr>\n",
       "    <tr>\n",
       "      <th>87</th>\n",
       "      <td>Trainer_G Enebish</td>\n",
       "      <td>True</td>\n",
       "    </tr>\n",
       "    <tr>\n",
       "      <th>100</th>\n",
       "      <td>Trainer_M Hawkes</td>\n",
       "      <td>True</td>\n",
       "    </tr>\n",
       "    <tr>\n",
       "      <th>102</th>\n",
       "      <td>Trainer_P F Yiu</td>\n",
       "      <td>True</td>\n",
       "    </tr>\n",
       "  </tbody>\n",
       "</table>\n",
       "</div>"
      ],
      "text/plain": [
       "               X Values  True or False\n",
       "5      Jockey_B Prebble           True\n",
       "7        Jockey_C Brown           True\n",
       "9       Jockey_C K Tong           True\n",
       "10       Jockey_C Reith           True\n",
       "13    Jockey_C Williams           True\n",
       "18       Jockey_D Whyte           True\n",
       "23      Jockey_G Lerena           True\n",
       "24       Jockey_G Mosse           True\n",
       "25   Jockey_G Schofield           True\n",
       "28        Jockey_H T Mo           True\n",
       "30    Jockey_J McDonald           True\n",
       "31     Jockey_J Moreira           True\n",
       "35    Jockey_K K Chiong           True\n",
       "46      Jockey_N Callan           True\n",
       "48    Jockey_N Rawiller           True\n",
       "59    Jockey_S Pasquier           True\n",
       "73      Jockey_Z Purton           True\n",
       "87    Trainer_G Enebish           True\n",
       "100    Trainer_M Hawkes           True\n",
       "102     Trainer_P F Yiu           True"
      ]
     },
     "execution_count": 157,
     "metadata": {},
     "output_type": "execute_result"
    }
   ],
   "source": [
    "best_var=pd.DataFrame({\n",
    "    \"X Values\":X,\n",
    "    \"True or False\":rfe.support_\n",
    "                      })\n",
    "best_var=best_var.loc[best_var[\"True or False\"]==True]\n",
    "best_var"
   ]
  },
  {
   "cell_type": "code",
   "execution_count": 158,
   "metadata": {},
   "outputs": [],
   "source": [
    "cols=[]\n",
    "\n",
    "best_var.iloc[19,0]\n",
    "\n",
    "for x in range(len(best_var)-1):\n",
    "    cols.append(best_var.iloc[x,0])\n",
    "X=os_data_X[cols]\n",
    "y=os_data_y[\"Won\"]\n",
    "\n"
   ]
  },
  {
   "cell_type": "code",
   "execution_count": 159,
   "metadata": {},
   "outputs": [
    {
     "data": {
      "text/plain": [
       "LogisticRegression(C=1.0, class_weight=None, dual=False, fit_intercept=True,\n",
       "                   intercept_scaling=1, l1_ratio=None, max_iter=100,\n",
       "                   multi_class='auto', n_jobs=None, penalty='l2',\n",
       "                   random_state=None, solver='lbfgs', tol=0.0001, verbose=0,\n",
       "                   warm_start=False)"
      ]
     },
     "execution_count": 159,
     "metadata": {},
     "output_type": "execute_result"
    }
   ],
   "source": [
    "#Calculate the Regression model \n",
    "from sklearn.linear_model import LogisticRegression\n",
    "from sklearn import metrics\n",
    "X_train, X_test, y_train, y_test = train_test_split(X, y, test_size=0.3, random_state=0)\n",
    "logreg = LogisticRegression()\n",
    "logreg.fit(X_train, y_train)"
   ]
  },
  {
   "cell_type": "code",
   "execution_count": 160,
   "metadata": {},
   "outputs": [
    {
     "name": "stdout",
     "output_type": "stream",
     "text": [
      "Accuracy of logistic regression classifier on test set: 0.65\n"
     ]
    }
   ],
   "source": [
    "#Accuracy of the model \n",
    "y_pred = logreg.predict(X_test)\n",
    "print('Accuracy of logistic regression classifier on test set: {:.2f}'.format(logreg.score(X_test, y_test)))"
   ]
  },
  {
   "cell_type": "code",
   "execution_count": null,
   "metadata": {},
   "outputs": [],
   "source": []
  }
 ],
 "metadata": {
  "kernelspec": {
   "display_name": "Python 3",
   "language": "python",
   "name": "python3"
  },
  "language_info": {
   "codemirror_mode": {
    "name": "ipython",
    "version": 3
   },
   "file_extension": ".py",
   "mimetype": "text/x-python",
   "name": "python",
   "nbconvert_exporter": "python",
   "pygments_lexer": "ipython3",
   "version": "3.7.6"
  }
 },
 "nbformat": 4,
 "nbformat_minor": 4
}
