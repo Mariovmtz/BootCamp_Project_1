{
 "cells": [
  {
   "cell_type": "markdown",
   "metadata": {},
   "source": [
    "# DATA GATHERING AND CLEANING \n",
    "\n",
    "The data for our analysis comes from 5 different datasets, our first activity was to clean all of them and structure them in a single useful dataset with all the needed fields for further analysis.\n",
    "\n",
    "1. All of our data was extracted from kaggle, data can be found in the following links:\n",
    "2. Horse Racing in Hong Kong - https://www.kaggle.com/gdaley/hkracing  \n",
    "3. Hong Kong Horse Racing Results 2014-2017 -https://www.kaggle.com/lantanacamara/hong-kong-horse-racing  \n",
    "\n",
    "Our raw data consist of the following files:\n",
    "\n",
    "### 1st set of data:\n",
    "- race_hk_1.csv - each row represents a race, data can be merged without problem with race_id.\n",
    "- race_horse_hk_1.csv - each row represents a horse in a race, data can be merged using race_id.\n",
    "\n",
    "### 2nd set of data:\n",
    "- race_hk_2.csv - each row represents a race, data can be merged without problem with race_id\n",
    "- race_horse_hk_2.csv - each row represents a horse in a race, data can be merged using race_id.\n",
    "\n"
   ]
  },
  {
   "cell_type": "code",
   "execution_count": 1,
   "metadata": {},
   "outputs": [],
   "source": [
    "#import \n",
    "import pandas as pd\n",
    "import datetime\n",
    "import scipy.stats as sts\n",
    "from scipy.stats import linregress\n",
    "import matplotlib.pyplot as plt\n",
    "import numpy as np"
   ]
  },
  {
   "cell_type": "code",
   "execution_count": 2,
   "metadata": {},
   "outputs": [],
   "source": [
    "race_hk1_org = pd.read_csv(\"datasets/races.csv\")\n",
    "race_horse_hk1_org = pd.read_csv(\"datasets/runs.csv\")\n",
    "race_hk2_org = pd.read_csv(\"datasets/race-result-race.csv\")\n",
    "race_horse_hk2_org = pd.read_csv(\"datasets/race-result-horse.csv\")"
   ]
  },
  {
   "cell_type": "code",
   "execution_count": 3,
   "metadata": {},
   "outputs": [],
   "source": [
    "race_hk1 = race_hk1_org[[\n",
    "            \"race_id\", \"date\", \"race_no\", \"config\", \"surface\", \"distance\", \"going\", \"horse_ratings\",\n",
    "            \"prize\", \"race_class\", \n",
    "\n",
    "            ]]\n",
    "\n",
    "race_hk2 = race_hk2_org[[\"race_date\", \"race_course\", \"race_number\", \"race_id\", \"race_class\", \n",
    "                         \"track_condition\", \"race_name\", \"track\"\n",
    "                        ]]\n",
    "    \n",
    "\n",
    "race_horse_hk1 = race_horse_hk1_org[[\n",
    "             \"race_id\", \"horse_no\", \"horse_id\", \"result\", \"won\", \"lengths_behind\", \"horse_age\", \n",
    "             \"horse_country\", \"horse_type\", \"horse_rating\", \"horse_gear\", \"declared_weight\", \"actual_weight\",\n",
    "             \"draw\", \"finish_time\", \"win_odds\", \"place_odds\"\n",
    "             ]]\n",
    "\n",
    "race_horse_hk2 = race_horse_hk2_org[[\"horse_number\", \"horse_name\", \"horse_id\", \"jockey\", \"trainer\", \n",
    "                                     \"race_id\"\n",
    "                      ]]\n"
   ]
  },
  {
   "cell_type": "code",
   "execution_count": 4,
   "metadata": {},
   "outputs": [
    {
     "name": "stdout",
     "output_type": "stream",
     "text": [
      "race_id            79447\n",
      "date               79447\n",
      "race_no            79447\n",
      "config             79447\n",
      "surface            79447\n",
      "distance           79447\n",
      "going              79447\n",
      "horse_ratings      79447\n",
      "prize              73598\n",
      "race_class         79447\n",
      "horse_no           79447\n",
      "horse_id           79447\n",
      "result             79447\n",
      "won                79447\n",
      "lengths_behind     79447\n",
      "horse_age          79447\n",
      "horse_country      79445\n",
      "horse_type         79445\n",
      "horse_rating       79447\n",
      "horse_gear         79447\n",
      "declared_weight    79447\n",
      "actual_weight      79447\n",
      "draw               79447\n",
      "finish_time        79447\n",
      "win_odds           79447\n",
      "place_odds         75712\n",
      "dtype: int64\n",
      "race_date          30189\n",
      "race_course        30189\n",
      "race_number        30189\n",
      "race_id            30189\n",
      "race_class         30189\n",
      "track_condition    30189\n",
      "race_name          30189\n",
      "track              30189\n",
      "horse_number       29851\n",
      "horse_name         30189\n",
      "horse_id           30189\n",
      "jockey             30189\n",
      "trainer            30189\n",
      "dtype: int64\n"
     ]
    }
   ],
   "source": [
    "races_merged_hk1 = pd.merge(race_hk1, race_horse_hk1, on=\"race_id\")\n",
    "races_merged_hk2 = pd.merge(race_hk2, race_horse_hk2, on=\"race_id\")\n",
    "\n",
    "print(races_merged_hk1.count())\n",
    "print(races_merged_hk2.count())"
   ]
  },
  {
   "cell_type": "code",
   "execution_count": 5,
   "metadata": {},
   "outputs": [],
   "source": [
    "races_merged_hk2 = races_merged_hk2.dropna(subset=['horse_number'])"
   ]
  },
  {
   "cell_type": "code",
   "execution_count": 6,
   "metadata": {},
   "outputs": [
    {
     "name": "stdout",
     "output_type": "stream",
     "text": [
      "79447\n",
      "29851\n",
      "race_date          29851\n",
      "race_course        29851\n",
      "race_number        29851\n",
      "race_id            29851\n",
      "race_class         29851\n",
      "track_condition    29851\n",
      "race_name          29851\n",
      "track              29851\n",
      "horse_number       29851\n",
      "horse_name         29851\n",
      "horse_id           29851\n",
      "jockey             29851\n",
      "trainer            29851\n",
      "dtype: int64\n",
      "29851\n"
     ]
    }
   ],
   "source": [
    "print(len(races_merged_hk1[[\"race_id\", \"race_no\", \"horse_no\"]].drop_duplicates()))\n",
    "print(len(races_merged_hk2[[\"race_id\", \"race_number\", \"horse_number\"]].drop_duplicates()))\n",
    "\n",
    "\n",
    "print(races_merged_hk2.count())\n",
    "print(len(races_merged_hk2[[\"race_id\", \"race_number\", \"horse_number\"]].drop_duplicates()))\n",
    "\n",
    "races_merged_hk1[\"date\"] = pd.to_datetime(races_merged_hk1[\"date\"]) + pd.to_timedelta('4123 days')\n",
    "races_merged_hk2[\"horse_number\"] = races_merged_hk2[\"horse_number\"].astype(int)\n",
    "races_merged_hk2[\"race_date\"] = pd.to_datetime(races_merged_hk2[\"race_date\"])"
   ]
  },
  {
   "cell_type": "code",
   "execution_count": 7,
   "metadata": {},
   "outputs": [
    {
     "name": "stdout",
     "output_type": "stream",
     "text": [
      "race_id            79447\n",
      "date               79447\n",
      "race_no            79447\n",
      "config             79447\n",
      "surface            79447\n",
      "distance           79447\n",
      "going              79447\n",
      "horse_ratings      79447\n",
      "prize              73598\n",
      "race_class         79447\n",
      "horse_no           79447\n",
      "horse_id           79447\n",
      "result             79447\n",
      "won                79447\n",
      "lengths_behind     79447\n",
      "horse_age          79447\n",
      "horse_country      79445\n",
      "horse_type         79445\n",
      "horse_rating       79447\n",
      "horse_gear         79447\n",
      "declared_weight    79447\n",
      "actual_weight      79447\n",
      "draw               79447\n",
      "finish_time        79447\n",
      "win_odds           79447\n",
      "place_odds         75712\n",
      "dtype: int64\n",
      "race_date          29851\n",
      "race_course        29851\n",
      "race_number        29851\n",
      "race_id            29851\n",
      "race_class         29851\n",
      "track_condition    29851\n",
      "race_name          29851\n",
      "track              29851\n",
      "horse_number       29851\n",
      "horse_name         29851\n",
      "horse_id           29851\n",
      "jockey             29851\n",
      "trainer            29851\n",
      "dtype: int64\n",
      "race_no                   int64\n",
      "horse_no                  int64\n",
      "distance                  int64\n",
      "actual_weight             int64\n",
      "date             datetime64[ns]\n",
      "dtype: object\n",
      "race_number              int64\n",
      "horse_number             int64\n",
      "race_date       datetime64[ns]\n",
      "dtype: object\n"
     ]
    }
   ],
   "source": [
    "print(races_merged_hk1.count())\n",
    "print(races_merged_hk2.count())\n",
    "print(races_merged_hk1[[\"race_no\", \"horse_no\", \"distance\", \"actual_weight\", \"date\"]].dtypes)\n",
    "print(races_merged_hk2[[\"race_number\", \"horse_number\", \"race_date\"]].dtypes)\n"
   ]
  },
  {
   "cell_type": "code",
   "execution_count": 8,
   "metadata": {},
   "outputs": [],
   "source": [
    "final_df = pd.merge(races_merged_hk1, races_merged_hk2, how=\"inner\", left_on = [\"race_no\", \"horse_no\", \"date\"],\n",
    "                   right_on = [\"race_number\", \"horse_number\", \"race_date\"])\n",
    "\n",
    "final_df.count()\n",
    "\n",
    "final_df.to_csv(\"final.csv\")"
   ]
  },
  {
   "cell_type": "code",
   "execution_count": 9,
   "metadata": {},
   "outputs": [
    {
     "name": "stdout",
     "output_type": "stream",
     "text": [
      "race_id_x          22544\n",
      "date               22544\n",
      "race_no            22544\n",
      "config             22544\n",
      "surface            22544\n",
      "distance           22544\n",
      "going              22544\n",
      "horse_ratings      22544\n",
      "prize              22544\n",
      "race_class_x       22544\n",
      "horse_no           22544\n",
      "horse_id_x         22544\n",
      "result             22544\n",
      "won                22544\n",
      "lengths_behind     22544\n",
      "horse_age          22544\n",
      "horse_country      22544\n",
      "horse_type         22544\n",
      "horse_rating       22544\n",
      "horse_gear         22544\n",
      "declared_weight    22544\n",
      "actual_weight      22544\n",
      "draw               22544\n",
      "finish_time        22544\n",
      "win_odds           22544\n",
      "place_odds         18928\n",
      "race_date          22544\n",
      "race_course        22544\n",
      "race_number        22544\n",
      "race_id_y          22544\n",
      "race_class_y       22544\n",
      "track_condition    22544\n",
      "race_name          22544\n",
      "track              22544\n",
      "horse_number       22544\n",
      "horse_name         22544\n",
      "horse_id_y         22544\n",
      "jockey             22544\n",
      "trainer            22544\n",
      "dtype: int64\n",
      "22544\n"
     ]
    }
   ],
   "source": [
    "print(final_df.count())\n",
    "print(len(final_df[[\"race_id_x\", \"race_no\", \"horse_no\"]].drop_duplicates()))"
   ]
  },
  {
   "cell_type": "code",
   "execution_count": 10,
   "metadata": {},
   "outputs": [
    {
     "data": {
      "text/plain": [
       "Index(['race_id_x', 'date', 'race_no', 'config', 'surface', 'distance',\n",
       "       'going', 'horse_ratings', 'prize', 'race_class_x', 'horse_no',\n",
       "       'horse_id_x', 'result', 'won', 'lengths_behind', 'horse_age',\n",
       "       'horse_country', 'horse_type', 'horse_rating', 'horse_gear',\n",
       "       'declared_weight', 'actual_weight', 'draw', 'finish_time', 'win_odds',\n",
       "       'place_odds', 'race_date', 'race_course', 'race_number', 'race_id_y',\n",
       "       'race_class_y', 'track_condition', 'race_name', 'track', 'horse_number',\n",
       "       'horse_name', 'horse_id_y', 'jockey', 'trainer'],\n",
       "      dtype='object')"
      ]
     },
     "execution_count": 10,
     "metadata": {},
     "output_type": "execute_result"
    }
   ],
   "source": [
    "final_df.columns"
   ]
  },
  {
   "cell_type": "code",
   "execution_count": 60,
   "metadata": {},
   "outputs": [],
   "source": [
    "final_df=final_df.rename(columns={\"race_id_x\":\"Race_id\",\n",
    "                                 \"date\":\"Date\",\n",
    "                                 \"race_no\":\"Race_no\",\n",
    "                                 \"distance\":\"Distance\",\n",
    "                                 \"going\":\"Surface_condition\",\n",
    "                                 \"prize\":\"Prize\",\n",
    "                                 \"horse_no\":\"Horse_no\",\n",
    "                                 \"horse_id_y\":\"Horse_id\",\n",
    "                                 \"result\":\"Final_position\",\n",
    "                                 \"won\":\"Won\",\n",
    "                                 \"horse_age\":\"Horse_age\",\n",
    "                                 \"horse_country\":\"Horse_country\",\n",
    "                                 \"horse_type\":\"Horse_type\",\n",
    "                                 \"actual_weight\":\"Actual_weight\",\n",
    "                                 \"finish_time\":\"Finish_time\",\n",
    "                                 \"race_course\":\"Course\",\n",
    "                                 \"race_class_x\":\"Class\",                                \n",
    "                                 \"race_name\":\"Race_name\",\n",
    "                                 \"track\":\"Track\",\n",
    "                                 \"horse_name\":\"Horse_name\",\n",
    "                                 \"jockey\":\"Jockey\",\n",
    "                                 \"trainer\":\"Trainer\",\n",
    "                                 \"declared_weight\":\"Declared_weight\",\n",
    "                                 })"
   ]
  },
  {
   "cell_type": "code",
   "execution_count": 61,
   "metadata": {},
   "outputs": [
    {
     "data": {
      "text/plain": [
       "Index(['Race_id', 'Date', 'Race_no', 'config', 'surface', 'Distance',\n",
       "       'Surface_condition', 'horse_ratings', 'Prize', 'Class', 'Horse_no',\n",
       "       'horse_id_x', 'Final_position', 'Won', 'lengths_behind', 'Horse_age',\n",
       "       'Horse_country', 'Horse_type', 'horse_rating', 'horse_gear',\n",
       "       'Declared_weight', 'Actual_weight', 'draw', 'Finish_time', 'win_odds',\n",
       "       'place_odds', 'race_date', 'Course', 'race_number', 'race_id_y',\n",
       "       'race_class_y', 'track_condition', 'Race_name', 'Track', 'horse_number',\n",
       "       'Horse_name', 'Horse_id', 'Jockey', 'Trainer'],\n",
       "      dtype='object')"
      ]
     },
     "execution_count": 61,
     "metadata": {},
     "output_type": "execute_result"
    }
   ],
   "source": [
    "final_df.columns\n"
   ]
  },
  {
   "cell_type": "markdown",
   "metadata": {},
   "source": [
    "TERMINA LIMPIEZA DE INFORMACION\n",
    "--------------------------------------------------------"
   ]
  },
  {
   "cell_type": "markdown",
   "metadata": {},
   "source": [
    "# EXPLORACION DE DATOS\n"
   ]
  },
  {
   "cell_type": "markdown",
   "metadata": {},
   "source": [
    "### MARTIN WORK"
   ]
  },
  {
   "cell_type": "code",
   "execution_count": 62,
   "metadata": {},
   "outputs": [
    {
     "data": {
      "text/html": [
       "<div>\n",
       "<style scoped>\n",
       "    .dataframe tbody tr th:only-of-type {\n",
       "        vertical-align: middle;\n",
       "    }\n",
       "\n",
       "    .dataframe tbody tr th {\n",
       "        vertical-align: top;\n",
       "    }\n",
       "\n",
       "    .dataframe thead th {\n",
       "        text-align: right;\n",
       "    }\n",
       "</style>\n",
       "<table border=\"1\" class=\"dataframe\">\n",
       "  <thead>\n",
       "    <tr style=\"text-align: right;\">\n",
       "      <th></th>\n",
       "      <th>Win Rate</th>\n",
       "      <th># of Horses</th>\n",
       "    </tr>\n",
       "    <tr>\n",
       "      <th>Horse_country</th>\n",
       "      <th></th>\n",
       "      <th></th>\n",
       "    </tr>\n",
       "  </thead>\n",
       "  <tbody>\n",
       "    <tr>\n",
       "      <th>SAF</th>\n",
       "      <td>9.01</td>\n",
       "      <td>222</td>\n",
       "    </tr>\n",
       "    <tr>\n",
       "      <th>AUS</th>\n",
       "      <td>8.58</td>\n",
       "      <td>8657</td>\n",
       "    </tr>\n",
       "    <tr>\n",
       "      <th>JPN</th>\n",
       "      <td>8.47</td>\n",
       "      <td>59</td>\n",
       "    </tr>\n",
       "    <tr>\n",
       "      <th>NZ</th>\n",
       "      <td>8.32</td>\n",
       "      <td>6872</td>\n",
       "    </tr>\n",
       "    <tr>\n",
       "      <th>USA</th>\n",
       "      <td>7.73</td>\n",
       "      <td>686</td>\n",
       "    </tr>\n",
       "    <tr>\n",
       "      <th>GB</th>\n",
       "      <td>7.59</td>\n",
       "      <td>2054</td>\n",
       "    </tr>\n",
       "    <tr>\n",
       "      <th>IRE</th>\n",
       "      <td>6.87</td>\n",
       "      <td>3190</td>\n",
       "    </tr>\n",
       "    <tr>\n",
       "      <th>ARG</th>\n",
       "      <td>5.88</td>\n",
       "      <td>17</td>\n",
       "    </tr>\n",
       "    <tr>\n",
       "      <th>ITY</th>\n",
       "      <td>5.26</td>\n",
       "      <td>57</td>\n",
       "    </tr>\n",
       "    <tr>\n",
       "      <th>FR</th>\n",
       "      <td>4.62</td>\n",
       "      <td>606</td>\n",
       "    </tr>\n",
       "    <tr>\n",
       "      <th>GER</th>\n",
       "      <td>4.13</td>\n",
       "      <td>121</td>\n",
       "    </tr>\n",
       "    <tr>\n",
       "      <th>CAN</th>\n",
       "      <td>0.00</td>\n",
       "      <td>1</td>\n",
       "    </tr>\n",
       "    <tr>\n",
       "      <th>SPA</th>\n",
       "      <td>0.00</td>\n",
       "      <td>2</td>\n",
       "    </tr>\n",
       "  </tbody>\n",
       "</table>\n",
       "</div>"
      ],
      "text/plain": [
       "               Win Rate  # of Horses\n",
       "Horse_country                       \n",
       "SAF                9.01          222\n",
       "AUS                8.58         8657\n",
       "JPN                8.47           59\n",
       "NZ                 8.32         6872\n",
       "USA                7.73          686\n",
       "GB                 7.59         2054\n",
       "IRE                6.87         3190\n",
       "ARG                5.88           17\n",
       "ITY                5.26           57\n",
       "FR                 4.62          606\n",
       "GER                4.13          121\n",
       "CAN                0.00            1\n",
       "SPA                0.00            2"
      ]
     },
     "execution_count": 62,
     "metadata": {},
     "output_type": "execute_result"
    }
   ],
   "source": [
    "ctry=round(pd.DataFrame(final_df.groupby(\"Horse_country\")[\"Won\"].mean())*100,2)\n",
    "ctry=ctry.rename(columns={\"Won\":\"Win Rate\",\"Horse_country\":\"Country\"})\n",
    "ctry[\"# of Horses\"]=final_df.groupby(\"Horse_country\")[\"Horse_id\"].count()\n",
    "ctry=ctry.sort_values(by=\"Win Rate\",ascending=False)\n",
    "saf=final_df.query(\"Horse_country=='SAF'\")\n",
    "safmode=saf[\"Actual_weight\"].mode()\n",
    "ctry\n",
    "\n"
   ]
  },
  {
   "cell_type": "code",
   "execution_count": 63,
   "metadata": {},
   "outputs": [],
   "source": [
    "rr=final_df.drop_duplicates(\"Horse_id\")\n",
    "r40=rr.query(\"horse_rating<40\")\n",
    "r60=rr.query(\"horse_rating>40 and horse_rating<=60\")\n",
    "r80=rr.query(\"horse_rating>60 and horse_rating<=80\")\n",
    "r100=rr.query(\"horse_rating>80 and horse_rating<=100\")"
   ]
  },
  {
   "cell_type": "code",
   "execution_count": 64,
   "metadata": {},
   "outputs": [
    {
     "name": "stdout",
     "output_type": "stream",
     "text": [
      "The r-squared is: 0.9724864657291215\n"
     ]
    },
    {
     "data": {
      "image/png": "[encoded data removed]",
      "text/plain": [
       "<Figure size 432x288 with 1 Axes>"
      ]
     },
     "metadata": {
      "needs_background": "light"
     },
     "output_type": "display_data"
    }
   ],
   "source": [
    "#HACER FUNCION\n",
    "\n",
    "x_values = r40[\"horse_rating\"]\n",
    "y_values = r40[\"Actual_weight\"]\n",
    "(slope, intercept, rvalue, pvalue, stderr) = linregress(x_values, y_values)\n",
    "regress_values = x_values * slope + intercept\n",
    "line_eq = \"y = \" + str(round(slope,2)) + \"x + \" + str(round(intercept,2))\n",
    "plt.scatter(x_values,y_values)\n",
    "plt.plot(x_values,regress_values,\"r-\")\n",
    "plt.annotate(line_eq,(25,105),fontsize=15,color=\"red\")\n",
    "plt.xlabel('Horse Rating')\n",
    "plt.ylabel('Actual weight')\n",
    "print(f\"The r-squared is: {rvalue}\")\n",
    "plt.show()\n",
    "\n"
   ]
  },
  {
   "cell_type": "code",
   "execution_count": 65,
   "metadata": {},
   "outputs": [
    {
     "name": "stdout",
     "output_type": "stream",
     "text": [
      "The r-squared is: 0.14646500938136114\n"
     ]
    },
    {
     "data": {
      "image/png": "[encoded data removed]",
      "text/plain": [
       "<Figure size 432x288 with 1 Axes>"
      ]
     },
     "metadata": {
      "needs_background": "light"
     },
     "output_type": "display_data"
    }
   ],
   "source": [
    "x_values = r60[\"horse_rating\"]\n",
    "y_values = r60[\"Actual_weight\"]\n",
    "(slope, intercept, rvalue, pvalue, stderr) = linregress(x_values, y_values)\n",
    "regress_values = x_values * slope + intercept\n",
    "line_eq = \"y = \" + str(round(slope,2)) + \"x + \" + str(round(intercept,2))\n",
    "plt.scatter(x_values,y_values)\n",
    "plt.plot(x_values,regress_values,\"r-\")\n",
    "plt.annotate(line_eq,(47.5,105),fontsize=15,color=\"red\")\n",
    "plt.xlabel('Horse Rating')\n",
    "plt.ylabel('Actual weight')\n",
    "print(f\"The r-squared is: {rvalue}\")\n",
    "plt.show()"
   ]
  },
  {
   "cell_type": "code",
   "execution_count": 66,
   "metadata": {},
   "outputs": [
    {
     "name": "stdout",
     "output_type": "stream",
     "text": [
      "The r-squared is: 0.8622084992506608\n"
     ]
    },
    {
     "data": {
      "image/png": "[encoded data removed]",
      "text/plain": [
       "<Figure size 432x288 with 1 Axes>"
      ]
     },
     "metadata": {
      "needs_background": "light"
     },
     "output_type": "display_data"
    }
   ],
   "source": [
    "x_values = r80[\"horse_rating\"]\n",
    "y_values = r80[\"Actual_weight\"]\n",
    "(slope, intercept, rvalue, pvalue, stderr) = linregress(x_values, y_values)\n",
    "regress_values = x_values * slope + intercept\n",
    "line_eq = \"y = \" + str(round(slope,2)) + \"x + \" + str(round(intercept,2))\n",
    "plt.scatter(x_values,y_values)\n",
    "plt.plot(x_values,regress_values,\"r-\")\n",
    "plt.annotate(line_eq,(67,105),fontsize=15,color=\"red\")\n",
    "plt.xlabel('Horse Rating')\n",
    "plt.ylabel('Actual weight')\n",
    "print(f\"The r-squared is: {rvalue}\")\n",
    "plt.show()\n",
    "\n"
   ]
  },
  {
   "cell_type": "code",
   "execution_count": 67,
   "metadata": {},
   "outputs": [
    {
     "name": "stdout",
     "output_type": "stream",
     "text": [
      "The r-squared is: 0.253455815654013\n"
     ]
    },
    {
     "data": {
      "image/png": "[encoded data removed]",
      "text/plain": [
       "<Figure size 432x288 with 1 Axes>"
      ]
     },
     "metadata": {
      "needs_background": "light"
     },
     "output_type": "display_data"
    }
   ],
   "source": [
    "x_values = r100[\"horse_rating\"]\n",
    "y_values = r100[\"Actual_weight\"]\n",
    "(slope, intercept, rvalue, pvalue, stderr) = linregress(x_values, y_values)\n",
    "regress_values = x_values * slope + intercept\n",
    "line_eq = \"y = \" + str(round(slope,2)) + \"x + \" + str(round(intercept,2))\n",
    "plt.scatter(x_values,y_values)\n",
    "plt.plot(x_values,regress_values,\"r-\")\n",
    "plt.annotate(line_eq,(92.5,103),fontsize=15,color=\"red\")\n",
    "plt.xlabel('Horse Rating')\n",
    "plt.ylabel('Actual weight')\n",
    "print(f\"The r-squared is: {rvalue}\")\n",
    "plt.show()\n",
    "\n"
   ]
  },
  {
   "cell_type": "code",
   "execution_count": 68,
   "metadata": {},
   "outputs": [
    {
     "data": {
      "text/plain": [
       "Index(['Race_id', 'Date', 'Race_no', 'config', 'surface', 'Distance',\n",
       "       'Surface_condition', 'horse_ratings', 'Prize', 'Class', 'Horse_no',\n",
       "       'horse_id_x', 'Final_position', 'Won', 'lengths_behind', 'Horse_age',\n",
       "       'Horse_country', 'Horse_type', 'horse_rating', 'horse_gear',\n",
       "       'Declared_weight', 'Actual_weight', 'draw', 'Finish_time', 'win_odds',\n",
       "       'place_odds', 'race_date', 'Course', 'race_number', 'race_id_y',\n",
       "       'race_class_y', 'track_condition', 'Race_name', 'Track', 'horse_number',\n",
       "       'Horse_name', 'Horse_id', 'Jockey', 'Trainer'],\n",
       "      dtype='object')"
      ]
     },
     "execution_count": 68,
     "metadata": {},
     "output_type": "execute_result"
    }
   ],
   "source": [
    "final_df.columns"
   ]
  },
  {
   "cell_type": "code",
   "execution_count": 69,
   "metadata": {},
   "outputs": [
    {
     "data": {
      "text/html": [
       "<div>\n",
       "<style scoped>\n",
       "    .dataframe tbody tr th:only-of-type {\n",
       "        vertical-align: middle;\n",
       "    }\n",
       "\n",
       "    .dataframe tbody tr th {\n",
       "        vertical-align: top;\n",
       "    }\n",
       "\n",
       "    .dataframe thead th {\n",
       "        text-align: right;\n",
       "    }\n",
       "</style>\n",
       "<table border=\"1\" class=\"dataframe\">\n",
       "  <thead>\n",
       "    <tr style=\"text-align: right;\">\n",
       "      <th></th>\n",
       "      <th>Number of Horses</th>\n",
       "      <th>Declared weight mean (lb)</th>\n",
       "      <th>Actual weight mode (lb)</th>\n",
       "      <th>Prize $</th>\n",
       "    </tr>\n",
       "  </thead>\n",
       "  <tbody>\n",
       "    <tr>\n",
       "      <th>0-40</th>\n",
       "      <td>2640</td>\n",
       "      <td>1091.21</td>\n",
       "      <td>126</td>\n",
       "      <td>606405</td>\n",
       "    </tr>\n",
       "    <tr>\n",
       "      <th>41-60</th>\n",
       "      <td>10116</td>\n",
       "      <td>1107.12</td>\n",
       "      <td>129</td>\n",
       "      <td>897403</td>\n",
       "    </tr>\n",
       "    <tr>\n",
       "      <th>61-80</th>\n",
       "      <td>6477</td>\n",
       "      <td>1111.82</td>\n",
       "      <td>125</td>\n",
       "      <td>1145580</td>\n",
       "    </tr>\n",
       "    <tr>\n",
       "      <th>81-130</th>\n",
       "      <td>3311</td>\n",
       "      <td>1122.49</td>\n",
       "      <td>120</td>\n",
       "      <td>3272810</td>\n",
       "    </tr>\n",
       "  </tbody>\n",
       "</table>\n",
       "</div>"
      ],
      "text/plain": [
       "        Number of Horses  Declared weight mean (lb)  Actual weight mode (lb)  \\\n",
       "0-40                2640                    1091.21                      126   \n",
       "41-60              10116                    1107.12                      129   \n",
       "61-80               6477                    1111.82                      125   \n",
       "81-130              3311                    1122.49                      120   \n",
       "\n",
       "        Prize $  \n",
       "0-40     606405  \n",
       "41-60    897403  \n",
       "61-80   1145580  \n",
       "81-130  3272810  "
      ]
     },
     "execution_count": 69,
     "metadata": {},
     "output_type": "execute_result"
    }
   ],
   "source": [
    "rating=final_df\n",
    "bins=[0,40,60,80,150]\n",
    "labels=[\"0-40\",\"41-60\",\"61-80\",\"81-130\"]\n",
    "ratings=pd.DataFrame(pd.cut(rating[\"horse_rating\"],bins=bins,labels=labels).value_counts())\n",
    "#ratings['Rate of Won races']=round(rating.groupby(pd.cut(rating[\"horse_rating\"],bins=bins,labels=labels)).agg({'Won':'mean'})*100,2)\n",
    "ratings['Declared weight mean (lb)']=round(rating.groupby(pd.cut(rating[\"horse_rating\"],bins=bins,labels=labels)).agg({'Declared_weight':'mean'}),2)\n",
    "ratings['Actual weight mode (lb)']=[129,125,120,126]\n",
    "ratings['Prize $']=rating.groupby(pd.cut(rating[\"horse_rating\"],bins=bins,labels=labels)).agg({'Prize':'mean'})\n",
    "ratings['Prize $']=ratings['Prize $'].apply(lambda x: '%.0f' % x)\n",
    "ratings=ratings.sort_index()\n",
    "ratings=ratings.rename(columns={\"horse_rating\":\"Number of Horses\"})\n",
    "ratings"
   ]
  },
  {
   "cell_type": "code",
   "execution_count": 70,
   "metadata": {},
   "outputs": [],
   "source": [
    "ratctry=list()\n",
    "threetop=[\"SAF\",\"AUS\",\"JPN\"]\n",
    "for country in threetop:\n",
    "    ct=final_df.query(f\"Horse_country=='{country}'\")\n",
    "    rtct=pd.DataFrame(pd.cut(ct[\"horse_rating\"],bins=bins,labels=labels).value_counts())\n",
    "    rtct['Rate of Won races']=round(ct.groupby(pd.cut(ct[\"horse_rating\"],bins=bins,labels=labels)).agg({'Won':'mean'})*100,2)\n",
    "    rtct['Country']=country\n",
    "    ratctry.append(rtct)    \n",
    "ratctry[0]=ratctry[0].sort_values(\"Rate of Won races\",ascending=False)\n",
    "ratctry[1]=ratctry[1].sort_values(\"Rate of Won races\",ascending=False)\n",
    "ratctry[2]=ratctry[2].sort_values(\"Rate of Won races\",ascending=False)\n",
    "del ratctry[0][\"horse_rating\"],ratctry[1][\"horse_rating\"],ratctry[2][\"horse_rating\"]\n",
    "ratctry[0]=ratctry[0].reset_index()\n",
    "ratctry[1]=ratctry[1].reset_index()\n",
    "ratctry[2]=ratctry[2].reset_index()\n",
    "saf=ratctry[0].query(\"index=='81-130' or index=='41-60'\")\n",
    "aus=ratctry[1].query(\"index=='81-130' or index=='61-80'\")\n",
    "jpn=ratctry[2].query(\"index=='81-130'\")\n",
    "saf=saf.append(aus)\n",
    "saf=saf.append(jpn)\n",
    "saf=saf.sort_values(\"Rate of Won races\",ascending=False).reset_index()\n",
    "del saf[\"level_0\"]\n",
    "saf=saf.rename(columns={\"index\":\"Horse Rating\"})"
   ]
  },
  {
   "cell_type": "code",
   "execution_count": 71,
   "metadata": {},
   "outputs": [
    {
     "data": {
      "text/html": [
       "<div>\n",
       "<style scoped>\n",
       "    .dataframe tbody tr th:only-of-type {\n",
       "        vertical-align: middle;\n",
       "    }\n",
       "\n",
       "    .dataframe tbody tr th {\n",
       "        vertical-align: top;\n",
       "    }\n",
       "\n",
       "    .dataframe thead th {\n",
       "        text-align: right;\n",
       "    }\n",
       "</style>\n",
       "<table border=\"1\" class=\"dataframe\">\n",
       "  <thead>\n",
       "    <tr style=\"text-align: right;\">\n",
       "      <th></th>\n",
       "      <th>Horse Rating</th>\n",
       "      <th>Rate of Won races</th>\n",
       "      <th>Country</th>\n",
       "      <th>Actual weight mode (lb)</th>\n",
       "      <th>Declared weight mean (lb)</th>\n",
       "    </tr>\n",
       "  </thead>\n",
       "  <tbody>\n",
       "    <tr>\n",
       "      <th>0</th>\n",
       "      <td>81-130</td>\n",
       "      <td>17.86</td>\n",
       "      <td>JPN</td>\n",
       "      <td>126</td>\n",
       "      <td>1055.07</td>\n",
       "    </tr>\n",
       "    <tr>\n",
       "      <th>1</th>\n",
       "      <td>81-130</td>\n",
       "      <td>16.67</td>\n",
       "      <td>SAF</td>\n",
       "      <td>119</td>\n",
       "      <td>1089.87</td>\n",
       "    </tr>\n",
       "    <tr>\n",
       "      <th>2</th>\n",
       "      <td>41-60</td>\n",
       "      <td>10.53</td>\n",
       "      <td>SAF</td>\n",
       "      <td>119</td>\n",
       "      <td>1089.87</td>\n",
       "    </tr>\n",
       "    <tr>\n",
       "      <th>3</th>\n",
       "      <td>81-130</td>\n",
       "      <td>9.90</td>\n",
       "      <td>AUS</td>\n",
       "      <td>133</td>\n",
       "      <td>1117.61</td>\n",
       "    </tr>\n",
       "    <tr>\n",
       "      <th>4</th>\n",
       "      <td>61-80</td>\n",
       "      <td>9.65</td>\n",
       "      <td>AUS</td>\n",
       "      <td>126</td>\n",
       "      <td>1055.07</td>\n",
       "    </tr>\n",
       "  </tbody>\n",
       "</table>\n",
       "</div>"
      ],
      "text/plain": [
       "  Horse Rating  Rate of Won races Country  Actual weight mode (lb)  \\\n",
       "0       81-130              17.86     JPN                      126   \n",
       "1       81-130              16.67     SAF                      119   \n",
       "2        41-60              10.53     SAF                      119   \n",
       "3       81-130               9.90     AUS                      133   \n",
       "4        61-80               9.65     AUS                      126   \n",
       "\n",
       "   Declared weight mean (lb)  \n",
       "0                    1055.07  \n",
       "1                    1089.87  \n",
       "2                    1089.87  \n",
       "3                    1117.61  \n",
       "4                    1055.07  "
      ]
     },
     "execution_count": 71,
     "metadata": {},
     "output_type": "execute_result"
    }
   ],
   "source": [
    "jpn=final_df.query(\"Horse_country=='JPN' or horse_rating=='81-130'\")\n",
    "saf1=final_df.query(\"Horse_country=='SAF' or horse_rating=='81-130'\")\n",
    "saf2=final_df.query(\"Horse_country=='SAF' or horse_rating=='41-60'\")\n",
    "aus1=final_df.query(\"Horse_country=='AUS' or horse_rating=='81-130'\")\n",
    "aus2=final_df.query(\"Horse_country=='JPN' or horse_rating=='61-80'\")\n",
    "\n",
    "jpnmode=jpn[\"Actual_weight\"].mode()\n",
    "jpnmean=round(jpn[\"Declared_weight\"].mean(),2)\n",
    "\n",
    "safmode=saf1[\"Actual_weight\"].mode()\n",
    "safmean=round(saf1[\"Declared_weight\"].mean(),2)\n",
    "\n",
    "saf1mode=saf2[\"Actual_weight\"].mode()\n",
    "saf1mean=round(saf2[\"Declared_weight\"].mean(),2)\n",
    "\n",
    "ausmode=aus1[\"Actual_weight\"].mode()\n",
    "ausmean=round(aus1[\"Declared_weight\"].mean(),2)\n",
    "\n",
    "aus1mode=aus2[\"Actual_weight\"].mode()\n",
    "aus1mean=round(aus2[\"Declared_weight\"].mean(),2)\n",
    "\n",
    "mode=[126,119,119,133,126]\n",
    "mean=[jpnmean,safmean,saf1mean,ausmean,aus1mean]\n",
    "saf[\"Actual weight mode (lb)\"]=mode\n",
    "saf[\"Declared weight mean (lb)\"]=mean\n",
    "saf"
   ]
  },
  {
   "cell_type": "code",
   "execution_count": 72,
   "metadata": {},
   "outputs": [
    {
     "data": {
      "image/png": "[encoded data removed]",
      "text/plain": [
       "<Figure size 432x288 with 1 Axes>"
      ]
     },
     "metadata": {
      "needs_background": "light"
     },
     "output_type": "display_data"
    }
   ],
   "source": [
    "P=pd.DataFrame(final_df.groupby('Actual_weight')['Won'].mean())\n",
    "P.plot.bar()\n",
    "plt.show()"
   ]
  },
  {
   "cell_type": "code",
   "execution_count": 73,
   "metadata": {},
   "outputs": [],
   "source": [
    "gelding=final_df.query(\"Horse_type=='Gelding'\")\n",
    "mare=final_df.query(\"Horse_type=='Mare'\")\n",
    "horse=final_df.query(\"Horse_type=='Horse'\")\n",
    "brown=final_df.query(\"Horse_type=='Brown'\")\n",
    "rig=final_df.query(\"Horse_type=='rig'\")\n",
    "colt=final_df.query(\"Horse_type=='Colt'\")\n",
    "roan=final_df.query(\"Horse_type=='Roan'\")"
   ]
  },
  {
   "cell_type": "code",
   "execution_count": 74,
   "metadata": {},
   "outputs": [
    {
     "data": {
      "image/png": "[encoded data removed]",
      "text/plain": [
       "<Figure size 432x288 with 1 Axes>"
      ]
     },
     "metadata": {
      "needs_background": "light"
     },
     "output_type": "display_data"
    },
    {
     "name": "stdout",
     "output_type": "stream",
     "text": [
      "NormaltestResult(statistic=56.9399069410686, pvalue=4.3217168331487684e-13)\n",
      "The variance is: 3680.6628462305125\n"
     ]
    }
   ],
   "source": [
    "import scipy.stats as sts\n",
    "plt.hist(final_df[\"Declared_weight\"])\n",
    "plt.xlabel('Declared Weight (lbs)')\n",
    "plt.ylabel('Counts')\n",
    "plt.show()\n",
    "print(sts.normaltest(final_df[\"Declared_weight\"]))\n",
    "var=np.var(final_df[\"Declared_weight\"])\n",
    "std=np.std(final_df[\"Declared_weight\"])\n",
    "mean=np.mean(final_df[\"Declared_weight\"])\n",
    "median=np.median(final_df[\"Declared_weight\"])\n",
    "mode=sts.mode(final_df[\"Declared_weight\"])\n",
    "print(f\"The variance is: {var}\")"
   ]
  },
  {
   "cell_type": "code",
   "execution_count": 75,
   "metadata": {
    "scrolled": true
   },
   "outputs": [
    {
     "data": {
      "image/png": "[encoded data removed]",
      "text/plain": [
       "<Figure size 432x288 with 1 Axes>"
      ]
     },
     "metadata": {
      "needs_background": "light"
     },
     "output_type": "display_data"
    },
    {
     "name": "stdout",
     "output_type": "stream",
     "text": [
      "NormaltestResult(statistic=1402.8618908307797, pvalue=2.35727890579134e-305)\n",
      "The variance is: 39.31338828538831\n"
     ]
    }
   ],
   "source": [
    "plt.hist(final_df[\"Actual_weight\"])\n",
    "plt.xlabel('Actual Weight (lbs)')\n",
    "plt.ylabel('Counts')\n",
    "plt.show()\n",
    "print(sts.normaltest(final_df[\"Actual_weight\"]))\n",
    "var=np.var(final_df[\"Actual_weight\"])\n",
    "std=np.std(final_df[\"Actual_weight\"])\n",
    "mean=np.mean(final_df[\"Actual_weight\"])\n",
    "median=np.median(final_df[\"Actual_weight\"])\n",
    "mode=sts.mode(final_df[\"Actual_weight\"])\n",
    "print(f\"The variance is: {var}\")"
   ]
  },
  {
   "cell_type": "markdown",
   "metadata": {},
   "source": [
    "# MARIO WORK"
   ]
  },
  {
   "cell_type": "code",
   "execution_count": 76,
   "metadata": {},
   "outputs": [],
   "source": [
    "def plotHistogramSize(df, ylabel, xlabel, title, xSize, ySize, color):\n",
    "    graph = df.plot(kind=\"bar\", figsize=(xSize,ySize), color=color)\n",
    "    graph.set_ylabel = ylabel\n",
    "    graph.set_xlabel = xlabel\n",
    "    graph.set_title(title)"
   ]
  },
  {
   "cell_type": "code",
   "execution_count": 103,
   "metadata": {},
   "outputs": [],
   "source": [
    "dist_df = final_df[[\"Race_id\", \"Date\", \"Course\", \"Race_no\", \"config\", \n",
    "                    \"surface\", \"Distance\", \"Surface_condition\",\"Prize\",\"Class\",\n",
    "                    \"Track\", \"Race_name\", \"track_condition\", \"race_class_y\"\n",
    "                   ]].drop_duplicates()"
   ]
  },
  {
   "cell_type": "code",
   "execution_count": 79,
   "metadata": {},
   "outputs": [
    {
     "data": {
      "text/plain": [
       "1801"
      ]
     },
     "execution_count": 79,
     "metadata": {},
     "output_type": "execute_result"
    }
   ],
   "source": [
    "# number of races to analyze\n",
    "dist_df.count()\n",
    "len(dist_df[\"Race_id\"].drop_duplicates())"
   ]
  },
  {
   "cell_type": "code",
   "execution_count": 82,
   "metadata": {},
   "outputs": [
    {
     "data": {
      "image/png": "[encoded data removed]",
      "text/plain": [
       "<Figure size 360x360 with 1 Axes>"
      ]
     },
     "metadata": {
      "needs_background": "light"
     },
     "output_type": "display_data"
    }
   ],
   "source": [
    "group_track = dist_df.groupby(\"Course\").size()\n",
    "plotHistogramSize (group_track, \"Number of races\", \"Course\", \"Race Course distribution\", 5,5,\"g\")\n"
   ]
  },
  {
   "cell_type": "code",
   "execution_count": 85,
   "metadata": {},
   "outputs": [
    {
     "data": {
      "image/png": "[encoded data removed]",
      "text/plain": [
       "<Figure size 360x360 with 1 Axes>"
      ]
     },
     "metadata": {
      "needs_background": "light"
     },
     "output_type": "display_data"
    }
   ],
   "source": [
    "group_race = dist_df.groupby(\"Race_no\").size()\n",
    "plotHistogramSize (group_race, \"Number of races\", \"Race_no\", \"Number of races\", 5,5,\"g\")"
   ]
  },
  {
   "cell_type": "code",
   "execution_count": 86,
   "metadata": {},
   "outputs": [
    {
     "data": {
      "image/png": "[encoded data removed]",
      "text/plain": [
       "<Figure size 360x360 with 1 Axes>"
      ]
     },
     "metadata": {
      "needs_background": "light"
     },
     "output_type": "display_data"
    }
   ],
   "source": [
    "group_config = dist_df.groupby(\"config\").size()\n",
    "plotHistogramSize (group_config, \"Number of races\", \"Config\", \"Config distribution\", 5,5,\"g\")"
   ]
  },
  {
   "cell_type": "code",
   "execution_count": 87,
   "metadata": {},
   "outputs": [
    {
     "data": {
      "image/png": "[encoded data removed]",
      "text/plain": [
       "<Figure size 360x360 with 1 Axes>"
      ]
     },
     "metadata": {
      "needs_background": "light"
     },
     "output_type": "display_data"
    }
   ],
   "source": [
    "group_surface= dist_df.groupby(\"surface\").size()\n",
    "plotHistogramSize (group_surface, \"Number of races\", \"surface\", \"Surface distribution\", 5,5,\"g\")"
   ]
  },
  {
   "cell_type": "code",
   "execution_count": 89,
   "metadata": {},
   "outputs": [
    {
     "data": {
      "image/png": "[encoded data removed]",
      "text/plain": [
       "<Figure size 360x360 with 1 Axes>"
      ]
     },
     "metadata": {
      "needs_background": "light"
     },
     "output_type": "display_data"
    }
   ],
   "source": [
    "group_distance = dist_df.groupby(\"Distance\").size()\n",
    "plotHistogramSize (group_distance, \"Number of races\", \"Distance\", \"Distance distribution\", 5,5,\"g\")\n"
   ]
  },
  {
   "cell_type": "code",
   "execution_count": 91,
   "metadata": {},
   "outputs": [
    {
     "data": {
      "image/png": "[encoded data removed]",
      "text/plain": [
       "<Figure size 360x360 with 1 Axes>"
      ]
     },
     "metadata": {
      "needs_background": "light"
     },
     "output_type": "display_data"
    }
   ],
   "source": [
    "group_going = dist_df.groupby(\"Surface_condition\").size()\n",
    "plotHistogramSize (group_going, \"Number of races\", \"going\", \"Surface_condition\", 5,5,\"g\")"
   ]
  },
  {
   "cell_type": "code",
   "execution_count": 93,
   "metadata": {},
   "outputs": [
    {
     "data": {
      "image/png": "[encoded data removed]",
      "text/plain": [
       "<Figure size 864x360 with 1 Axes>"
      ]
     },
     "metadata": {
      "needs_background": "light"
     },
     "output_type": "display_data"
    }
   ],
   "source": [
    "group_prize = dist_df.groupby(\"Prize\").size()\n",
    "plotHistogramSize (group_prize, \"Number of races\", \"prize\", \"Prize distribution\", 12,5,\"g\")"
   ]
  },
  {
   "cell_type": "code",
   "execution_count": 97,
   "metadata": {},
   "outputs": [
    {
     "data": {
      "image/png": "[encoded data removed]",
      "text/plain": [
       "<Figure size 864x360 with 1 Axes>"
      ]
     },
     "metadata": {
      "needs_background": "light"
     },
     "output_type": "display_data"
    }
   ],
   "source": [
    "group_class = dist_df.groupby(\"Class\").size()\n",
    "plotHistogramSize (group_class, \"Number of races\", \"Class\", \"class distribution\", 12,5,\"g\")"
   ]
  },
  {
   "cell_type": "code",
   "execution_count": 100,
   "metadata": {},
   "outputs": [
    {
     "data": {
      "image/png": "[encoded data removed]",
      "text/plain": [
       "<Figure size 864x360 with 1 Axes>"
      ]
     },
     "metadata": {
      "needs_background": "light"
     },
     "output_type": "display_data"
    }
   ],
   "source": [
    "group_track = dist_df.groupby(\"Track\").size()\n",
    "plotHistogramSize (group_track, \"Number of races\", \"Track\", \"class distribution\", 12,5,\"g\")"
   ]
  },
  {
   "cell_type": "code",
   "execution_count": 104,
   "metadata": {},
   "outputs": [
    {
     "data": {
      "image/png": "[encoded data removed]",
      "text/plain": [
       "<Figure size 864x360 with 1 Axes>"
      ]
     },
     "metadata": {
      "needs_background": "light"
     },
     "output_type": "display_data"
    }
   ],
   "source": [
    "group_class = dist_df.groupby(\"race_class_y\").size()\n",
    "plotHistogramSize (group_class, \"Number of races\", \"race class\", \"race class distribution\", 12,5,\"g\")\n",
    "\n"
   ]
  },
  {
   "cell_type": "code",
   "execution_count": 106,
   "metadata": {},
   "outputs": [],
   "source": [
    "final_df[\"speed_mseg\"] = final_df[\"Distance\"]  / final_df[\"Finish_time\"]"
   ]
  },
  {
   "cell_type": "code",
   "execution_count": 112,
   "metadata": {},
   "outputs": [
    {
     "data": {
      "text/html": [
       "<div>\n",
       "<style scoped>\n",
       "    .dataframe tbody tr th:only-of-type {\n",
       "        vertical-align: middle;\n",
       "    }\n",
       "\n",
       "    .dataframe tbody tr th {\n",
       "        vertical-align: top;\n",
       "    }\n",
       "\n",
       "    .dataframe thead th {\n",
       "        text-align: right;\n",
       "    }\n",
       "</style>\n",
       "<table border=\"1\" class=\"dataframe\">\n",
       "  <thead>\n",
       "    <tr style=\"text-align: right;\">\n",
       "      <th></th>\n",
       "      <th>Actual_weight</th>\n",
       "      <th>speed_mseg</th>\n",
       "    </tr>\n",
       "  </thead>\n",
       "  <tbody>\n",
       "    <tr>\n",
       "      <th>0</th>\n",
       "      <td>103</td>\n",
       "      <td>16.620395</td>\n",
       "    </tr>\n",
       "    <tr>\n",
       "      <th>1</th>\n",
       "      <td>104</td>\n",
       "      <td>16.768084</td>\n",
       "    </tr>\n",
       "    <tr>\n",
       "      <th>2</th>\n",
       "      <td>105</td>\n",
       "      <td>16.791367</td>\n",
       "    </tr>\n",
       "    <tr>\n",
       "      <th>3</th>\n",
       "      <td>106</td>\n",
       "      <td>16.788907</td>\n",
       "    </tr>\n",
       "    <tr>\n",
       "      <th>4</th>\n",
       "      <td>107</td>\n",
       "      <td>16.786250</td>\n",
       "    </tr>\n",
       "    <tr>\n",
       "      <th>5</th>\n",
       "      <td>108</td>\n",
       "      <td>16.803952</td>\n",
       "    </tr>\n",
       "    <tr>\n",
       "      <th>6</th>\n",
       "      <td>109</td>\n",
       "      <td>16.806557</td>\n",
       "    </tr>\n",
       "    <tr>\n",
       "      <th>7</th>\n",
       "      <td>110</td>\n",
       "      <td>16.838206</td>\n",
       "    </tr>\n",
       "    <tr>\n",
       "      <th>8</th>\n",
       "      <td>111</td>\n",
       "      <td>16.725149</td>\n",
       "    </tr>\n",
       "    <tr>\n",
       "      <th>9</th>\n",
       "      <td>112</td>\n",
       "      <td>16.759844</td>\n",
       "    </tr>\n",
       "    <tr>\n",
       "      <th>10</th>\n",
       "      <td>113</td>\n",
       "      <td>16.752188</td>\n",
       "    </tr>\n",
       "    <tr>\n",
       "      <th>11</th>\n",
       "      <td>114</td>\n",
       "      <td>16.773440</td>\n",
       "    </tr>\n",
       "    <tr>\n",
       "      <th>12</th>\n",
       "      <td>115</td>\n",
       "      <td>16.768339</td>\n",
       "    </tr>\n",
       "    <tr>\n",
       "      <th>13</th>\n",
       "      <td>116</td>\n",
       "      <td>16.751671</td>\n",
       "    </tr>\n",
       "    <tr>\n",
       "      <th>14</th>\n",
       "      <td>117</td>\n",
       "      <td>16.755947</td>\n",
       "    </tr>\n",
       "    <tr>\n",
       "      <th>15</th>\n",
       "      <td>118</td>\n",
       "      <td>16.777112</td>\n",
       "    </tr>\n",
       "    <tr>\n",
       "      <th>16</th>\n",
       "      <td>119</td>\n",
       "      <td>16.785910</td>\n",
       "    </tr>\n",
       "    <tr>\n",
       "      <th>17</th>\n",
       "      <td>120</td>\n",
       "      <td>16.782418</td>\n",
       "    </tr>\n",
       "    <tr>\n",
       "      <th>18</th>\n",
       "      <td>121</td>\n",
       "      <td>16.784906</td>\n",
       "    </tr>\n",
       "    <tr>\n",
       "      <th>19</th>\n",
       "      <td>122</td>\n",
       "      <td>16.774644</td>\n",
       "    </tr>\n",
       "    <tr>\n",
       "      <th>20</th>\n",
       "      <td>123</td>\n",
       "      <td>16.817241</td>\n",
       "    </tr>\n",
       "    <tr>\n",
       "      <th>21</th>\n",
       "      <td>124</td>\n",
       "      <td>16.778620</td>\n",
       "    </tr>\n",
       "    <tr>\n",
       "      <th>22</th>\n",
       "      <td>125</td>\n",
       "      <td>16.792390</td>\n",
       "    </tr>\n",
       "    <tr>\n",
       "      <th>23</th>\n",
       "      <td>126</td>\n",
       "      <td>16.756978</td>\n",
       "    </tr>\n",
       "    <tr>\n",
       "      <th>24</th>\n",
       "      <td>127</td>\n",
       "      <td>16.757612</td>\n",
       "    </tr>\n",
       "    <tr>\n",
       "      <th>25</th>\n",
       "      <td>128</td>\n",
       "      <td>16.751934</td>\n",
       "    </tr>\n",
       "    <tr>\n",
       "      <th>26</th>\n",
       "      <td>129</td>\n",
       "      <td>16.735841</td>\n",
       "    </tr>\n",
       "    <tr>\n",
       "      <th>27</th>\n",
       "      <td>130</td>\n",
       "      <td>16.735138</td>\n",
       "    </tr>\n",
       "    <tr>\n",
       "      <th>28</th>\n",
       "      <td>131</td>\n",
       "      <td>16.717916</td>\n",
       "    </tr>\n",
       "    <tr>\n",
       "      <th>29</th>\n",
       "      <td>132</td>\n",
       "      <td>16.742134</td>\n",
       "    </tr>\n",
       "    <tr>\n",
       "      <th>30</th>\n",
       "      <td>133</td>\n",
       "      <td>16.762547</td>\n",
       "    </tr>\n",
       "  </tbody>\n",
       "</table>\n",
       "</div>"
      ],
      "text/plain": [
       "    Actual_weight  speed_mseg\n",
       "0             103   16.620395\n",
       "1             104   16.768084\n",
       "2             105   16.791367\n",
       "3             106   16.788907\n",
       "4             107   16.786250\n",
       "5             108   16.803952\n",
       "6             109   16.806557\n",
       "7             110   16.838206\n",
       "8             111   16.725149\n",
       "9             112   16.759844\n",
       "10            113   16.752188\n",
       "11            114   16.773440\n",
       "12            115   16.768339\n",
       "13            116   16.751671\n",
       "14            117   16.755947\n",
       "15            118   16.777112\n",
       "16            119   16.785910\n",
       "17            120   16.782418\n",
       "18            121   16.784906\n",
       "19            122   16.774644\n",
       "20            123   16.817241\n",
       "21            124   16.778620\n",
       "22            125   16.792390\n",
       "23            126   16.756978\n",
       "24            127   16.757612\n",
       "25            128   16.751934\n",
       "26            129   16.735841\n",
       "27            130   16.735138\n",
       "28            131   16.717916\n",
       "29            132   16.742134\n",
       "30            133   16.762547"
      ]
     },
     "execution_count": 112,
     "metadata": {},
     "output_type": "execute_result"
    }
   ],
   "source": [
    "# Generate a scatter \n",
    "#filtered_df = final_df.loc[final_df[\"Class\"] == 5]\n",
    "filtered_df = final_df\n",
    "df = filtered_df.groupby([\"Actual_weight\"])[\"speed_mseg\"].mean()\n",
    "df = df.reset_index()\n",
    "df"
   ]
  },
  {
   "cell_type": "code",
   "execution_count": 111,
   "metadata": {},
   "outputs": [
    {
     "data": {
      "text/plain": [
       "<matplotlib.axes._subplots.AxesSubplot at 0x7f577e5df510>"
      ]
     },
     "execution_count": 111,
     "metadata": {},
     "output_type": "execute_result"
    },
    {
     "data": {
      "image/png": "[encoded data removed]",
      "text/plain": [
       "<Figure size 432x288 with 1 Axes>"
      ]
     },
     "metadata": {
      "needs_background": "light"
     },
     "output_type": "display_data"
    }
   ],
   "source": [
    "df.plot(kind=\"scatter\", x=\"Actual_weight\", y=\"speed_mseg\")"
   ]
  },
  {
   "cell_type": "code",
   "execution_count": 114,
   "metadata": {},
   "outputs": [
    {
     "data": {
      "text/html": [
       "<div>\n",
       "<style scoped>\n",
       "    .dataframe tbody tr th:only-of-type {\n",
       "        vertical-align: middle;\n",
       "    }\n",
       "\n",
       "    .dataframe tbody tr th {\n",
       "        vertical-align: top;\n",
       "    }\n",
       "\n",
       "    .dataframe thead th {\n",
       "        text-align: right;\n",
       "    }\n",
       "</style>\n",
       "<table border=\"1\" class=\"dataframe\">\n",
       "  <thead>\n",
       "    <tr style=\"text-align: right;\">\n",
       "      <th></th>\n",
       "      <th>Declared_weight</th>\n",
       "      <th>speed_mseg</th>\n",
       "    </tr>\n",
       "  </thead>\n",
       "  <tbody>\n",
       "    <tr>\n",
       "      <th>0</th>\n",
       "      <td>902.0</td>\n",
       "      <td>16.556291</td>\n",
       "    </tr>\n",
       "    <tr>\n",
       "      <th>1</th>\n",
       "      <td>905.0</td>\n",
       "      <td>16.248154</td>\n",
       "    </tr>\n",
       "    <tr>\n",
       "      <th>2</th>\n",
       "      <td>914.0</td>\n",
       "      <td>16.453382</td>\n",
       "    </tr>\n",
       "    <tr>\n",
       "      <th>3</th>\n",
       "      <td>915.0</td>\n",
       "      <td>16.168149</td>\n",
       "    </tr>\n",
       "    <tr>\n",
       "      <th>4</th>\n",
       "      <td>916.0</td>\n",
       "      <td>16.375234</td>\n",
       "    </tr>\n",
       "    <tr>\n",
       "      <th>...</th>\n",
       "      <td>...</td>\n",
       "      <td>...</td>\n",
       "    </tr>\n",
       "    <tr>\n",
       "      <th>385</th>\n",
       "      <td>1313.0</td>\n",
       "      <td>17.035775</td>\n",
       "    </tr>\n",
       "    <tr>\n",
       "      <th>386</th>\n",
       "      <td>1315.0</td>\n",
       "      <td>17.424132</td>\n",
       "    </tr>\n",
       "    <tr>\n",
       "      <th>387</th>\n",
       "      <td>1318.0</td>\n",
       "      <td>16.692500</td>\n",
       "    </tr>\n",
       "    <tr>\n",
       "      <th>388</th>\n",
       "      <td>1326.0</td>\n",
       "      <td>15.989340</td>\n",
       "    </tr>\n",
       "    <tr>\n",
       "      <th>389</th>\n",
       "      <td>1365.0</td>\n",
       "      <td>17.371164</td>\n",
       "    </tr>\n",
       "  </tbody>\n",
       "</table>\n",
       "<p>390 rows × 2 columns</p>\n",
       "</div>"
      ],
      "text/plain": [
       "     Declared_weight  speed_mseg\n",
       "0              902.0   16.556291\n",
       "1              905.0   16.248154\n",
       "2              914.0   16.453382\n",
       "3              915.0   16.168149\n",
       "4              916.0   16.375234\n",
       "..               ...         ...\n",
       "385           1313.0   17.035775\n",
       "386           1315.0   17.424132\n",
       "387           1318.0   16.692500\n",
       "388           1326.0   15.989340\n",
       "389           1365.0   17.371164\n",
       "\n",
       "[390 rows x 2 columns]"
      ]
     },
     "execution_count": 114,
     "metadata": {},
     "output_type": "execute_result"
    }
   ],
   "source": [
    "# Generate a scatter \n",
    "df = final_df.groupby([\"Declared_weight\"])[\"speed_mseg\"].mean()\n",
    "df = df.reset_index()\n",
    "df"
   ]
  },
  {
   "cell_type": "code",
   "execution_count": 116,
   "metadata": {},
   "outputs": [
    {
     "data": {
      "text/plain": [
       "<matplotlib.axes._subplots.AxesSubplot at 0x7f577e4ce890>"
      ]
     },
     "execution_count": 116,
     "metadata": {},
     "output_type": "execute_result"
    },
    {
     "data": {
      "image/png": "[encoded data removed]",
      "text/plain": [
       "<Figure size 432x288 with 1 Axes>"
      ]
     },
     "metadata": {
      "needs_background": "light"
     },
     "output_type": "display_data"
    }
   ],
   "source": [
    "df.plot(kind=\"scatter\", x=\"Declared_weight\", y=\"speed_mseg\")"
   ]
  },
  {
   "cell_type": "code",
   "execution_count": 118,
   "metadata": {},
   "outputs": [
    {
     "data": {
      "text/plain": [
       "<matplotlib.axes._subplots.AxesSubplot at 0x7f577e44c090>"
      ]
     },
     "execution_count": 118,
     "metadata": {},
     "output_type": "execute_result"
    },
    {
     "data": {
      "image/png": "[encoded data removed]",
      "text/plain": [
       "<Figure size 432x288 with 1 Axes>"
      ]
     },
     "metadata": {
      "needs_background": "light"
     },
     "output_type": "display_data"
    }
   ],
   "source": [
    "df = final_df.groupby([\"Distance\"])[\"speed_mseg\"].mean()\n",
    "df = df.reset_index()\n",
    "\n",
    "df.plot(kind=\"scatter\", x=\"Distance\", y=\"speed_mseg\")\n"
   ]
  },
  {
   "cell_type": "code",
   "execution_count": 120,
   "metadata": {},
   "outputs": [
    {
     "data": {
      "text/plain": [
       "<matplotlib.axes._subplots.AxesSubplot at 0x7f577e3cf450>"
      ]
     },
     "execution_count": 120,
     "metadata": {},
     "output_type": "execute_result"
    },
    {
     "data": {
      "image/png": "[encoded data removed]",
      "text/plain": [
       "<Figure size 432x288 with 1 Axes>"
      ]
     },
     "metadata": {
      "needs_background": "light"
     },
     "output_type": "display_data"
    }
   ],
   "source": [
    "filtered_df = final_df.loc[final_df[\"Distance\"] == 2000]\n",
    "df = filtered_df.groupby([\"Class\"])[\"speed_mseg\"].mean()\n",
    "df = df.reset_index()\n",
    "\n",
    "df.plot(kind=\"scatter\", x=\"Class\", y=\"speed_mseg\")\n",
    "\n"
   ]
  },
  {
   "cell_type": "code",
   "execution_count": 127,
   "metadata": {},
   "outputs": [
    {
     "data": {
      "image/png": "[encoded data removed]",
      "text/plain": [
       "<Figure size 1080x1080 with 1 Axes>"
      ]
     },
     "metadata": {
      "needs_background": "light"
     },
     "output_type": "display_data"
    }
   ],
   "source": [
    "group_class = final_df.groupby(\"horse_ratings\")[\"Horse_id\"].count()\n",
    "plotHistogramSize (group_class, \"Number of races\", \"race class\", \"race class distribution\", 15,15,\"g\")\n"
   ]
  },
  {
   "cell_type": "code",
   "execution_count": 128,
   "metadata": {},
   "outputs": [
    {
     "data": {
      "text/plain": [
       "<matplotlib.axes._subplots.AxesSubplot at 0x7f577e80c4d0>"
      ]
     },
     "execution_count": 128,
     "metadata": {},
     "output_type": "execute_result"
    },
    {
     "data": {
      "image/png": "[encoded data removed]",
      "text/plain": [
       "<Figure size 432x288 with 1 Axes>"
      ]
     },
     "metadata": {
      "needs_background": "light"
     },
     "output_type": "display_data"
    }
   ],
   "source": [
    "df = final_df.groupby([\"Class\"])[\"Actual_weight\"].mean()\n",
    "df = df.reset_index()\n",
    "\n",
    "df.plot(kind=\"scatter\", x=\"Class\", y=\"Actual_weight\")"
   ]
  },
  {
   "cell_type": "markdown",
   "metadata": {},
   "source": [
    "# JORGE WORK"
   ]
  },
  {
   "cell_type": "code",
   "execution_count": 30,
   "metadata": {},
   "outputs": [
    {
     "data": {
      "image/png": "[encoded data removed]",
      "text/plain": [
       "<Figure size 432x288 with 1 Axes>"
      ]
     },
     "metadata": {
      "needs_background": "light"
     },
     "output_type": "display_data"
    }
   ],
   "source": [
    "# Type of Track\n",
    "track_type = final_df[\"Track\"]\n",
    "track_type.value_counts().plot(kind  = \"bar\")\n",
    "plt.xlabel(\"Track\")\n",
    "plt.ylabel(\"Times used\")\n",
    "plt.show()"
   ]
  },
  {
   "cell_type": "code",
   "execution_count": 31,
   "metadata": {},
   "outputs": [
    {
     "data": {
      "image/png": "[encoded data removed]",
      "text/plain": [
       "<Figure size 432x288 with 1 Axes>"
      ]
     },
     "metadata": {
      "needs_background": "light"
     },
     "output_type": "display_data"
    }
   ],
   "source": [
    "# Track condition \n",
    "track_condition = final_df[\"Surface_condition\"]\n",
    "track_condition.value_counts().plot(kind = \"bar\")\n",
    "plt.xlabel(\"Track condition\")\n",
    "plt.ylabel(\"Times used\")\n",
    "plt.show()"
   ]
  },
  {
   "cell_type": "code",
   "execution_count": 32,
   "metadata": {},
   "outputs": [
    {
     "data": {
      "image/png": "[encoded data removed]",
      "text/plain": [
       "<Figure size 432x288 with 1 Axes>"
      ]
     },
     "metadata": {
      "needs_background": "light"
     },
     "output_type": "display_data"
    }
   ],
   "source": [
    "# Checking if weight has something ot do with winning\n",
    "weight = final_df.groupby(\"Actual_weight\")[\"Won\"].mean()\n",
    "weight.plot.bar()\n",
    "plt.xlabel(\"Actual weight (Lbs)\")\n",
    "plt.ylabel(\"Winning rate\")\n",
    "plt.show()"
   ]
  },
  {
   "cell_type": "code",
   "execution_count": 33,
   "metadata": {},
   "outputs": [
    {
     "data": {
      "text/plain": [
       "CONTENTMENT      9\n",
       "BEAUTY ONLY      7\n",
       "LUCKY YEAR       7\n",
       "SUN JEWELLERY    7\n",
       "ABLE FRIEND      7\n",
       "Name: Horse_name, dtype: int64"
      ]
     },
     "execution_count": 33,
     "metadata": {},
     "output_type": "execute_result"
    }
   ],
   "source": [
    "# Looking up the horses that have won the most\n",
    "winnings = final_df.query(\"Won == 1\")\n",
    "horses_win = winnings[\"Horse_name\"].value_counts()\n",
    "horses_win.head()\n"
   ]
  },
  {
   "cell_type": "code",
   "execution_count": 35,
   "metadata": {},
   "outputs": [
    {
     "data": {
      "image/png": "[encoded data removed]",
      "text/plain": [
       "<Figure size 432x288 with 1 Axes>"
      ]
     },
     "metadata": {
      "needs_background": "light"
     },
     "output_type": "display_data"
    }
   ],
   "source": [
    "#Finding all data for the most profitable horse in the racing history\n",
    "horse_1 = final_df[final_df[\"Horse_name\"] == \"CONTENTMENT\"]\n",
    "\n",
    "# Distance ran by the horse\n",
    "plt.scatter(horse_1[\"Horse_age\"], horse_1[\"Distance\"])\n",
    "plt.xlabel(\"Horse age (years)\")\n",
    "plt.ylabel(\"Distance (m)\")\n",
    "plt.show()"
   ]
  },
  {
   "cell_type": "code",
   "execution_count": 36,
   "metadata": {},
   "outputs": [
    {
     "data": {
      "image/png": "[encoded data removed]",
      "text/plain": [
       "<Figure size 432x288 with 1 Axes>"
      ]
     },
     "metadata": {
      "needs_background": "light"
     },
     "output_type": "display_data"
    }
   ],
   "source": [
    "# Horse pposition along its life\n",
    "\n",
    "plt.scatter(horse_1[\"Horse_age\"], horse_1[\"Final_position\"])\n",
    "plt.xlabel(\"Horse age (years)\")\n",
    "plt.ylabel(\"Position\")\n",
    "plt.show()"
   ]
  },
  {
   "cell_type": "code",
   "execution_count": 37,
   "metadata": {},
   "outputs": [
    {
     "name": "stdout",
     "output_type": "stream",
     "text": [
      "The r-squared value is: 0.4745295646600449\n"
     ]
    },
    {
     "data": {
      "image/png": "[encoded data removed]",
      "text/plain": [
       "<Figure size 432x288 with 1 Axes>"
      ]
     },
     "metadata": {
      "needs_background": "light"
     },
     "output_type": "display_data"
    }
   ],
   "source": [
    "# Final position vs actual weight\n",
    "plt.scatter(horse_1[\"Actual_weight\"], horse_1[\"Final_position\"])\n",
    "\n",
    "(slope, intercept, rvalue, pvalue, stderr) = linregress(horse_1[\"Actual_weight\"], horse_1[\"Final_position\"])\n",
    "regress_values = horse_1[\"Actual_weight\"] * slope + intercept\n",
    "plt.plot(horse_1[\"Actual_weight\"], regress_values, \"r-\")\n",
    "line_eq = \"y = \" + str(round(slope, 2)) + \"x + \" + str(round(intercept, 2))\n",
    "plt.annotate(line_eq, (117,8), fontsize=15, color=\"red\")\n",
    "\n",
    "print(f\"The r-squared value is: {rvalue}\")\n",
    "plt.xlabel(\"Actual weight\")\n",
    "plt.ylabel(\"Position\")\n",
    "plt.show()"
   ]
  },
  {
   "cell_type": "code",
   "execution_count": 38,
   "metadata": {},
   "outputs": [
    {
     "name": "stdout",
     "output_type": "stream",
     "text": [
      "The r-squared value is: 0.10641544461869006\n"
     ]
    },
    {
     "data": {
      "image/png": "[encoded data removed]",
      "text/plain": [
       "<Figure size 432x288 with 1 Axes>"
      ]
     },
     "metadata": {
      "needs_background": "light"
     },
     "output_type": "display_data"
    }
   ],
   "source": [
    "# Final position vs declared weight\n",
    "plt.scatter(horse_1[\"Declared_weight\"], horse_1[\"Final_position\"])\n",
    "\n",
    "(slope, intercept, rvalue, pvalue, stderr) = linregress(horse_1[\"Declared_weight\"], horse_1[\"Final_position\"])\n",
    "regress_values = horse_1[\"Declared_weight\"] * slope + intercept\n",
    "plt.plot(horse_1[\"Declared_weight\"], regress_values, \"r-\")\n",
    "line_eq = \"y = \" + str(round(slope, 2)) + \"x + \" + str(round(intercept, 2))\n",
    "plt.annotate(line_eq, (1120,8), fontsize=15, color=\"red\")\n",
    "\n",
    "print(f\"The r-squared value is: {rvalue}\")\n",
    "plt.xlabel(\"Declared_weight\")\n",
    "plt.ylabel(\"Position\")\n",
    "plt.show()"
   ]
  },
  {
   "cell_type": "code",
   "execution_count": 39,
   "metadata": {},
   "outputs": [
    {
     "name": "stdout",
     "output_type": "stream",
     "text": [
      "The r-squared value is: 0.33357127422364047\n"
     ]
    },
    {
     "data": {
      "image/png": "[encoded data removed]",
      "text/plain": [
       "<Figure size 432x288 with 1 Axes>"
      ]
     },
     "metadata": {
      "needs_background": "light"
     },
     "output_type": "display_data"
    }
   ],
   "source": [
    "# Actual weight vs declared weight\n",
    "plt.scatter(horse_1[\"Declared_weight\"], horse_1[\"Actual_weight\"])\n",
    "\n",
    "(slope, intercept, rvalue, pvalue, stderr) = linregress(horse_1[\"Declared_weight\"], horse_1[\"Actual_weight\"])\n",
    "regress_values = horse_1[\"Declared_weight\"] * slope + intercept\n",
    "plt.plot(horse_1[\"Declared_weight\"], regress_values, \"r-\")\n",
    "line_eq = \"y = \" + str(round(slope, 2)) + \"x + \" + str(round(intercept, 2))\n",
    "plt.annotate(line_eq, (1120,130), fontsize=15, color=\"red\")\n",
    "\n",
    "print(f\"The r-squared value is: {rvalue}\")\n",
    "plt.xlabel(\"Declared weight\")\n",
    "plt.ylabel(\"Actual weight\")\n",
    "plt.show()"
   ]
  },
  {
   "cell_type": "code",
   "execution_count": 40,
   "metadata": {},
   "outputs": [
    {
     "data": {
      "image/png": "[encoded data removed]",
      "text/plain": [
       "<Figure size 432x288 with 1 Axes>"
      ]
     },
     "metadata": {
      "needs_background": "light"
     },
     "output_type": "display_data"
    },
    {
     "name": "stdout",
     "output_type": "stream",
     "text": [
      "GOOD            14\n",
      "GOOD TO FIRM     8\n",
      "Name: Surface_condition, dtype: int64\n",
      "1     9\n",
      "5     3\n",
      "2     3\n",
      "4     2\n",
      "3     2\n",
      "10    1\n",
      "9     1\n",
      "7     1\n",
      "Name: Final_position, dtype: int64\n"
     ]
    }
   ],
   "source": [
    "# Plotting the number of times the horse ran in a track with certain consitions\n",
    "plt.scatter(horse_1[\"Surface_condition\"], horse_1[\"Final_position\"])\n",
    "\n",
    "plt.xlabel(\"Surface condition\")\n",
    "plt.ylabel(\"Final position\")\n",
    "plt.show()\n",
    "\n",
    "print(horse_1[\"Surface_condition\"].value_counts())\n",
    "print(horse_1[\"Final_position\"].value_counts())"
   ]
  },
  {
   "cell_type": "code",
   "execution_count": 41,
   "metadata": {},
   "outputs": [
    {
     "data": {
      "image/png": "[encoded data removed]",
      "text/plain": [
       "<Figure size 1080x288 with 1 Axes>"
      ]
     },
     "metadata": {
      "needs_background": "light"
     },
     "output_type": "display_data"
    }
   ],
   "source": [
    "# Most frequent horses\n",
    "final_df[\"Horse_name\"].value_counts().plot(figsize = (15, 4))\n",
    "plt.xlabel(\"Horse name\")\n",
    "plt.ylabel(\"Times participated\")\n",
    "plt.legend()\n",
    "plt.show()\n",
    "\n"
   ]
  },
  {
   "cell_type": "code",
   "execution_count": 129,
   "metadata": {},
   "outputs": [
    {
     "data": {
      "text/html": [
       "<div>\n",
       "<style scoped>\n",
       "    .dataframe tbody tr th:only-of-type {\n",
       "        vertical-align: middle;\n",
       "    }\n",
       "\n",
       "    .dataframe tbody tr th {\n",
       "        vertical-align: top;\n",
       "    }\n",
       "\n",
       "    .dataframe thead th {\n",
       "        text-align: right;\n",
       "    }\n",
       "</style>\n",
       "<table border=\"1\" class=\"dataframe\">\n",
       "  <thead>\n",
       "    <tr style=\"text-align: right;\">\n",
       "      <th></th>\n",
       "      <th>Horse name</th>\n",
       "      <th>Participated</th>\n",
       "      <th>Won</th>\n",
       "      <th>Winning rate (%)</th>\n",
       "    </tr>\n",
       "  </thead>\n",
       "  <tbody>\n",
       "    <tr>\n",
       "      <th>0</th>\n",
       "      <td>ROCK THE TREE</td>\n",
       "      <td>39</td>\n",
       "      <td>2</td>\n",
       "      <td>5.128205</td>\n",
       "    </tr>\n",
       "    <tr>\n",
       "      <th>1</th>\n",
       "      <td>ROYAL PARTNER</td>\n",
       "      <td>39</td>\n",
       "      <td>2</td>\n",
       "      <td>5.128205</td>\n",
       "    </tr>\n",
       "    <tr>\n",
       "      <th>2</th>\n",
       "      <td>ST YAZIN</td>\n",
       "      <td>38</td>\n",
       "      <td>3</td>\n",
       "      <td>7.894737</td>\n",
       "    </tr>\n",
       "    <tr>\n",
       "      <th>3</th>\n",
       "      <td>SAFARI MAGIC</td>\n",
       "      <td>36</td>\n",
       "      <td>1</td>\n",
       "      <td>2.777778</td>\n",
       "    </tr>\n",
       "    <tr>\n",
       "      <th>4</th>\n",
       "      <td>INDUSTRIALIST WAY</td>\n",
       "      <td>36</td>\n",
       "      <td>3</td>\n",
       "      <td>8.333333</td>\n",
       "    </tr>\n",
       "    <tr>\n",
       "      <th>5</th>\n",
       "      <td>SWEET BEAN</td>\n",
       "      <td>36</td>\n",
       "      <td>4</td>\n",
       "      <td>11.111111</td>\n",
       "    </tr>\n",
       "    <tr>\n",
       "      <th>6</th>\n",
       "      <td>HIGH SPEED METRO</td>\n",
       "      <td>35</td>\n",
       "      <td>4</td>\n",
       "      <td>11.428571</td>\n",
       "    </tr>\n",
       "    <tr>\n",
       "      <th>7</th>\n",
       "      <td>ROBUST MOMENTUM</td>\n",
       "      <td>34</td>\n",
       "      <td>3</td>\n",
       "      <td>8.823529</td>\n",
       "    </tr>\n",
       "    <tr>\n",
       "      <th>8</th>\n",
       "      <td>WIN IT</td>\n",
       "      <td>34</td>\n",
       "      <td>4</td>\n",
       "      <td>11.764706</td>\n",
       "    </tr>\n",
       "    <tr>\n",
       "      <th>9</th>\n",
       "      <td>VANILLA</td>\n",
       "      <td>34</td>\n",
       "      <td>3</td>\n",
       "      <td>8.823529</td>\n",
       "    </tr>\n",
       "  </tbody>\n",
       "</table>\n",
       "</div>"
      ],
      "text/plain": [
       "          Horse name  Participated  Won  Winning rate (%)\n",
       "0      ROCK THE TREE            39    2          5.128205\n",
       "1      ROYAL PARTNER            39    2          5.128205\n",
       "2           ST YAZIN            38    3          7.894737\n",
       "3       SAFARI MAGIC            36    1          2.777778\n",
       "4  INDUSTRIALIST WAY            36    3          8.333333\n",
       "5         SWEET BEAN            36    4         11.111111\n",
       "6   HIGH SPEED METRO            35    4         11.428571\n",
       "7    ROBUST MOMENTUM            34    3          8.823529\n",
       "8             WIN IT            34    4         11.764706\n",
       "9            VANILLA            34    3          8.823529"
      ]
     },
     "execution_count": 129,
     "metadata": {},
     "output_type": "execute_result"
    }
   ],
   "source": [
    "# Data frame to find the horses that have participated the most\n",
    "horse_name_df = final_df[\"Horse_name\"].value_counts()\n",
    "horse_name_df = pd.DataFrame(horse_name_df).reset_index()\n",
    "horse_name_df = horse_name_df.rename(columns={\"index\": \"Horse name\", \"Horse_name\": \"Participated\"})\n",
    "# Taking only a fixed number of first horses\n",
    "num = 10\n",
    "horse_name_df = horse_name_df.query(\"Participated > 30\").head(num)\n",
    "\n",
    "# Adding new columns to the previous dataframe\n",
    "horse_name_df[\"Won\"] = \"\"\n",
    "horse_name_df[\"Winning rate (%)\"] = \"\"\n",
    "\n",
    "# Arrays to store the new data\n",
    "winning = []\n",
    "rate = []\n",
    "\n",
    "for i in range(num):\n",
    "    # Getting the names of the most frequently participated horses\n",
    "    name = horse_name_df[\"Horse name\"][i]\n",
    "    # Getting the data from the original dataframe that corresponds to the selected horse and taking the \"Won\" column\n",
    "    name_win_1 = final_df[final_df[\"Horse_name\"] == name][\"Won\"]\n",
    "    name_win_2 = final_df[final_df[\"Horse_name\"] == name][\"Won\"]\n",
    "    # Getting the number of winnings and losses\n",
    "    w = name_win_1.value_counts()[1]\n",
    "    l = name_win_2.value_counts()[0]\n",
    "    # Assigning them to the arrays\n",
    "    winning.append(w)\n",
    "    rate.append(w / (w+l) * 100)\n",
    "\n",
    "# Adding data to the dataframe\n",
    "horse_name_df[\"Won\"] = winning\n",
    "horse_name_df[\"Winning rate (%)\"] = rate\n",
    "\n",
    "horse_name_df.sort_values(\"\")\n"
   ]
  },
  {
   "cell_type": "code",
   "execution_count": 43,
   "metadata": {},
   "outputs": [
    {
     "data": {
      "image/png": "[encoded data removed]",
      "text/plain": [
       "<Figure size 720x288 with 1 Axes>"
      ]
     },
     "metadata": {
      "needs_background": "light"
     },
     "output_type": "display_data"
    }
   ],
   "source": [
    "final_df[\"Jockey\"].value_counts().plot(figsize = (10, 4))\n",
    "plt.xlabel(\"Jockey\")\n",
    "plt.ylabel(\"Times participated\")\n",
    "plt.legend()\n",
    "plt.show()"
   ]
  },
  {
   "cell_type": "code",
   "execution_count": 44,
   "metadata": {},
   "outputs": [
    {
     "data": {
      "text/html": [
       "<div>\n",
       "<style scoped>\n",
       "    .dataframe tbody tr th:only-of-type {\n",
       "        vertical-align: middle;\n",
       "    }\n",
       "\n",
       "    .dataframe tbody tr th {\n",
       "        vertical-align: top;\n",
       "    }\n",
       "\n",
       "    .dataframe thead th {\n",
       "        text-align: right;\n",
       "    }\n",
       "</style>\n",
       "<table border=\"1\" class=\"dataframe\">\n",
       "  <thead>\n",
       "    <tr style=\"text-align: right;\">\n",
       "      <th></th>\n",
       "      <th>Jockey</th>\n",
       "      <th>Participated</th>\n",
       "      <th>Won</th>\n",
       "      <th>Winning rate (%)</th>\n",
       "    </tr>\n",
       "  </thead>\n",
       "  <tbody>\n",
       "    <tr>\n",
       "      <th>0</th>\n",
       "      <td>J Moreira</td>\n",
       "      <td>1472</td>\n",
       "      <td>364</td>\n",
       "      <td>24.728261</td>\n",
       "    </tr>\n",
       "    <tr>\n",
       "      <th>1</th>\n",
       "      <td>K Teetan</td>\n",
       "      <td>1282</td>\n",
       "      <td>84</td>\n",
       "      <td>6.552262</td>\n",
       "    </tr>\n",
       "    <tr>\n",
       "      <th>2</th>\n",
       "      <td>D Whyte</td>\n",
       "      <td>1281</td>\n",
       "      <td>125</td>\n",
       "      <td>9.758002</td>\n",
       "    </tr>\n",
       "  </tbody>\n",
       "</table>\n",
       "</div>"
      ],
      "text/plain": [
       "      Jockey  Participated  Won  Winning rate (%)\n",
       "0  J Moreira          1472  364         24.728261\n",
       "1   K Teetan          1282   84          6.552262\n",
       "2    D Whyte          1281  125          9.758002"
      ]
     },
     "execution_count": 44,
     "metadata": {},
     "output_type": "execute_result"
    }
   ],
   "source": [
    "# Data frame to find the jockeys that have participated the most\n",
    "jockey_name_df = final_df[\"Jockey\"].value_counts()\n",
    "jockey_name_df = pd.DataFrame(jockey_name_df).reset_index()\n",
    "jockey_name_df = jockey_name_df.rename(columns={\"index\": \"Jockey\", \"Jockey\": \"Participated\"})\n",
    "# Taking only a fixed number of first jockeys\n",
    "num = 3\n",
    "jockey_name_df = jockey_name_df.query(\"Participated > 30\").head(num)\n",
    "\n",
    "# Adding new columns to the previous dataframe\n",
    "jockey_name_df[\"Won\"] = \"\"\n",
    "jockey_name_df[\"Winning rate (%)\"] = \"\"\n",
    "\n",
    "# Arrays to store the new data\n",
    "winning = []\n",
    "rate = []\n",
    "\n",
    "for i in range(num):\n",
    "    # Getting the names of the most frequently participated jockeys\n",
    "    name = jockey_name_df[\"Jockey\"][i]\n",
    "    # Getting the data from the original dataframe that corresponds to the selected jockey and taking the \"Won\" column\n",
    "    name_win_1 = final_df[final_df[\"Jockey\"] == name][\"Won\"]\n",
    "    name_win_2 = final_df[final_df[\"Jockey\"] == name][\"Won\"]\n",
    "    # Getting the number of winnings and losses\n",
    "    w = name_win_1.value_counts()[1]\n",
    "    l = name_win_2.value_counts()[0]\n",
    "    # Assigning them to the arrays\n",
    "    winning.append(w)\n",
    "    rate.append(w / (w+l) * 100)\n",
    "\n",
    "# Adding data to the dataframe\n",
    "jockey_name_df[\"Won\"] = winning\n",
    "jockey_name_df[\"Winning rate (%)\"] = rate\n",
    "\n",
    "jockey_name_df"
   ]
  },
  {
   "cell_type": "code",
   "execution_count": 45,
   "metadata": {},
   "outputs": [
    {
     "data": {
      "image/png": "[encoded data removed]",
      "text/plain": [
       "<Figure size 720x288 with 1 Axes>"
      ]
     },
     "metadata": {
      "needs_background": "light"
     },
     "output_type": "display_data"
    }
   ],
   "source": [
    "final_df[\"Trainer\"].value_counts().plot(figsize = (10, 4))\n",
    "plt.xlabel(\"Trainer\")\n",
    "plt.ylabel(\"Times participated\")\n",
    "plt.legend()\n",
    "plt.show()"
   ]
  },
  {
   "cell_type": "code",
   "execution_count": 46,
   "metadata": {},
   "outputs": [
    {
     "data": {
      "text/html": [
       "<div>\n",
       "<style scoped>\n",
       "    .dataframe tbody tr th:only-of-type {\n",
       "        vertical-align: middle;\n",
       "    }\n",
       "\n",
       "    .dataframe tbody tr th {\n",
       "        vertical-align: top;\n",
       "    }\n",
       "\n",
       "    .dataframe thead th {\n",
       "        text-align: right;\n",
       "    }\n",
       "</style>\n",
       "<table border=\"1\" class=\"dataframe\">\n",
       "  <thead>\n",
       "    <tr style=\"text-align: right;\">\n",
       "      <th></th>\n",
       "      <th>Trainer</th>\n",
       "      <th>Participated</th>\n",
       "      <th>Won</th>\n",
       "      <th>Winning rate (%)</th>\n",
       "    </tr>\n",
       "  </thead>\n",
       "  <tbody>\n",
       "    <tr>\n",
       "      <th>0</th>\n",
       "      <td>A S Cruz</td>\n",
       "      <td>1287</td>\n",
       "      <td>113</td>\n",
       "      <td>8.780109</td>\n",
       "    </tr>\n",
       "    <tr>\n",
       "      <th>1</th>\n",
       "      <td>C Fownes</td>\n",
       "      <td>1282</td>\n",
       "      <td>116</td>\n",
       "      <td>9.048362</td>\n",
       "    </tr>\n",
       "    <tr>\n",
       "      <th>2</th>\n",
       "      <td>C H Yip</td>\n",
       "      <td>1261</td>\n",
       "      <td>75</td>\n",
       "      <td>5.947661</td>\n",
       "    </tr>\n",
       "  </tbody>\n",
       "</table>\n",
       "</div>"
      ],
      "text/plain": [
       "    Trainer  Participated  Won  Winning rate (%)\n",
       "0  A S Cruz          1287  113          8.780109\n",
       "1  C Fownes          1282  116          9.048362\n",
       "2   C H Yip          1261   75          5.947661"
      ]
     },
     "execution_count": 46,
     "metadata": {},
     "output_type": "execute_result"
    }
   ],
   "source": [
    "# Data frame to find the trainers that have trained the most horses\n",
    "trainer_name_df = final_df[\"Trainer\"].value_counts()\n",
    "trainer_name_df = pd.DataFrame(trainer_name_df).reset_index()\n",
    "trainer_name_df = trainer_name_df.rename(columns={\"index\": \"Trainer\", \"Trainer\": \"Participated\"})\n",
    "# Taking only a fixed number of first jockeys\n",
    "num = 3\n",
    "trainer_name_df = trainer_name_df.query(\"Participated > 30\").head(num)\n",
    "\n",
    "# Adding new columns to the previous dataframe\n",
    "trainer_name_df[\"Won\"] = \"\"\n",
    "trainer_name_df[\"Winning rate (%)\"] = \"\"\n",
    "\n",
    "# Arrays to store the new data\n",
    "winning = []\n",
    "rate = []\n",
    "\n",
    "for i in range(num):\n",
    "    # Getting the names of the most frequently participated trainers\n",
    "    name = trainer_name_df[\"Trainer\"][i]\n",
    "    # Getting the data from the original dataframe that corresponds to the selected trainer and taking the \"Won\" column\n",
    "    name_win_1 = final_df[final_df[\"Trainer\"] == name][\"Won\"]\n",
    "    name_win_2 = final_df[final_df[\"Trainer\"] == name][\"Won\"]\n",
    "    # Getting the number of winnings and losses\n",
    "    w = name_win_1.value_counts()[1]\n",
    "    l = name_win_2.value_counts()[0]\n",
    "    # Assigning them to the arrays\n",
    "    winning.append(w)\n",
    "    rate.append(w / (w+l) * 100)\n",
    "\n",
    "# Adding data to the dataframe\n",
    "trainer_name_df[\"Won\"] = winning\n",
    "trainer_name_df[\"Winning rate (%)\"] = rate\n",
    "\n",
    "trainer_name_df"
   ]
  },
  {
   "cell_type": "code",
   "execution_count": null,
   "metadata": {},
   "outputs": [],
   "source": []
  }
 ],
 "metadata": {
  "kernelspec": {
   "display_name": "Python 3",
   "language": "python",
   "name": "python3"
  },
  "language_info": {
   "codemirror_mode": {
    "name": "ipython",
    "version": 3
   },
   "file_extension": ".py",
   "mimetype": "text/x-python",
   "name": "python",
   "nbconvert_exporter": "python",
   "pygments_lexer": "ipython3",
   "version": "3.7.6"
  }
 },
 "nbformat": 4,
 "nbformat_minor": 4
}
